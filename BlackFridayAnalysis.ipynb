{
  "nbformat": 4,
  "nbformat_minor": 0,
  "metadata": {
    "colab": {
      "name": "BlackFridayAnalysis.ipynb",
      "provenance": [],
      "toc_visible": true,
      "machine_shape": "hm"
    },
    "kernelspec": {
      "display_name": "Python 3",
      "name": "python3"
    }
  },
  "cells": [
    {
      "cell_type": "code",
      "metadata": {
        "colab": {
          "base_uri": "https://localhost:8080/"
        },
        "id": "m9_1huSQ8YRh",
        "outputId": "118fd1d5-613d-48a1-8338-319e3ff68ba2"
      },
      "source": [
        "!pip install simplejson\n",
        "!pip install pandas\n",
        "!pip install numpy\n",
        "!pip install pendulum"
      ],
      "execution_count": null,
      "outputs": [
        {
          "output_type": "stream",
          "text": [
            "Requirement already satisfied: simplejson in /usr/local/lib/python3.6/dist-packages (3.17.2)\n",
            "Requirement already satisfied: pandas in /usr/local/lib/python3.6/dist-packages (1.1.5)\n",
            "Requirement already satisfied: pytz>=2017.2 in /usr/local/lib/python3.6/dist-packages (from pandas) (2018.9)\n",
            "Requirement already satisfied: numpy>=1.15.4 in /usr/local/lib/python3.6/dist-packages (from pandas) (1.19.4)\n",
            "Requirement already satisfied: python-dateutil>=2.7.3 in /usr/local/lib/python3.6/dist-packages (from pandas) (2.8.1)\n",
            "Requirement already satisfied: six>=1.5 in /usr/local/lib/python3.6/dist-packages (from python-dateutil>=2.7.3->pandas) (1.15.0)\n",
            "Requirement already satisfied: numpy in /usr/local/lib/python3.6/dist-packages (1.19.4)\n",
            "Requirement already satisfied: pendulum in /usr/local/lib/python3.6/dist-packages (2.1.2)\n",
            "Requirement already satisfied: python-dateutil<3.0,>=2.6 in /usr/local/lib/python3.6/dist-packages (from pendulum) (2.8.1)\n",
            "Requirement already satisfied: pytzdata>=2020.1 in /usr/local/lib/python3.6/dist-packages (from pendulum) (2020.1)\n",
            "Requirement already satisfied: six>=1.5 in /usr/local/lib/python3.6/dist-packages (from python-dateutil<3.0,>=2.6->pendulum) (1.15.0)\n"
          ],
          "name": "stdout"
        }
      ]
    },
    {
      "cell_type": "code",
      "metadata": {
        "id": "ByFVMDqO1Sec"
      },
      "source": [
        "from google.colab import drive\n",
        "import pandas as pd\n",
        "import numpy as np\n",
        "import matplotlib.pyplot as plt\n",
        "import seaborn as sns\n",
        "import pendulum \n",
        "from collections import Counter\n",
        "import re"
      ],
      "execution_count": null,
      "outputs": []
    },
    {
      "cell_type": "markdown",
      "metadata": {
        "id": "CTMuwcSzx5mf"
      },
      "source": [
        "# **Data**\n",
        "\n",
        "**Data Collection**: To overcome the limitations set forth by Twitter APIs, we decided to use snscrape. Doing so gave us access to more tweets and a choice of time period on which we wanted to focus our study. Web scraping using snscrape is quite straighr forward. We ran two commands to get a high volume of tweets from two days; one normal day in the summer and the other, Black Friday 2020. \n",
        "\n",
        "Having installed snscrape on your computer, the following command can be run to scrape tweets:\n",
        "> `snscrape --jsonl --progress --max-results 38000 --since 2020-11-26 twitter-hashtag \"BlackFriday until:2020-11-28\" > BlackFridaytweets.json`\n",
        "\n",
        "This command fetches up to 38,000 tweets surround Black Friday and saves it in JSON format in the file \"BlackFridaytweets.json\"."
      ]
    },
    {
      "cell_type": "code",
      "metadata": {
        "colab": {
          "base_uri": "https://localhost:8080/"
        },
        "id": "nIGQ3A2O8SHW",
        "outputId": "f4a4c4a0-b1ec-4d99-e1ae-c4418960fe7b"
      },
      "source": [
        "drive.mount('/content/gdrive')\n",
        "path = './gdrive/MyDrive/TSW_data'"
      ],
      "execution_count": null,
      "outputs": [
        {
          "output_type": "stream",
          "text": [
            "Drive already mounted at /content/gdrive; to attempt to forcibly remount, call drive.mount(\"/content/gdrive\", force_remount=True).\n"
          ],
          "name": "stdout"
        }
      ]
    },
    {
      "cell_type": "markdown",
      "metadata": {
        "id": "0B1Am4ko0jRw"
      },
      "source": [
        "First, let us get a taste of the tweets scraped for this years' Black Friday."
      ]
    },
    {
      "cell_type": "code",
      "metadata": {
        "colab": {
          "base_uri": "https://localhost:8080/",
          "height": 479
        },
        "id": "yYxNoNOjA2hd",
        "outputId": "ea94bb5c-b2b4-4a16-bb00-898e3f2909ce"
      },
      "source": [
        "df_BF = pd.read_json('/content/gdrive/MyDrive/TSW_Data/BlackFridaytweets.json', lines = True)\n",
        "df_BF.head() #overview of the scraped data for tweets related to black friday. "
      ],
      "execution_count": null,
      "outputs": [
        {
          "output_type": "execute_result",
          "data": {
            "text/html": [
              "<div>\n",
              "<style scoped>\n",
              "    .dataframe tbody tr th:only-of-type {\n",
              "        vertical-align: middle;\n",
              "    }\n",
              "\n",
              "    .dataframe tbody tr th {\n",
              "        vertical-align: top;\n",
              "    }\n",
              "\n",
              "    .dataframe thead th {\n",
              "        text-align: right;\n",
              "    }\n",
              "</style>\n",
              "<table border=\"1\" class=\"dataframe\">\n",
              "  <thead>\n",
              "    <tr style=\"text-align: right;\">\n",
              "      <th></th>\n",
              "      <th>url</th>\n",
              "      <th>date</th>\n",
              "      <th>content</th>\n",
              "      <th>renderedContent</th>\n",
              "      <th>id</th>\n",
              "      <th>user</th>\n",
              "      <th>outlinks</th>\n",
              "      <th>tcooutlinks</th>\n",
              "      <th>replyCount</th>\n",
              "      <th>retweetCount</th>\n",
              "      <th>likeCount</th>\n",
              "      <th>quoteCount</th>\n",
              "      <th>conversationId</th>\n",
              "      <th>lang</th>\n",
              "      <th>source</th>\n",
              "      <th>sourceUrl</th>\n",
              "      <th>sourceLabel</th>\n",
              "      <th>media</th>\n",
              "      <th>retweetedTweet</th>\n",
              "      <th>quotedTweet</th>\n",
              "      <th>mentionedUsers</th>\n",
              "    </tr>\n",
              "  </thead>\n",
              "  <tbody>\n",
              "    <tr>\n",
              "      <th>0</th>\n",
              "      <td>https://twitter.com/roganuof/status/1332474283...</td>\n",
              "      <td>2020-11-27 23:59:59+00:00</td>\n",
              "      <td>@CCE_Guide Enjoy this #BlackFriday with #Daddy...</td>\n",
              "      <td>@CCE_Guide Enjoy this #BlackFriday with #Daddy...</td>\n",
              "      <td>1332474283298316290</td>\n",
              "      <td>{'username': 'roganuof', 'displayname': 'rogan...</td>\n",
              "      <td>[https://justfor.fans/roganuof?Source=Twitter&amp;...</td>\n",
              "      <td>[https://t.co/lWqfD557Z0]</td>\n",
              "      <td>0</td>\n",
              "      <td>0</td>\n",
              "      <td>0</td>\n",
              "      <td>0</td>\n",
              "      <td>1320395229485215746</td>\n",
              "      <td>en</td>\n",
              "      <td>&lt;a href=\"http://twitter.com/download/android\" ...</td>\n",
              "      <td>http://twitter.com/download/android</td>\n",
              "      <td>Twitter for Android</td>\n",
              "      <td>[{'thumbnailUrl': 'https://pbs.twimg.com/ext_t...</td>\n",
              "      <td>NaN</td>\n",
              "      <td>None</td>\n",
              "      <td>[{'username': 'CCE_Guide', 'displayname': 'CCE...</td>\n",
              "    </tr>\n",
              "    <tr>\n",
              "      <th>1</th>\n",
              "      <td>https://twitter.com/guestrevu/status/133247428...</td>\n",
              "      <td>2020-11-27 23:59:59+00:00</td>\n",
              "      <td>Get your hotel’s guest feedback and online rep...</td>\n",
              "      <td>Get your hotel’s guest feedback and online rep...</td>\n",
              "      <td>1332474282950189063</td>\n",
              "      <td>{'username': 'guestrevu', 'displayname': 'Gues...</td>\n",
              "      <td>[https://hubs.ly/H0BDLHS0]</td>\n",
              "      <td>[https://t.co/9CdstSDgIG]</td>\n",
              "      <td>0</td>\n",
              "      <td>0</td>\n",
              "      <td>1</td>\n",
              "      <td>0</td>\n",
              "      <td>1332474282950189063</td>\n",
              "      <td>en</td>\n",
              "      <td>&lt;a href=\"http://www.hubspot.com/\" rel=\"nofollo...</td>\n",
              "      <td>http://www.hubspot.com/</td>\n",
              "      <td>HubSpot</td>\n",
              "      <td>[{'previewUrl': 'https://pbs.twimg.com/media/E...</td>\n",
              "      <td>NaN</td>\n",
              "      <td>None</td>\n",
              "      <td>None</td>\n",
              "    </tr>\n",
              "    <tr>\n",
              "      <th>2</th>\n",
              "      <td>https://twitter.com/OneGrumpyBoi/status/133247...</td>\n",
              "      <td>2020-11-27 23:59:57+00:00</td>\n",
              "      <td>((WE ARE LIVE!)) [Destiny 2] Black Friday Dest...</td>\n",
              "      <td>((WE ARE LIVE!)) [Destiny 2] Black Friday Dest...</td>\n",
              "      <td>1332474274175737856</td>\n",
              "      <td>{'username': 'OneGrumpyBoi', 'displayname': 'O...</td>\n",
              "      <td>[https://twitch.tv/onegrumpyboi]</td>\n",
              "      <td>[https://t.co/E8EMWLM9VK]</td>\n",
              "      <td>0</td>\n",
              "      <td>2</td>\n",
              "      <td>4</td>\n",
              "      <td>0</td>\n",
              "      <td>1332474274175737856</td>\n",
              "      <td>en</td>\n",
              "      <td>&lt;a href=\"https://streamlabs.com\" rel=\"nofollow...</td>\n",
              "      <td>https://streamlabs.com</td>\n",
              "      <td>Streamlabs Twitter</td>\n",
              "      <td>None</td>\n",
              "      <td>NaN</td>\n",
              "      <td>None</td>\n",
              "      <td>None</td>\n",
              "    </tr>\n",
              "    <tr>\n",
              "      <th>3</th>\n",
              "      <td>https://twitter.com/Braunibrown/status/1332474...</td>\n",
              "      <td>2020-11-27 23:59:57+00:00</td>\n",
              "      <td>Viernes de estafa en Honduras. #BlackFriday202...</td>\n",
              "      <td>Viernes de estafa en Honduras. #BlackFriday202...</td>\n",
              "      <td>1332474271373856776</td>\n",
              "      <td>{'username': 'Braunibrown', 'displayname': '\\m...</td>\n",
              "      <td>[]</td>\n",
              "      <td>[]</td>\n",
              "      <td>0</td>\n",
              "      <td>0</td>\n",
              "      <td>0</td>\n",
              "      <td>0</td>\n",
              "      <td>1332474271373856776</td>\n",
              "      <td>es</td>\n",
              "      <td>&lt;a href=\"http://twitter.com/download/android\" ...</td>\n",
              "      <td>http://twitter.com/download/android</td>\n",
              "      <td>Twitter for Android</td>\n",
              "      <td>None</td>\n",
              "      <td>NaN</td>\n",
              "      <td>None</td>\n",
              "      <td>None</td>\n",
              "    </tr>\n",
              "    <tr>\n",
              "      <th>4</th>\n",
              "      <td>https://twitter.com/On_demand365/status/133247...</td>\n",
              "      <td>2020-11-27 23:59:55+00:00</td>\n",
              "      <td>Brand New Zebra Gk420 Direct thermal printer f...</td>\n",
              "      <td>Brand New Zebra Gk420 Direct thermal printer f...</td>\n",
              "      <td>1332474265040392194</td>\n",
              "      <td>{'username': 'On_demand365', 'displayname': 'O...</td>\n",
              "      <td>[]</td>\n",
              "      <td>[]</td>\n",
              "      <td>0</td>\n",
              "      <td>0</td>\n",
              "      <td>0</td>\n",
              "      <td>0</td>\n",
              "      <td>1332474265040392194</td>\n",
              "      <td>en</td>\n",
              "      <td>&lt;a href=\"https://mobile.twitter.com\" rel=\"nofo...</td>\n",
              "      <td>https://mobile.twitter.com</td>\n",
              "      <td>Twitter Web App</td>\n",
              "      <td>[{'previewUrl': 'https://pbs.twimg.com/media/E...</td>\n",
              "      <td>NaN</td>\n",
              "      <td>None</td>\n",
              "      <td>None</td>\n",
              "    </tr>\n",
              "  </tbody>\n",
              "</table>\n",
              "</div>"
            ],
            "text/plain": [
              "                                                 url  ...                                     mentionedUsers\n",
              "0  https://twitter.com/roganuof/status/1332474283...  ...  [{'username': 'CCE_Guide', 'displayname': 'CCE...\n",
              "1  https://twitter.com/guestrevu/status/133247428...  ...                                               None\n",
              "2  https://twitter.com/OneGrumpyBoi/status/133247...  ...                                               None\n",
              "3  https://twitter.com/Braunibrown/status/1332474...  ...                                               None\n",
              "4  https://twitter.com/On_demand365/status/133247...  ...                                               None\n",
              "\n",
              "[5 rows x 21 columns]"
            ]
          },
          "metadata": {
            "tags": []
          },
          "execution_count": 97
        }
      ]
    },
    {
      "cell_type": "code",
      "metadata": {
        "colab": {
          "base_uri": "https://localhost:8080/"
        },
        "id": "aAm2xL2wxvBr",
        "outputId": "526d895d-ceb9-4e17-a526-0c5399209991"
      },
      "source": [
        "len(df_BF) #we have 36,110 tweets."
      ],
      "execution_count": null,
      "outputs": [
        {
          "output_type": "execute_result",
          "data": {
            "text/plain": [
              "36110"
            ]
          },
          "metadata": {
            "tags": []
          },
          "execution_count": 98
        }
      ]
    },
    {
      "cell_type": "markdown",
      "metadata": {
        "id": "f77Me1yL0DTg"
      },
      "source": [
        "Let us drop non-english tweets from the dataset. "
      ]
    },
    {
      "cell_type": "code",
      "metadata": {
        "colab": {
          "base_uri": "https://localhost:8080/"
        },
        "id": "rcMFFZjQxCgn",
        "outputId": "2eaa2eeb-a1e4-4d90-af49-d1c49d1b042d"
      },
      "source": [
        "df_BF = df_BF[df_BF['lang'] == 'en'] \n",
        "len(df_BF)"
      ],
      "execution_count": null,
      "outputs": [
        {
          "output_type": "execute_result",
          "data": {
            "text/plain": [
              "25224"
            ]
          },
          "metadata": {
            "tags": []
          },
          "execution_count": 99
        }
      ]
    },
    {
      "cell_type": "markdown",
      "metadata": {
        "id": "x46x0SNO0Sk6"
      },
      "source": [
        "We now have 25,224 tweets that are in English. \n",
        "\n",
        "\n",
        "Now, let us repeat the actions for a second dataset of tweets scraped from August 31,2020. The command for this:\n",
        ">  `snscrape --jsonl --progress --max-results 30000 --since 2020-07-31 twitter-hashtag \"Shopping until:2020-08-31\" > Shopping.json`\n",
        "We use the keyword \"Shopping\" here to gather tweets related to shopping in this time period."
      ]
    },
    {
      "cell_type": "code",
      "metadata": {
        "colab": {
          "base_uri": "https://localhost:8080/",
          "height": 479
        },
        "id": "wN9M9LnCxeXc",
        "outputId": "a1fab002-5334-491e-8955-a8fb4368699b"
      },
      "source": [
        "df_NBF = pd.read_json('/content/gdrive/MyDrive/TSW_Data/shopping.json', lines = True)\n",
        "df_NBF.head() #overview of the scraped data for the month of august for tweets related to shopping."
      ],
      "execution_count": null,
      "outputs": [
        {
          "output_type": "execute_result",
          "data": {
            "text/html": [
              "<div>\n",
              "<style scoped>\n",
              "    .dataframe tbody tr th:only-of-type {\n",
              "        vertical-align: middle;\n",
              "    }\n",
              "\n",
              "    .dataframe tbody tr th {\n",
              "        vertical-align: top;\n",
              "    }\n",
              "\n",
              "    .dataframe thead th {\n",
              "        text-align: right;\n",
              "    }\n",
              "</style>\n",
              "<table border=\"1\" class=\"dataframe\">\n",
              "  <thead>\n",
              "    <tr style=\"text-align: right;\">\n",
              "      <th></th>\n",
              "      <th>url</th>\n",
              "      <th>date</th>\n",
              "      <th>content</th>\n",
              "      <th>renderedContent</th>\n",
              "      <th>id</th>\n",
              "      <th>user</th>\n",
              "      <th>outlinks</th>\n",
              "      <th>tcooutlinks</th>\n",
              "      <th>replyCount</th>\n",
              "      <th>retweetCount</th>\n",
              "      <th>likeCount</th>\n",
              "      <th>quoteCount</th>\n",
              "      <th>conversationId</th>\n",
              "      <th>lang</th>\n",
              "      <th>source</th>\n",
              "      <th>sourceUrl</th>\n",
              "      <th>sourceLabel</th>\n",
              "      <th>media</th>\n",
              "      <th>retweetedTweet</th>\n",
              "      <th>quotedTweet</th>\n",
              "      <th>mentionedUsers</th>\n",
              "    </tr>\n",
              "  </thead>\n",
              "  <tbody>\n",
              "    <tr>\n",
              "      <th>0</th>\n",
              "      <td>https://twitter.com/jonak18/status/13002216737...</td>\n",
              "      <td>2020-08-30 23:59:38+00:00</td>\n",
              "      <td>🔥 Umorden Family Cleopatra Cosplay for Women G...</td>\n",
              "      <td>🔥 Umorden Family Cleopatra Cosplay for Women G...</td>\n",
              "      <td>1300221673719959556</td>\n",
              "      <td>{'username': 'jonak18', 'displayname': 'jonak'...</td>\n",
              "      <td>[https://bit.ly/2C42ASe]</td>\n",
              "      <td>[https://t.co/LYgW4PyrPG]</td>\n",
              "      <td>0</td>\n",
              "      <td>0</td>\n",
              "      <td>0</td>\n",
              "      <td>0</td>\n",
              "      <td>1300221673719959556</td>\n",
              "      <td>en</td>\n",
              "      <td>&lt;a href=\"https://socialrabbitplugin.com/\" rel=...</td>\n",
              "      <td>https://socialrabbitplugin.com/</td>\n",
              "      <td>SocialRabbit Plugin</td>\n",
              "      <td>[{'previewUrl': 'https://pbs.twimg.com/media/E...</td>\n",
              "      <td>NaN</td>\n",
              "      <td>None</td>\n",
              "      <td>None</td>\n",
              "    </tr>\n",
              "    <tr>\n",
              "      <th>1</th>\n",
              "      <td>https://twitter.com/shoptropicalB/status/13002...</td>\n",
              "      <td>2020-08-30 23:58:57+00:00</td>\n",
              "      <td>🌸🌴 NEW ARRIVALS EVERY SUNDAY 🌴🌸 \\n•\\n•\\n•\\n\\n•...</td>\n",
              "      <td>🌸🌴 NEW ARRIVALS EVERY SUNDAY 🌴🌸 \\n•\\n•\\n•\\n\\n•...</td>\n",
              "      <td>1300221501745106944</td>\n",
              "      <td>{'username': 'shoptropicalB', 'displayname': '...</td>\n",
              "      <td>[https://www.instagram.com/p/CEiGJFEJmfI/?igsh...</td>\n",
              "      <td>[https://t.co/PmmLScoXU0]</td>\n",
              "      <td>0</td>\n",
              "      <td>0</td>\n",
              "      <td>0</td>\n",
              "      <td>0</td>\n",
              "      <td>1300221501745106944</td>\n",
              "      <td>en</td>\n",
              "      <td>&lt;a href=\"http://instagram.com\" rel=\"nofollow\"&gt;...</td>\n",
              "      <td>http://instagram.com</td>\n",
              "      <td>Instagram</td>\n",
              "      <td>None</td>\n",
              "      <td>NaN</td>\n",
              "      <td>None</td>\n",
              "      <td>None</td>\n",
              "    </tr>\n",
              "    <tr>\n",
              "      <th>2</th>\n",
              "      <td>https://twitter.com/SaversUsa/status/130022097...</td>\n",
              "      <td>2020-08-30 23:56:52+00:00</td>\n",
              "      <td>https://t.co/BxkGS4NrJq Decanter Globe Set wit...</td>\n",
              "      <td>saversspotusa.com/product/whiske… Decanter Glo...</td>\n",
              "      <td>1300220978530721793</td>\n",
              "      <td>{'username': 'SaversUsa', 'displayname': 'Save...</td>\n",
              "      <td>[https://saversspotusa.com/product/whiskey-dec...</td>\n",
              "      <td>[https://t.co/BxkGS4NrJq]</td>\n",
              "      <td>0</td>\n",
              "      <td>0</td>\n",
              "      <td>0</td>\n",
              "      <td>0</td>\n",
              "      <td>1300220978530721793</td>\n",
              "      <td>en</td>\n",
              "      <td>&lt;a href=\"https://mobile.twitter.com\" rel=\"nofo...</td>\n",
              "      <td>https://mobile.twitter.com</td>\n",
              "      <td>Twitter Web App</td>\n",
              "      <td>[{'previewUrl': 'https://pbs.twimg.com/media/E...</td>\n",
              "      <td>NaN</td>\n",
              "      <td>None</td>\n",
              "      <td>None</td>\n",
              "    </tr>\n",
              "    <tr>\n",
              "      <th>3</th>\n",
              "      <td>https://twitter.com/Accesa_Shop/status/1300220...</td>\n",
              "      <td>2020-08-30 23:56:36+00:00</td>\n",
              "      <td>Boho Rattan Straw Women's Beach Bag https://t....</td>\n",
              "      <td>Boho Rattan Straw Women's Beach Bag accesashop...</td>\n",
              "      <td>1300220910008512512</td>\n",
              "      <td>{'username': 'Accesa_Shop', 'displayname': 'Ac...</td>\n",
              "      <td>[https://accesashop.com/boho-rattan-straw-wome...</td>\n",
              "      <td>[https://t.co/ZrgFLAik7F]</td>\n",
              "      <td>0</td>\n",
              "      <td>0</td>\n",
              "      <td>0</td>\n",
              "      <td>0</td>\n",
              "      <td>1300220910008512512</td>\n",
              "      <td>en</td>\n",
              "      <td>&lt;a href=\"https://socialrabbitplugin.com/\" rel=...</td>\n",
              "      <td>https://socialrabbitplugin.com/</td>\n",
              "      <td>SocialRabbit Plugin</td>\n",
              "      <td>[{'previewUrl': 'https://pbs.twimg.com/media/E...</td>\n",
              "      <td>NaN</td>\n",
              "      <td>None</td>\n",
              "      <td>None</td>\n",
              "    </tr>\n",
              "    <tr>\n",
              "      <th>4</th>\n",
              "      <td>https://twitter.com/ViecBuonBan/status/1300220...</td>\n",
              "      <td>2020-08-30 23:53:26+00:00</td>\n",
              "      <td>Lingzhi Extract - Health Protective Food $23.6...</td>\n",
              "      <td>Lingzhi Extract - Health Protective Food $23.6...</td>\n",
              "      <td>1300220113464053760</td>\n",
              "      <td>{'username': 'ViecBuonBan', 'displayname': 'Vi...</td>\n",
              "      <td>[https://j.mp/2tegDPg]</td>\n",
              "      <td>[https://t.co/BZJ9AODqWR]</td>\n",
              "      <td>0</td>\n",
              "      <td>2</td>\n",
              "      <td>2</td>\n",
              "      <td>0</td>\n",
              "      <td>1300220113464053760</td>\n",
              "      <td>en</td>\n",
              "      <td>&lt;a href=\"https://www.viecbuonban.com\" rel=\"nof...</td>\n",
              "      <td>https://www.viecbuonban.com</td>\n",
              "      <td>Viec Buon Ban</td>\n",
              "      <td>[{'previewUrl': 'https://pbs.twimg.com/media/E...</td>\n",
              "      <td>NaN</td>\n",
              "      <td>None</td>\n",
              "      <td>None</td>\n",
              "    </tr>\n",
              "  </tbody>\n",
              "</table>\n",
              "</div>"
            ],
            "text/plain": [
              "                                                 url  ... mentionedUsers\n",
              "0  https://twitter.com/jonak18/status/13002216737...  ...           None\n",
              "1  https://twitter.com/shoptropicalB/status/13002...  ...           None\n",
              "2  https://twitter.com/SaversUsa/status/130022097...  ...           None\n",
              "3  https://twitter.com/Accesa_Shop/status/1300220...  ...           None\n",
              "4  https://twitter.com/ViecBuonBan/status/1300220...  ...           None\n",
              "\n",
              "[5 rows x 21 columns]"
            ]
          },
          "metadata": {
            "tags": []
          },
          "execution_count": 100
        }
      ]
    },
    {
      "cell_type": "code",
      "metadata": {
        "colab": {
          "base_uri": "https://localhost:8080/"
        },
        "id": "YpBKeSQ551xB",
        "outputId": "76b2e1da-7378-45ff-cb52-279897aa1d5e"
      },
      "source": [
        "len(df_NBF)"
      ],
      "execution_count": null,
      "outputs": [
        {
          "output_type": "execute_result",
          "data": {
            "text/plain": [
              "30000"
            ]
          },
          "metadata": {
            "tags": []
          },
          "execution_count": 101
        }
      ]
    },
    {
      "cell_type": "code",
      "metadata": {
        "colab": {
          "base_uri": "https://localhost:8080/"
        },
        "id": "6bBbEg8F56X0",
        "outputId": "06340c74-78fb-40e5-e18b-9a4c1174fbd3"
      },
      "source": [
        "df_NBF = df_NBF[df_NBF['lang'] == 'en'] \n",
        "len(df_NBF)"
      ],
      "execution_count": null,
      "outputs": [
        {
          "output_type": "execute_result",
          "data": {
            "text/plain": [
              "21479"
            ]
          },
          "metadata": {
            "tags": []
          },
          "execution_count": 102
        }
      ]
    },
    {
      "cell_type": "markdown",
      "metadata": {
        "id": "jOFVo8ZJ6Gfj"
      },
      "source": [
        "\n",
        "As seen above, we now have two dataframes of seemingly relevant tweets in English; one daataframe (df_BF) for black friday tweets and another (df_NBF) for non black friday shopping tweets spread over the month of August.\n",
        "\n"
      ]
    },
    {
      "cell_type": "markdown",
      "metadata": {
        "id": "Rr6GuiQ76_IW"
      },
      "source": [
        "However, the tweets by themselves are accompanied by a lot of information; some relevant and some irrelevant to our study. We will now discard the irrelevant information and refine our datasets so that they can be efficiently used for processing and analyzing.  "
      ]
    },
    {
      "cell_type": "markdown",
      "metadata": {
        "id": "NDK5XESp7csI"
      },
      "source": [
        "For the research questions we asked, we can make use of time, the actual tweet and perhaps the user and user mentions. So let us drop the columns not pertaining to our interests."
      ]
    },
    {
      "cell_type": "code",
      "metadata": {
        "colab": {
          "base_uri": "https://localhost:8080/",
          "height": 204
        },
        "id": "MSGNXudl6CiS",
        "outputId": "148f945a-4a3f-4cfb-e594-438336692222"
      },
      "source": [
        "df_BF = df_BF.drop(columns=['url', 'renderedContent', 'id', 'user', 'outlinks', 'tcooutlinks', 'replyCount',\t'retweetCount',\t'likeCount',\t'quoteCount',\t'conversationId', 'source',\t'sourceUrl',\t'sourceLabel',\t'media',\t'retweetedTweet',\t'quotedTweet' ])\n",
        "df_BF.head()"
      ],
      "execution_count": null,
      "outputs": [
        {
          "output_type": "execute_result",
          "data": {
            "text/html": [
              "<div>\n",
              "<style scoped>\n",
              "    .dataframe tbody tr th:only-of-type {\n",
              "        vertical-align: middle;\n",
              "    }\n",
              "\n",
              "    .dataframe tbody tr th {\n",
              "        vertical-align: top;\n",
              "    }\n",
              "\n",
              "    .dataframe thead th {\n",
              "        text-align: right;\n",
              "    }\n",
              "</style>\n",
              "<table border=\"1\" class=\"dataframe\">\n",
              "  <thead>\n",
              "    <tr style=\"text-align: right;\">\n",
              "      <th></th>\n",
              "      <th>date</th>\n",
              "      <th>content</th>\n",
              "      <th>lang</th>\n",
              "      <th>mentionedUsers</th>\n",
              "    </tr>\n",
              "  </thead>\n",
              "  <tbody>\n",
              "    <tr>\n",
              "      <th>0</th>\n",
              "      <td>2020-11-27 23:59:59+00:00</td>\n",
              "      <td>@CCE_Guide Enjoy this #BlackFriday with #Daddy...</td>\n",
              "      <td>en</td>\n",
              "      <td>[{'username': 'CCE_Guide', 'displayname': 'CCE...</td>\n",
              "    </tr>\n",
              "    <tr>\n",
              "      <th>1</th>\n",
              "      <td>2020-11-27 23:59:59+00:00</td>\n",
              "      <td>Get your hotel’s guest feedback and online rep...</td>\n",
              "      <td>en</td>\n",
              "      <td>None</td>\n",
              "    </tr>\n",
              "    <tr>\n",
              "      <th>2</th>\n",
              "      <td>2020-11-27 23:59:57+00:00</td>\n",
              "      <td>((WE ARE LIVE!)) [Destiny 2] Black Friday Dest...</td>\n",
              "      <td>en</td>\n",
              "      <td>None</td>\n",
              "    </tr>\n",
              "    <tr>\n",
              "      <th>4</th>\n",
              "      <td>2020-11-27 23:59:55+00:00</td>\n",
              "      <td>Brand New Zebra Gk420 Direct thermal printer f...</td>\n",
              "      <td>en</td>\n",
              "      <td>None</td>\n",
              "    </tr>\n",
              "    <tr>\n",
              "      <th>5</th>\n",
              "      <td>2020-11-27 23:59:53+00:00</td>\n",
              "      <td>Support a Black owned company this #BlackFrida...</td>\n",
              "      <td>en</td>\n",
              "      <td>[{'username': 'amazon', 'displayname': 'Amazon...</td>\n",
              "    </tr>\n",
              "  </tbody>\n",
              "</table>\n",
              "</div>"
            ],
            "text/plain": [
              "                       date  ...                                     mentionedUsers\n",
              "0 2020-11-27 23:59:59+00:00  ...  [{'username': 'CCE_Guide', 'displayname': 'CCE...\n",
              "1 2020-11-27 23:59:59+00:00  ...                                               None\n",
              "2 2020-11-27 23:59:57+00:00  ...                                               None\n",
              "4 2020-11-27 23:59:55+00:00  ...                                               None\n",
              "5 2020-11-27 23:59:53+00:00  ...  [{'username': 'amazon', 'displayname': 'Amazon...\n",
              "\n",
              "[5 rows x 4 columns]"
            ]
          },
          "metadata": {
            "tags": []
          },
          "execution_count": 103
        }
      ]
    },
    {
      "cell_type": "code",
      "metadata": {
        "colab": {
          "base_uri": "https://localhost:8080/",
          "height": 204
        },
        "id": "yDlwOCFn937R",
        "outputId": "676e05e0-4431-4bbe-9487-b1d24c237de1"
      },
      "source": [
        "df_NBF = df_NBF.drop(columns=['url', 'renderedContent', 'id', 'user', 'outlinks', 'tcooutlinks', 'replyCount',\t'retweetCount',\t'likeCount',\t'quoteCount',\t'conversationId', 'source',\t'sourceUrl',\t'sourceLabel',\t'media',\t'retweetedTweet',\t'quotedTweet' ])\n",
        "df_NBF.head()"
      ],
      "execution_count": null,
      "outputs": [
        {
          "output_type": "execute_result",
          "data": {
            "text/html": [
              "<div>\n",
              "<style scoped>\n",
              "    .dataframe tbody tr th:only-of-type {\n",
              "        vertical-align: middle;\n",
              "    }\n",
              "\n",
              "    .dataframe tbody tr th {\n",
              "        vertical-align: top;\n",
              "    }\n",
              "\n",
              "    .dataframe thead th {\n",
              "        text-align: right;\n",
              "    }\n",
              "</style>\n",
              "<table border=\"1\" class=\"dataframe\">\n",
              "  <thead>\n",
              "    <tr style=\"text-align: right;\">\n",
              "      <th></th>\n",
              "      <th>date</th>\n",
              "      <th>content</th>\n",
              "      <th>lang</th>\n",
              "      <th>mentionedUsers</th>\n",
              "    </tr>\n",
              "  </thead>\n",
              "  <tbody>\n",
              "    <tr>\n",
              "      <th>0</th>\n",
              "      <td>2020-08-30 23:59:38+00:00</td>\n",
              "      <td>🔥 Umorden Family Cleopatra Cosplay for Women G...</td>\n",
              "      <td>en</td>\n",
              "      <td>None</td>\n",
              "    </tr>\n",
              "    <tr>\n",
              "      <th>1</th>\n",
              "      <td>2020-08-30 23:58:57+00:00</td>\n",
              "      <td>🌸🌴 NEW ARRIVALS EVERY SUNDAY 🌴🌸 \\n•\\n•\\n•\\n\\n•...</td>\n",
              "      <td>en</td>\n",
              "      <td>None</td>\n",
              "    </tr>\n",
              "    <tr>\n",
              "      <th>2</th>\n",
              "      <td>2020-08-30 23:56:52+00:00</td>\n",
              "      <td>https://t.co/BxkGS4NrJq Decanter Globe Set wit...</td>\n",
              "      <td>en</td>\n",
              "      <td>None</td>\n",
              "    </tr>\n",
              "    <tr>\n",
              "      <th>3</th>\n",
              "      <td>2020-08-30 23:56:36+00:00</td>\n",
              "      <td>Boho Rattan Straw Women's Beach Bag https://t....</td>\n",
              "      <td>en</td>\n",
              "      <td>None</td>\n",
              "    </tr>\n",
              "    <tr>\n",
              "      <th>4</th>\n",
              "      <td>2020-08-30 23:53:26+00:00</td>\n",
              "      <td>Lingzhi Extract - Health Protective Food $23.6...</td>\n",
              "      <td>en</td>\n",
              "      <td>None</td>\n",
              "    </tr>\n",
              "  </tbody>\n",
              "</table>\n",
              "</div>"
            ],
            "text/plain": [
              "                       date  ... mentionedUsers\n",
              "0 2020-08-30 23:59:38+00:00  ...           None\n",
              "1 2020-08-30 23:58:57+00:00  ...           None\n",
              "2 2020-08-30 23:56:52+00:00  ...           None\n",
              "3 2020-08-30 23:56:36+00:00  ...           None\n",
              "4 2020-08-30 23:53:26+00:00  ...           None\n",
              "\n",
              "[5 rows x 4 columns]"
            ]
          },
          "metadata": {
            "tags": []
          },
          "execution_count": 104
        }
      ]
    },
    {
      "cell_type": "markdown",
      "metadata": {
        "id": "zGCYN9yyBna-"
      },
      "source": [
        "Let us now create a new column to extract hashtags."
      ]
    },
    {
      "cell_type": "code",
      "metadata": {
        "colab": {
          "base_uri": "https://localhost:8080/",
          "height": 529
        },
        "id": "B3y46DnH_xfn",
        "outputId": "2fcdb7cb-fafb-49b8-a45d-193ab63ae18c"
      },
      "source": [
        "#Hashtags for Blackfriday\n",
        "df_BF['#'] = df_BF['content'].apply(lambda x : ' '.join([word for word in x.split() if word.startswith('#')]))\n",
        "df_BF.head(10)"
      ],
      "execution_count": null,
      "outputs": [
        {
          "output_type": "execute_result",
          "data": {
            "text/html": [
              "<div>\n",
              "<style scoped>\n",
              "    .dataframe tbody tr th:only-of-type {\n",
              "        vertical-align: middle;\n",
              "    }\n",
              "\n",
              "    .dataframe tbody tr th {\n",
              "        vertical-align: top;\n",
              "    }\n",
              "\n",
              "    .dataframe thead th {\n",
              "        text-align: right;\n",
              "    }\n",
              "</style>\n",
              "<table border=\"1\" class=\"dataframe\">\n",
              "  <thead>\n",
              "    <tr style=\"text-align: right;\">\n",
              "      <th></th>\n",
              "      <th>date</th>\n",
              "      <th>content</th>\n",
              "      <th>lang</th>\n",
              "      <th>mentionedUsers</th>\n",
              "      <th>#</th>\n",
              "    </tr>\n",
              "  </thead>\n",
              "  <tbody>\n",
              "    <tr>\n",
              "      <th>0</th>\n",
              "      <td>2020-11-27 23:59:59+00:00</td>\n",
              "      <td>@CCE_Guide Enjoy this #BlackFriday with #Daddy...</td>\n",
              "      <td>en</td>\n",
              "      <td>[{'username': 'CCE_Guide', 'displayname': 'CCE...</td>\n",
              "      <td>#BlackFriday #Daddy</td>\n",
              "    </tr>\n",
              "    <tr>\n",
              "      <th>1</th>\n",
              "      <td>2020-11-27 23:59:59+00:00</td>\n",
              "      <td>Get your hotel’s guest feedback and online rep...</td>\n",
              "      <td>en</td>\n",
              "      <td>None</td>\n",
              "      <td>#BlackFriday</td>\n",
              "    </tr>\n",
              "    <tr>\n",
              "      <th>2</th>\n",
              "      <td>2020-11-27 23:59:57+00:00</td>\n",
              "      <td>((WE ARE LIVE!)) [Destiny 2] Black Friday Dest...</td>\n",
              "      <td>en</td>\n",
              "      <td>None</td>\n",
              "      <td>#DestinyTheGame #BlackFriday #SupportSmallStre...</td>\n",
              "    </tr>\n",
              "    <tr>\n",
              "      <th>4</th>\n",
              "      <td>2020-11-27 23:59:55+00:00</td>\n",
              "      <td>Brand New Zebra Gk420 Direct thermal printer f...</td>\n",
              "      <td>en</td>\n",
              "      <td>None</td>\n",
              "      <td>#BlackFriday</td>\n",
              "    </tr>\n",
              "    <tr>\n",
              "      <th>5</th>\n",
              "      <td>2020-11-27 23:59:53+00:00</td>\n",
              "      <td>Support a Black owned company this #BlackFrida...</td>\n",
              "      <td>en</td>\n",
              "      <td>[{'username': 'amazon', 'displayname': 'Amazon...</td>\n",
              "      <td>#BlackFriday! #BuyBlack #BuyBlackBlackFriday #...</td>\n",
              "    </tr>\n",
              "    <tr>\n",
              "      <th>6</th>\n",
              "      <td>2020-11-27 23:59:52+00:00</td>\n",
              "      <td>IN ONE HOUR starting at 8pm EST US\\n\\nBACK IN ...</td>\n",
              "      <td>en</td>\n",
              "      <td>None</td>\n",
              "      <td>#BlackFriday</td>\n",
              "    </tr>\n",
              "    <tr>\n",
              "      <th>7</th>\n",
              "      <td>2020-11-27 23:59:51+00:00</td>\n",
              "      <td>@Arabianboyl @newdanton Enjoy this #BlackFrida...</td>\n",
              "      <td>en</td>\n",
              "      <td>[{'username': 'Arabianboyl', 'displayname': 'A...</td>\n",
              "      <td>#BlackFriday #Daddy</td>\n",
              "    </tr>\n",
              "    <tr>\n",
              "      <th>8</th>\n",
              "      <td>2020-11-27 23:59:50+00:00</td>\n",
              "      <td>He's the absolute #Worst of everything! Such a...</td>\n",
              "      <td>en</td>\n",
              "      <td>None</td>\n",
              "      <td>#Worst #LOSER #BlackFriday #DiaperDonald</td>\n",
              "    </tr>\n",
              "    <tr>\n",
              "      <th>9</th>\n",
              "      <td>2020-11-27 23:59:49+00:00</td>\n",
              "      <td>Us because it's #BlackFriday https://t.co/Ypmr...</td>\n",
              "      <td>en</td>\n",
              "      <td>None</td>\n",
              "      <td>#BlackFriday</td>\n",
              "    </tr>\n",
              "    <tr>\n",
              "      <th>10</th>\n",
              "      <td>2020-11-27 23:59:46+00:00</td>\n",
              "      <td>@ThatGuyInGaming Hey mate, Today is Black Frid...</td>\n",
              "      <td>en</td>\n",
              "      <td>[{'username': 'ThatGuyInGaming', 'displayname'...</td>\n",
              "      <td>#BlackFriday</td>\n",
              "    </tr>\n",
              "  </tbody>\n",
              "</table>\n",
              "</div>"
            ],
            "text/plain": [
              "                        date  ...                                                  #\n",
              "0  2020-11-27 23:59:59+00:00  ...                                #BlackFriday #Daddy\n",
              "1  2020-11-27 23:59:59+00:00  ...                                       #BlackFriday\n",
              "2  2020-11-27 23:59:57+00:00  ...  #DestinyTheGame #BlackFriday #SupportSmallStre...\n",
              "4  2020-11-27 23:59:55+00:00  ...                                       #BlackFriday\n",
              "5  2020-11-27 23:59:53+00:00  ...  #BlackFriday! #BuyBlack #BuyBlackBlackFriday #...\n",
              "6  2020-11-27 23:59:52+00:00  ...                                       #BlackFriday\n",
              "7  2020-11-27 23:59:51+00:00  ...                                #BlackFriday #Daddy\n",
              "8  2020-11-27 23:59:50+00:00  ...           #Worst #LOSER #BlackFriday #DiaperDonald\n",
              "9  2020-11-27 23:59:49+00:00  ...                                       #BlackFriday\n",
              "10 2020-11-27 23:59:46+00:00  ...                                       #BlackFriday\n",
              "\n",
              "[10 rows x 5 columns]"
            ]
          },
          "metadata": {
            "tags": []
          },
          "execution_count": 105
        }
      ]
    },
    {
      "cell_type": "code",
      "metadata": {
        "colab": {
          "base_uri": "https://localhost:8080/",
          "height": 529
        },
        "id": "DQnDJUopBkRB",
        "outputId": "b7395d7b-401b-4612-be97-c87d6dd2fdc1"
      },
      "source": [
        "#Hashtags for August, or, not Black Friday.\n",
        "df_NBF['#'] = df_NBF['content'].apply(lambda x : ' '.join([word for word in x.split() if word.startswith('#')]))\n",
        "df_NBF.head(10)"
      ],
      "execution_count": null,
      "outputs": [
        {
          "output_type": "execute_result",
          "data": {
            "text/html": [
              "<div>\n",
              "<style scoped>\n",
              "    .dataframe tbody tr th:only-of-type {\n",
              "        vertical-align: middle;\n",
              "    }\n",
              "\n",
              "    .dataframe tbody tr th {\n",
              "        vertical-align: top;\n",
              "    }\n",
              "\n",
              "    .dataframe thead th {\n",
              "        text-align: right;\n",
              "    }\n",
              "</style>\n",
              "<table border=\"1\" class=\"dataframe\">\n",
              "  <thead>\n",
              "    <tr style=\"text-align: right;\">\n",
              "      <th></th>\n",
              "      <th>date</th>\n",
              "      <th>content</th>\n",
              "      <th>lang</th>\n",
              "      <th>mentionedUsers</th>\n",
              "      <th>#</th>\n",
              "    </tr>\n",
              "  </thead>\n",
              "  <tbody>\n",
              "    <tr>\n",
              "      <th>0</th>\n",
              "      <td>2020-08-30 23:59:38+00:00</td>\n",
              "      <td>🔥 Umorden Family Cleopatra Cosplay for Women G...</td>\n",
              "      <td>en</td>\n",
              "      <td>None</td>\n",
              "      <td>#trend #shopping</td>\n",
              "    </tr>\n",
              "    <tr>\n",
              "      <th>1</th>\n",
              "      <td>2020-08-30 23:58:57+00:00</td>\n",
              "      <td>🌸🌴 NEW ARRIVALS EVERY SUNDAY 🌴🌸 \\n•\\n•\\n•\\n\\n•...</td>\n",
              "      <td>en</td>\n",
              "      <td>None</td>\n",
              "      <td>#tropicalbabes #tropicalbabesshorts #clothing ...</td>\n",
              "    </tr>\n",
              "    <tr>\n",
              "      <th>2</th>\n",
              "      <td>2020-08-30 23:56:52+00:00</td>\n",
              "      <td>https://t.co/BxkGS4NrJq Decanter Globe Set wit...</td>\n",
              "      <td>en</td>\n",
              "      <td>None</td>\n",
              "      <td>#shopnow #shopping #shoponline #relaxingmusic</td>\n",
              "    </tr>\n",
              "    <tr>\n",
              "      <th>3</th>\n",
              "      <td>2020-08-30 23:56:36+00:00</td>\n",
              "      <td>Boho Rattan Straw Women's Beach Bag https://t....</td>\n",
              "      <td>en</td>\n",
              "      <td>None</td>\n",
              "      <td>#moda #shopping</td>\n",
              "    </tr>\n",
              "    <tr>\n",
              "      <th>4</th>\n",
              "      <td>2020-08-30 23:53:26+00:00</td>\n",
              "      <td>Lingzhi Extract - Health Protective Food $23.6...</td>\n",
              "      <td>en</td>\n",
              "      <td>None</td>\n",
              "      <td>#Supplements #LingChi #Lingzhi #Vietnam #Shopping</td>\n",
              "    </tr>\n",
              "    <tr>\n",
              "      <th>5</th>\n",
              "      <td>2020-08-30 23:53:22+00:00</td>\n",
              "      <td>Thien Thao - Green medicaded oil $1.84 #Medica...</td>\n",
              "      <td>en</td>\n",
              "      <td>None</td>\n",
              "      <td>#MedicatedOil #Cough #Colds #Headache #Vietnam...</td>\n",
              "    </tr>\n",
              "    <tr>\n",
              "      <th>6</th>\n",
              "      <td>2020-08-30 23:53:21+00:00</td>\n",
              "      <td>Magic Silicone Kitchen Cleaning Gloves https:/...</td>\n",
              "      <td>en</td>\n",
              "      <td>None</td>\n",
              "      <td>#shopping #shoppingonline #shoppingguide #shop...</td>\n",
              "    </tr>\n",
              "    <tr>\n",
              "      <th>8</th>\n",
              "      <td>2020-08-30 23:51:42+00:00</td>\n",
              "      <td>TOMLOV 2MP HD WiFi Outdoor PTZ Security Camera...</td>\n",
              "      <td>en</td>\n",
              "      <td>None</td>\n",
              "      <td>#coupons #deals #shopping #shop</td>\n",
              "    </tr>\n",
              "    <tr>\n",
              "      <th>9</th>\n",
              "      <td>2020-08-30 23:45:01+00:00</td>\n",
              "      <td>Bath &amp;amp; Body Works in Buffalo's Walden Gall...</td>\n",
              "      <td>en</td>\n",
              "      <td>None</td>\n",
              "      <td>#lawsuits #malls #shopping #Buffalo #NewYork #WNY</td>\n",
              "    </tr>\n",
              "    <tr>\n",
              "      <th>12</th>\n",
              "      <td>2020-08-30 23:43:32+00:00</td>\n",
              "      <td>Winners always has the best stuff. If only I d...</td>\n",
              "      <td>en</td>\n",
              "      <td>None</td>\n",
              "      <td>#dogmom</td>\n",
              "    </tr>\n",
              "  </tbody>\n",
              "</table>\n",
              "</div>"
            ],
            "text/plain": [
              "                        date  ...                                                  #\n",
              "0  2020-08-30 23:59:38+00:00  ...                                   #trend #shopping\n",
              "1  2020-08-30 23:58:57+00:00  ...  #tropicalbabes #tropicalbabesshorts #clothing ...\n",
              "2  2020-08-30 23:56:52+00:00  ...      #shopnow #shopping #shoponline #relaxingmusic\n",
              "3  2020-08-30 23:56:36+00:00  ...                                    #moda #shopping\n",
              "4  2020-08-30 23:53:26+00:00  ...  #Supplements #LingChi #Lingzhi #Vietnam #Shopping\n",
              "5  2020-08-30 23:53:22+00:00  ...  #MedicatedOil #Cough #Colds #Headache #Vietnam...\n",
              "6  2020-08-30 23:53:21+00:00  ...  #shopping #shoppingonline #shoppingguide #shop...\n",
              "8  2020-08-30 23:51:42+00:00  ...                    #coupons #deals #shopping #shop\n",
              "9  2020-08-30 23:45:01+00:00  ...  #lawsuits #malls #shopping #Buffalo #NewYork #WNY\n",
              "12 2020-08-30 23:43:32+00:00  ...                                            #dogmom\n",
              "\n",
              "[10 rows x 5 columns]"
            ]
          },
          "metadata": {
            "tags": []
          },
          "execution_count": 106
        }
      ]
    },
    {
      "cell_type": "markdown",
      "metadata": {
        "id": "6Q9U8BrnpHAn"
      },
      "source": [
        "# Overall Sentiment Analysis\n",
        "For overall sentiment analysis, we use TextBlob and set polarity values to -1(negative), 0(neutral) and 1(positive)."
      ]
    },
    {
      "cell_type": "code",
      "metadata": {
        "id": "QuKs9237O9dZ"
      },
      "source": [
        "# Sentiment Analysis \n",
        "from textblob import TextBlob\n",
        "import re\n",
        "\n",
        "def clean_tweet(tweet):\n",
        "    '''\n",
        "    Utility function to clean the text in a tweet by removing \n",
        "    links and special characters using regex.\n",
        "    '''\n",
        "    return ' '.join(re.sub(\"(@[A-Za-z0-9]+)|([^0-9A-Za-z \\t])|(\\w+:\\/\\/\\S+)\", \" \", tweet).split())\n",
        "\n",
        "def analyze_sentiment(tweet):\n",
        "    '''\n",
        "    Utility function to classify the polarity of a tweet\n",
        "    using textblob.\n",
        "    '''\n",
        "    analysis = TextBlob(clean_tweet(tweet))\n",
        "    if analysis.sentiment.polarity > 0:\n",
        "        return 1\n",
        "    elif analysis.sentiment.polarity == 0:\n",
        "        return 0\n",
        "    else:\n",
        "        return -1"
      ],
      "execution_count": null,
      "outputs": []
    },
    {
      "cell_type": "code",
      "metadata": {
        "id": "Ue9MDZeFPAsi"
      },
      "source": [
        "df_BF['sentiment'] = df_BF['content'].apply(lambda x: analyze_sentiment(x))"
      ],
      "execution_count": null,
      "outputs": []
    },
    {
      "cell_type": "code",
      "metadata": {
        "colab": {
          "base_uri": "https://localhost:8080/",
          "height": 173
        },
        "id": "6ICm-Co-PoiD",
        "outputId": "5bbdc1fd-ab9b-4d01-c852-f17f091f7579"
      },
      "source": [
        "# Percentages\n",
        "sentiments_BF = df_BF.groupby('sentiment').agg({'sentiment':'count'}).rename(columns=({'sentiment': 'Count'}))\n",
        "sentiments_BF['% of total'] = sentiments_BF['Count']/sentiments_BF['Count'].sum()\n",
        "sentiments_BF ['Sentiment'] = ['Negative', 'Neutral', 'Positive']\n",
        "sentiments_BF = sentiments_BF.reindex(columns = ['Sentiment', 'Count','% of total'])\n",
        "sentiments_BF"
      ],
      "execution_count": null,
      "outputs": [
        {
          "output_type": "execute_result",
          "data": {
            "text/html": [
              "<div>\n",
              "<style scoped>\n",
              "    .dataframe tbody tr th:only-of-type {\n",
              "        vertical-align: middle;\n",
              "    }\n",
              "\n",
              "    .dataframe tbody tr th {\n",
              "        vertical-align: top;\n",
              "    }\n",
              "\n",
              "    .dataframe thead th {\n",
              "        text-align: right;\n",
              "    }\n",
              "</style>\n",
              "<table border=\"1\" class=\"dataframe\">\n",
              "  <thead>\n",
              "    <tr style=\"text-align: right;\">\n",
              "      <th></th>\n",
              "      <th>Sentiment</th>\n",
              "      <th>Count</th>\n",
              "      <th>% of total</th>\n",
              "    </tr>\n",
              "    <tr>\n",
              "      <th>sentiment</th>\n",
              "      <th></th>\n",
              "      <th></th>\n",
              "      <th></th>\n",
              "    </tr>\n",
              "  </thead>\n",
              "  <tbody>\n",
              "    <tr>\n",
              "      <th>-1</th>\n",
              "      <td>Negative</td>\n",
              "      <td>4281</td>\n",
              "      <td>0.169719</td>\n",
              "    </tr>\n",
              "    <tr>\n",
              "      <th>0</th>\n",
              "      <td>Neutral</td>\n",
              "      <td>6668</td>\n",
              "      <td>0.264351</td>\n",
              "    </tr>\n",
              "    <tr>\n",
              "      <th>1</th>\n",
              "      <td>Positive</td>\n",
              "      <td>14275</td>\n",
              "      <td>0.565929</td>\n",
              "    </tr>\n",
              "  </tbody>\n",
              "</table>\n",
              "</div>"
            ],
            "text/plain": [
              "          Sentiment  Count  % of total\n",
              "sentiment                             \n",
              "-1         Negative   4281    0.169719\n",
              " 0          Neutral   6668    0.264351\n",
              " 1         Positive  14275    0.565929"
            ]
          },
          "metadata": {
            "tags": []
          },
          "execution_count": 126
        }
      ]
    },
    {
      "cell_type": "code",
      "metadata": {
        "id": "-dADvyVDParK"
      },
      "source": [
        "df_NBF['sentiment'] = df_NBF['content'].apply(lambda x: analyze_sentiment(x))"
      ],
      "execution_count": null,
      "outputs": []
    },
    {
      "cell_type": "code",
      "metadata": {
        "colab": {
          "base_uri": "https://localhost:8080/",
          "height": 173
        },
        "id": "jW8Vg3upQL--",
        "outputId": "7f8024d9-65ab-445b-98ff-9eb3ebc25117"
      },
      "source": [
        "# Percentages\n",
        "sentiments_NBF = df_NBF.groupby('sentiment').agg({'sentiment':'count'}).rename(columns=({'sentiment': 'Count'}))\n",
        "sentiments_NBF['% of total'] = sentiments_NBF['Count']/sentiments_NBF['Count'].sum()\n",
        "sentiments_NBF ['Sentiment'] = ['Negative', 'Neutral', 'Positive']\n",
        "sentiments_NBF = sentiments_NBF.reindex(columns = ['Sentiment', 'Count','% of total'])\n",
        "sentiments_NBF"
      ],
      "execution_count": null,
      "outputs": [
        {
          "output_type": "execute_result",
          "data": {
            "text/html": [
              "<div>\n",
              "<style scoped>\n",
              "    .dataframe tbody tr th:only-of-type {\n",
              "        vertical-align: middle;\n",
              "    }\n",
              "\n",
              "    .dataframe tbody tr th {\n",
              "        vertical-align: top;\n",
              "    }\n",
              "\n",
              "    .dataframe thead th {\n",
              "        text-align: right;\n",
              "    }\n",
              "</style>\n",
              "<table border=\"1\" class=\"dataframe\">\n",
              "  <thead>\n",
              "    <tr style=\"text-align: right;\">\n",
              "      <th></th>\n",
              "      <th>Sentiment</th>\n",
              "      <th>Count</th>\n",
              "      <th>% of total</th>\n",
              "    </tr>\n",
              "    <tr>\n",
              "      <th>sentiment</th>\n",
              "      <th></th>\n",
              "      <th></th>\n",
              "      <th></th>\n",
              "    </tr>\n",
              "  </thead>\n",
              "  <tbody>\n",
              "    <tr>\n",
              "      <th>-1</th>\n",
              "      <td>Negative</td>\n",
              "      <td>2348</td>\n",
              "      <td>0.109316</td>\n",
              "    </tr>\n",
              "    <tr>\n",
              "      <th>0</th>\n",
              "      <td>Neutral</td>\n",
              "      <td>6237</td>\n",
              "      <td>0.290377</td>\n",
              "    </tr>\n",
              "    <tr>\n",
              "      <th>1</th>\n",
              "      <td>Positive</td>\n",
              "      <td>12894</td>\n",
              "      <td>0.600307</td>\n",
              "    </tr>\n",
              "  </tbody>\n",
              "</table>\n",
              "</div>"
            ],
            "text/plain": [
              "          Sentiment  Count  % of total\n",
              "sentiment                             \n",
              "-1         Negative   2348    0.109316\n",
              " 0          Neutral   6237    0.290377\n",
              " 1         Positive  12894    0.600307"
            ]
          },
          "metadata": {
            "tags": []
          },
          "execution_count": 244
        }
      ]
    },
    {
      "cell_type": "markdown",
      "metadata": {
        "id": "PmQvP4Ndpo8O"
      },
      "source": [
        "As seen above, on black friday, the level of negativity is a bit hightened as compared to our data collected over the month of August. \n",
        "We observe that the sentiments around \"#shopping\" are more positive than #BlackFriday2020."
      ]
    },
    {
      "cell_type": "markdown",
      "metadata": {
        "id": "JN8uoVLcqnZ8"
      },
      "source": [
        "To effectively recognize entities in tweets and hashtags, we need to perform some basic Natural Language Processing, or, NLP."
      ]
    },
    {
      "cell_type": "code",
      "metadata": {
        "id": "PazHcE-wQd6W"
      },
      "source": [
        "#Create a function to remove unwanted characters from text\n",
        "def remove_pattern(text, pattern_regex):\n",
        "    r = re.findall(pattern_regex, text)\n",
        "    for i in r:\n",
        "        text = re.sub(i, '', text)\n",
        "    \n",
        "    return text "
      ],
      "execution_count": null,
      "outputs": []
    },
    {
      "cell_type": "code",
      "metadata": {
        "colab": {
          "base_uri": "https://localhost:8080/",
          "height": 699
        },
        "id": "uqIPqvYCQf5l",
        "outputId": "2fcbe7ca-c1a6-4ff3-813a-71690e5d19e1"
      },
      "source": [
        "df_BF['refinedTweets'] = np.vectorize(remove_pattern)(df_BF['content'], \"@[\\w]*: | *RT*\")\n",
        "df_BF.head(10)"
      ],
      "execution_count": null,
      "outputs": [
        {
          "output_type": "execute_result",
          "data": {
            "text/html": [
              "<div>\n",
              "<style scoped>\n",
              "    .dataframe tbody tr th:only-of-type {\n",
              "        vertical-align: middle;\n",
              "    }\n",
              "\n",
              "    .dataframe tbody tr th {\n",
              "        vertical-align: top;\n",
              "    }\n",
              "\n",
              "    .dataframe thead th {\n",
              "        text-align: right;\n",
              "    }\n",
              "</style>\n",
              "<table border=\"1\" class=\"dataframe\">\n",
              "  <thead>\n",
              "    <tr style=\"text-align: right;\">\n",
              "      <th></th>\n",
              "      <th>date</th>\n",
              "      <th>content</th>\n",
              "      <th>lang</th>\n",
              "      <th>mentionedUsers</th>\n",
              "      <th>#</th>\n",
              "      <th>sentiment</th>\n",
              "      <th>refinedTweets</th>\n",
              "    </tr>\n",
              "  </thead>\n",
              "  <tbody>\n",
              "    <tr>\n",
              "      <th>0</th>\n",
              "      <td>2020-11-27 23:59:59+00:00</td>\n",
              "      <td>@CCE_Guide Enjoy this #BlackFriday with #Daddy...</td>\n",
              "      <td>en</td>\n",
              "      <td>[{'username': 'CCE_Guide', 'displayname': 'CCE...</td>\n",
              "      <td>#BlackFriday #Daddy</td>\n",
              "      <td>1</td>\n",
              "      <td>@CCE_Guide Enjoy this #BlackFriday with #Daddy...</td>\n",
              "    </tr>\n",
              "    <tr>\n",
              "      <th>1</th>\n",
              "      <td>2020-11-27 23:59:59+00:00</td>\n",
              "      <td>Get your hotel’s guest feedback and online rep...</td>\n",
              "      <td>en</td>\n",
              "      <td>None</td>\n",
              "      <td>#BlackFriday</td>\n",
              "      <td>1</td>\n",
              "      <td>Get your hotel’s guest feedback and online rep...</td>\n",
              "    </tr>\n",
              "    <tr>\n",
              "      <th>2</th>\n",
              "      <td>2020-11-27 23:59:57+00:00</td>\n",
              "      <td>((WE ARE LIVE!)) [Destiny 2] Black Friday Dest...</td>\n",
              "      <td>en</td>\n",
              "      <td>None</td>\n",
              "      <td>#DestinyTheGame #BlackFriday #SupportSmallStre...</td>\n",
              "      <td>1</td>\n",
              "      <td>((WE AE LIVE!)) [Destiny 2] Black Friday Desti...</td>\n",
              "    </tr>\n",
              "    <tr>\n",
              "      <th>4</th>\n",
              "      <td>2020-11-27 23:59:55+00:00</td>\n",
              "      <td>Brand New Zebra Gk420 Direct thermal printer f...</td>\n",
              "      <td>en</td>\n",
              "      <td>None</td>\n",
              "      <td>#BlackFriday</td>\n",
              "      <td>1</td>\n",
              "      <td>Brand New Zebra Gk420 Direct thermal printer f...</td>\n",
              "    </tr>\n",
              "    <tr>\n",
              "      <th>5</th>\n",
              "      <td>2020-11-27 23:59:53+00:00</td>\n",
              "      <td>Support a Black owned company this #BlackFrida...</td>\n",
              "      <td>en</td>\n",
              "      <td>[{'username': 'amazon', 'displayname': 'Amazon...</td>\n",
              "      <td>#BlackFriday! #BuyBlack #BuyBlackBlackFriday #...</td>\n",
              "      <td>-1</td>\n",
              "      <td>Support a Black owned company this #BlackFrida...</td>\n",
              "    </tr>\n",
              "    <tr>\n",
              "      <th>6</th>\n",
              "      <td>2020-11-27 23:59:52+00:00</td>\n",
              "      <td>IN ONE HOUR starting at 8pm EST US\\n\\nBACK IN ...</td>\n",
              "      <td>en</td>\n",
              "      <td>None</td>\n",
              "      <td>#BlackFriday</td>\n",
              "      <td>-1</td>\n",
              "      <td>IN ONE HOU starting at 8pm EST US\\n\\nBACK IN B...</td>\n",
              "    </tr>\n",
              "    <tr>\n",
              "      <th>7</th>\n",
              "      <td>2020-11-27 23:59:51+00:00</td>\n",
              "      <td>@Arabianboyl @newdanton Enjoy this #BlackFrida...</td>\n",
              "      <td>en</td>\n",
              "      <td>[{'username': 'Arabianboyl', 'displayname': 'A...</td>\n",
              "      <td>#BlackFriday #Daddy</td>\n",
              "      <td>1</td>\n",
              "      <td>@Arabianboyl @newdanton Enjoy this #BlackFrida...</td>\n",
              "    </tr>\n",
              "    <tr>\n",
              "      <th>8</th>\n",
              "      <td>2020-11-27 23:59:50+00:00</td>\n",
              "      <td>He's the absolute #Worst of everything! Such a...</td>\n",
              "      <td>en</td>\n",
              "      <td>None</td>\n",
              "      <td>#Worst #LOSER #BlackFriday #DiaperDonald</td>\n",
              "      <td>-1</td>\n",
              "      <td>He's the absolute #Worst of everything! Such a...</td>\n",
              "    </tr>\n",
              "    <tr>\n",
              "      <th>9</th>\n",
              "      <td>2020-11-27 23:59:49+00:00</td>\n",
              "      <td>Us because it's #BlackFriday https://t.co/Ypmr...</td>\n",
              "      <td>en</td>\n",
              "      <td>None</td>\n",
              "      <td>#BlackFriday</td>\n",
              "      <td>0</td>\n",
              "      <td>Us because it's #BlackFriday https://t.co/Ypmr...</td>\n",
              "    </tr>\n",
              "    <tr>\n",
              "      <th>10</th>\n",
              "      <td>2020-11-27 23:59:46+00:00</td>\n",
              "      <td>@ThatGuyInGaming Hey mate, Today is Black Frid...</td>\n",
              "      <td>en</td>\n",
              "      <td>[{'username': 'ThatGuyInGaming', 'displayname'...</td>\n",
              "      <td>#BlackFriday</td>\n",
              "      <td>1</td>\n",
              "      <td>@ThatGuyInGaming Hey mate, Today is Black Frid...</td>\n",
              "    </tr>\n",
              "  </tbody>\n",
              "</table>\n",
              "</div>"
            ],
            "text/plain": [
              "                        date  ...                                      refinedTweets\n",
              "0  2020-11-27 23:59:59+00:00  ...  @CCE_Guide Enjoy this #BlackFriday with #Daddy...\n",
              "1  2020-11-27 23:59:59+00:00  ...  Get your hotel’s guest feedback and online rep...\n",
              "2  2020-11-27 23:59:57+00:00  ...  ((WE AE LIVE!)) [Destiny 2] Black Friday Desti...\n",
              "4  2020-11-27 23:59:55+00:00  ...  Brand New Zebra Gk420 Direct thermal printer f...\n",
              "5  2020-11-27 23:59:53+00:00  ...  Support a Black owned company this #BlackFrida...\n",
              "6  2020-11-27 23:59:52+00:00  ...  IN ONE HOU starting at 8pm EST US\\n\\nBACK IN B...\n",
              "7  2020-11-27 23:59:51+00:00  ...  @Arabianboyl @newdanton Enjoy this #BlackFrida...\n",
              "8  2020-11-27 23:59:50+00:00  ...  He's the absolute #Worst of everything! Such a...\n",
              "9  2020-11-27 23:59:49+00:00  ...  Us because it's #BlackFriday https://t.co/Ypmr...\n",
              "10 2020-11-27 23:59:46+00:00  ...  @ThatGuyInGaming Hey mate, Today is Black Frid...\n",
              "\n",
              "[10 rows x 7 columns]"
            ]
          },
          "metadata": {
            "tags": []
          },
          "execution_count": 129
        }
      ]
    },
    {
      "cell_type": "code",
      "metadata": {
        "colab": {
          "base_uri": "https://localhost:8080/",
          "height": 682
        },
        "id": "AtBmHR2GQwwI",
        "outputId": "e695b266-d796-450f-94e3-2a8e755a41e9"
      },
      "source": [
        "df_NBF['refinedTweets'] = np.vectorize(remove_pattern)(df_NBF['content'], \"@[\\w]*: | *RT*\")\n",
        "df_NBF.head(10)"
      ],
      "execution_count": null,
      "outputs": [
        {
          "output_type": "execute_result",
          "data": {
            "text/html": [
              "<div>\n",
              "<style scoped>\n",
              "    .dataframe tbody tr th:only-of-type {\n",
              "        vertical-align: middle;\n",
              "    }\n",
              "\n",
              "    .dataframe tbody tr th {\n",
              "        vertical-align: top;\n",
              "    }\n",
              "\n",
              "    .dataframe thead th {\n",
              "        text-align: right;\n",
              "    }\n",
              "</style>\n",
              "<table border=\"1\" class=\"dataframe\">\n",
              "  <thead>\n",
              "    <tr style=\"text-align: right;\">\n",
              "      <th></th>\n",
              "      <th>date</th>\n",
              "      <th>content</th>\n",
              "      <th>lang</th>\n",
              "      <th>mentionedUsers</th>\n",
              "      <th>#</th>\n",
              "      <th>sentiment</th>\n",
              "      <th>refinedTweets</th>\n",
              "    </tr>\n",
              "  </thead>\n",
              "  <tbody>\n",
              "    <tr>\n",
              "      <th>0</th>\n",
              "      <td>2020-08-30 23:59:38+00:00</td>\n",
              "      <td>🔥 Umorden Family Cleopatra Cosplay for Women G...</td>\n",
              "      <td>en</td>\n",
              "      <td>None</td>\n",
              "      <td>#trend #shopping</td>\n",
              "      <td>0</td>\n",
              "      <td>🔥 Umorden Family Cleopatra Cosplay for Women G...</td>\n",
              "    </tr>\n",
              "    <tr>\n",
              "      <th>1</th>\n",
              "      <td>2020-08-30 23:58:57+00:00</td>\n",
              "      <td>🌸🌴 NEW ARRIVALS EVERY SUNDAY 🌴🌸 \\n•\\n•\\n•\\n\\n•...</td>\n",
              "      <td>en</td>\n",
              "      <td>None</td>\n",
              "      <td>#tropicalbabes #tropicalbabesshorts #clothing ...</td>\n",
              "      <td>1</td>\n",
              "      <td>🌸🌴 NEW AIVALS EVEY SUNDAY 🌴🌸 \\n•\\n•\\n•\\n\\n•\\n•...</td>\n",
              "    </tr>\n",
              "    <tr>\n",
              "      <th>2</th>\n",
              "      <td>2020-08-30 23:56:52+00:00</td>\n",
              "      <td>https://t.co/BxkGS4NrJq Decanter Globe Set wit...</td>\n",
              "      <td>en</td>\n",
              "      <td>None</td>\n",
              "      <td>#shopnow #shopping #shoponline #relaxingmusic</td>\n",
              "      <td>0</td>\n",
              "      <td>https://t.co/BxkGS4NrJq Decanter Globe Set wit...</td>\n",
              "    </tr>\n",
              "    <tr>\n",
              "      <th>3</th>\n",
              "      <td>2020-08-30 23:56:36+00:00</td>\n",
              "      <td>Boho Rattan Straw Women's Beach Bag https://t....</td>\n",
              "      <td>en</td>\n",
              "      <td>None</td>\n",
              "      <td>#moda #shopping</td>\n",
              "      <td>0</td>\n",
              "      <td>Bohoattan Straw Women's Beach Bag https://t.co...</td>\n",
              "    </tr>\n",
              "    <tr>\n",
              "      <th>4</th>\n",
              "      <td>2020-08-30 23:53:26+00:00</td>\n",
              "      <td>Lingzhi Extract - Health Protective Food $23.6...</td>\n",
              "      <td>en</td>\n",
              "      <td>None</td>\n",
              "      <td>#Supplements #LingChi #Lingzhi #Vietnam #Shopping</td>\n",
              "      <td>0</td>\n",
              "      <td>Lingzhi Extract - Health Protective Food $23.6...</td>\n",
              "    </tr>\n",
              "    <tr>\n",
              "      <th>5</th>\n",
              "      <td>2020-08-30 23:53:22+00:00</td>\n",
              "      <td>Thien Thao - Green medicaded oil $1.84 #Medica...</td>\n",
              "      <td>en</td>\n",
              "      <td>None</td>\n",
              "      <td>#MedicatedOil #Cough #Colds #Headache #Vietnam...</td>\n",
              "      <td>-1</td>\n",
              "      <td>Thien Thao - Green medicaded oil $1.84 #Medica...</td>\n",
              "    </tr>\n",
              "    <tr>\n",
              "      <th>6</th>\n",
              "      <td>2020-08-30 23:53:21+00:00</td>\n",
              "      <td>Magic Silicone Kitchen Cleaning Gloves https:/...</td>\n",
              "      <td>en</td>\n",
              "      <td>None</td>\n",
              "      <td>#shopping #shoppingonline #shoppingguide #shop...</td>\n",
              "      <td>1</td>\n",
              "      <td>Magic Silicone Kitchen Cleaning Gloves https:/...</td>\n",
              "    </tr>\n",
              "    <tr>\n",
              "      <th>8</th>\n",
              "      <td>2020-08-30 23:51:42+00:00</td>\n",
              "      <td>TOMLOV 2MP HD WiFi Outdoor PTZ Security Camera...</td>\n",
              "      <td>en</td>\n",
              "      <td>None</td>\n",
              "      <td>#coupons #deals #shopping #shop</td>\n",
              "      <td>0</td>\n",
              "      <td>TOMLOV 2MP HD WiFi Outdoor PTZ Security Camera...</td>\n",
              "    </tr>\n",
              "    <tr>\n",
              "      <th>9</th>\n",
              "      <td>2020-08-30 23:45:01+00:00</td>\n",
              "      <td>Bath &amp;amp; Body Works in Buffalo's Walden Gall...</td>\n",
              "      <td>en</td>\n",
              "      <td>None</td>\n",
              "      <td>#lawsuits #malls #shopping #Buffalo #NewYork #WNY</td>\n",
              "      <td>-1</td>\n",
              "      <td>Bath &amp;amp; Body Works in Buffalo's Walden Gall...</td>\n",
              "    </tr>\n",
              "    <tr>\n",
              "      <th>12</th>\n",
              "      <td>2020-08-30 23:43:32+00:00</td>\n",
              "      <td>Winners always has the best stuff. If only I d...</td>\n",
              "      <td>en</td>\n",
              "      <td>None</td>\n",
              "      <td>#dogmom</td>\n",
              "      <td>1</td>\n",
              "      <td>Winners always has the best stuff. If only I d...</td>\n",
              "    </tr>\n",
              "  </tbody>\n",
              "</table>\n",
              "</div>"
            ],
            "text/plain": [
              "                        date  ...                                      refinedTweets\n",
              "0  2020-08-30 23:59:38+00:00  ...  🔥 Umorden Family Cleopatra Cosplay for Women G...\n",
              "1  2020-08-30 23:58:57+00:00  ...  🌸🌴 NEW AIVALS EVEY SUNDAY 🌴🌸 \\n•\\n•\\n•\\n\\n•\\n•...\n",
              "2  2020-08-30 23:56:52+00:00  ...  https://t.co/BxkGS4NrJq Decanter Globe Set wit...\n",
              "3  2020-08-30 23:56:36+00:00  ...  Bohoattan Straw Women's Beach Bag https://t.co...\n",
              "4  2020-08-30 23:53:26+00:00  ...  Lingzhi Extract - Health Protective Food $23.6...\n",
              "5  2020-08-30 23:53:22+00:00  ...  Thien Thao - Green medicaded oil $1.84 #Medica...\n",
              "6  2020-08-30 23:53:21+00:00  ...  Magic Silicone Kitchen Cleaning Gloves https:/...\n",
              "8  2020-08-30 23:51:42+00:00  ...  TOMLOV 2MP HD WiFi Outdoor PTZ Security Camera...\n",
              "9  2020-08-30 23:45:01+00:00  ...  Bath &amp; Body Works in Buffalo's Walden Gall...\n",
              "12 2020-08-30 23:43:32+00:00  ...  Winners always has the best stuff. If only I d...\n",
              "\n",
              "[10 rows x 7 columns]"
            ]
          },
          "metadata": {
            "tags": []
          },
          "execution_count": 130
        }
      ]
    },
    {
      "cell_type": "code",
      "metadata": {
        "colab": {
          "base_uri": "https://localhost:8080/",
          "height": 682
        },
        "id": "8tLQyMbgQ1Ke",
        "outputId": "aa51c71b-eb90-47cc-ebef-6b08f90b1d9b"
      },
      "source": [
        "#Remove hyperlinks contained in tweets.\n",
        "cleanTweets_BF = []\n",
        "\n",
        "for index, row in df_BF.iterrows():\n",
        "    words_without_links = [word for word in row.refinedTweets.split() if 'http' not in word]\n",
        "    cleanTweets_BF.append(' '.join(words_without_links))\n",
        "\n",
        "df_BF['refinedTweets'] = cleanTweets_BF\n",
        "df_BF.head(10)"
      ],
      "execution_count": null,
      "outputs": [
        {
          "output_type": "execute_result",
          "data": {
            "text/html": [
              "<div>\n",
              "<style scoped>\n",
              "    .dataframe tbody tr th:only-of-type {\n",
              "        vertical-align: middle;\n",
              "    }\n",
              "\n",
              "    .dataframe tbody tr th {\n",
              "        vertical-align: top;\n",
              "    }\n",
              "\n",
              "    .dataframe thead th {\n",
              "        text-align: right;\n",
              "    }\n",
              "</style>\n",
              "<table border=\"1\" class=\"dataframe\">\n",
              "  <thead>\n",
              "    <tr style=\"text-align: right;\">\n",
              "      <th></th>\n",
              "      <th>date</th>\n",
              "      <th>content</th>\n",
              "      <th>lang</th>\n",
              "      <th>mentionedUsers</th>\n",
              "      <th>#</th>\n",
              "      <th>sentiment</th>\n",
              "      <th>refinedTweets</th>\n",
              "    </tr>\n",
              "  </thead>\n",
              "  <tbody>\n",
              "    <tr>\n",
              "      <th>0</th>\n",
              "      <td>2020-11-27 23:59:59+00:00</td>\n",
              "      <td>@CCE_Guide Enjoy this #BlackFriday with #Daddy...</td>\n",
              "      <td>en</td>\n",
              "      <td>[{'username': 'CCE_Guide', 'displayname': 'CCE...</td>\n",
              "      <td>#BlackFriday #Daddy</td>\n",
              "      <td>1</td>\n",
              "      <td>@CCE_Guide Enjoy this #BlackFriday with #Daddy...</td>\n",
              "    </tr>\n",
              "    <tr>\n",
              "      <th>1</th>\n",
              "      <td>2020-11-27 23:59:59+00:00</td>\n",
              "      <td>Get your hotel’s guest feedback and online rep...</td>\n",
              "      <td>en</td>\n",
              "      <td>None</td>\n",
              "      <td>#BlackFriday</td>\n",
              "      <td>1</td>\n",
              "      <td>Get your hotel’s guest feedback and online rep...</td>\n",
              "    </tr>\n",
              "    <tr>\n",
              "      <th>2</th>\n",
              "      <td>2020-11-27 23:59:57+00:00</td>\n",
              "      <td>((WE ARE LIVE!)) [Destiny 2] Black Friday Dest...</td>\n",
              "      <td>en</td>\n",
              "      <td>None</td>\n",
              "      <td>#DestinyTheGame #BlackFriday #SupportSmallStre...</td>\n",
              "      <td>1</td>\n",
              "      <td>((WE AE LIVE!)) [Destiny 2] Black Friday Desti...</td>\n",
              "    </tr>\n",
              "    <tr>\n",
              "      <th>4</th>\n",
              "      <td>2020-11-27 23:59:55+00:00</td>\n",
              "      <td>Brand New Zebra Gk420 Direct thermal printer f...</td>\n",
              "      <td>en</td>\n",
              "      <td>None</td>\n",
              "      <td>#BlackFriday</td>\n",
              "      <td>1</td>\n",
              "      <td>Brand New Zebra Gk420 Direct thermal printer f...</td>\n",
              "    </tr>\n",
              "    <tr>\n",
              "      <th>5</th>\n",
              "      <td>2020-11-27 23:59:53+00:00</td>\n",
              "      <td>Support a Black owned company this #BlackFrida...</td>\n",
              "      <td>en</td>\n",
              "      <td>[{'username': 'amazon', 'displayname': 'Amazon...</td>\n",
              "      <td>#BlackFriday! #BuyBlack #BuyBlackBlackFriday #...</td>\n",
              "      <td>-1</td>\n",
              "      <td>Support a Black owned company this #BlackFrida...</td>\n",
              "    </tr>\n",
              "    <tr>\n",
              "      <th>6</th>\n",
              "      <td>2020-11-27 23:59:52+00:00</td>\n",
              "      <td>IN ONE HOUR starting at 8pm EST US\\n\\nBACK IN ...</td>\n",
              "      <td>en</td>\n",
              "      <td>None</td>\n",
              "      <td>#BlackFriday</td>\n",
              "      <td>-1</td>\n",
              "      <td>IN ONE HOU starting at 8pm EST US BACK IN BLAC...</td>\n",
              "    </tr>\n",
              "    <tr>\n",
              "      <th>7</th>\n",
              "      <td>2020-11-27 23:59:51+00:00</td>\n",
              "      <td>@Arabianboyl @newdanton Enjoy this #BlackFrida...</td>\n",
              "      <td>en</td>\n",
              "      <td>[{'username': 'Arabianboyl', 'displayname': 'A...</td>\n",
              "      <td>#BlackFriday #Daddy</td>\n",
              "      <td>1</td>\n",
              "      <td>@Arabianboyl @newdanton Enjoy this #BlackFrida...</td>\n",
              "    </tr>\n",
              "    <tr>\n",
              "      <th>8</th>\n",
              "      <td>2020-11-27 23:59:50+00:00</td>\n",
              "      <td>He's the absolute #Worst of everything! Such a...</td>\n",
              "      <td>en</td>\n",
              "      <td>None</td>\n",
              "      <td>#Worst #LOSER #BlackFriday #DiaperDonald</td>\n",
              "      <td>-1</td>\n",
              "      <td>He's the absolute #Worst of everything! Such a...</td>\n",
              "    </tr>\n",
              "    <tr>\n",
              "      <th>9</th>\n",
              "      <td>2020-11-27 23:59:49+00:00</td>\n",
              "      <td>Us because it's #BlackFriday https://t.co/Ypmr...</td>\n",
              "      <td>en</td>\n",
              "      <td>None</td>\n",
              "      <td>#BlackFriday</td>\n",
              "      <td>0</td>\n",
              "      <td>Us because it's #BlackFriday</td>\n",
              "    </tr>\n",
              "    <tr>\n",
              "      <th>10</th>\n",
              "      <td>2020-11-27 23:59:46+00:00</td>\n",
              "      <td>@ThatGuyInGaming Hey mate, Today is Black Frid...</td>\n",
              "      <td>en</td>\n",
              "      <td>[{'username': 'ThatGuyInGaming', 'displayname'...</td>\n",
              "      <td>#BlackFriday</td>\n",
              "      <td>1</td>\n",
              "      <td>@ThatGuyInGaming Hey mate, Today is Black Frid...</td>\n",
              "    </tr>\n",
              "  </tbody>\n",
              "</table>\n",
              "</div>"
            ],
            "text/plain": [
              "                        date  ...                                      refinedTweets\n",
              "0  2020-11-27 23:59:59+00:00  ...  @CCE_Guide Enjoy this #BlackFriday with #Daddy...\n",
              "1  2020-11-27 23:59:59+00:00  ...  Get your hotel’s guest feedback and online rep...\n",
              "2  2020-11-27 23:59:57+00:00  ...  ((WE AE LIVE!)) [Destiny 2] Black Friday Desti...\n",
              "4  2020-11-27 23:59:55+00:00  ...  Brand New Zebra Gk420 Direct thermal printer f...\n",
              "5  2020-11-27 23:59:53+00:00  ...  Support a Black owned company this #BlackFrida...\n",
              "6  2020-11-27 23:59:52+00:00  ...  IN ONE HOU starting at 8pm EST US BACK IN BLAC...\n",
              "7  2020-11-27 23:59:51+00:00  ...  @Arabianboyl @newdanton Enjoy this #BlackFrida...\n",
              "8  2020-11-27 23:59:50+00:00  ...  He's the absolute #Worst of everything! Such a...\n",
              "9  2020-11-27 23:59:49+00:00  ...                       Us because it's #BlackFriday\n",
              "10 2020-11-27 23:59:46+00:00  ...  @ThatGuyInGaming Hey mate, Today is Black Frid...\n",
              "\n",
              "[10 rows x 7 columns]"
            ]
          },
          "metadata": {
            "tags": []
          },
          "execution_count": 131
        }
      ]
    },
    {
      "cell_type": "code",
      "metadata": {
        "colab": {
          "base_uri": "https://localhost:8080/",
          "height": 682
        },
        "id": "mkpCjH49Raie",
        "outputId": "f569f9aa-1cc4-4705-f39f-5662afd40778"
      },
      "source": [
        "cleanTweets_NBF = []\n",
        "\n",
        "for index, row in df_NBF.iterrows():\n",
        "    words_without_links = [word for word in row.refinedTweets.split() if 'http' not in word]\n",
        "    cleanTweets_NBF.append(' '.join(words_without_links))\n",
        "\n",
        "df_NBF['refinedTweets'] = cleanTweets_NBF\n",
        "df_NBF.head(10)"
      ],
      "execution_count": null,
      "outputs": [
        {
          "output_type": "execute_result",
          "data": {
            "text/html": [
              "<div>\n",
              "<style scoped>\n",
              "    .dataframe tbody tr th:only-of-type {\n",
              "        vertical-align: middle;\n",
              "    }\n",
              "\n",
              "    .dataframe tbody tr th {\n",
              "        vertical-align: top;\n",
              "    }\n",
              "\n",
              "    .dataframe thead th {\n",
              "        text-align: right;\n",
              "    }\n",
              "</style>\n",
              "<table border=\"1\" class=\"dataframe\">\n",
              "  <thead>\n",
              "    <tr style=\"text-align: right;\">\n",
              "      <th></th>\n",
              "      <th>date</th>\n",
              "      <th>content</th>\n",
              "      <th>lang</th>\n",
              "      <th>mentionedUsers</th>\n",
              "      <th>#</th>\n",
              "      <th>sentiment</th>\n",
              "      <th>refinedTweets</th>\n",
              "    </tr>\n",
              "  </thead>\n",
              "  <tbody>\n",
              "    <tr>\n",
              "      <th>0</th>\n",
              "      <td>2020-08-30 23:59:38+00:00</td>\n",
              "      <td>🔥 Umorden Family Cleopatra Cosplay for Women G...</td>\n",
              "      <td>en</td>\n",
              "      <td>None</td>\n",
              "      <td>#trend #shopping</td>\n",
              "      <td>0</td>\n",
              "      <td>🔥 Umorden Family Cleopatra Cosplay for Women G...</td>\n",
              "    </tr>\n",
              "    <tr>\n",
              "      <th>1</th>\n",
              "      <td>2020-08-30 23:58:57+00:00</td>\n",
              "      <td>🌸🌴 NEW ARRIVALS EVERY SUNDAY 🌴🌸 \\n•\\n•\\n•\\n\\n•...</td>\n",
              "      <td>en</td>\n",
              "      <td>None</td>\n",
              "      <td>#tropicalbabes #tropicalbabesshorts #clothing ...</td>\n",
              "      <td>1</td>\n",
              "      <td>🌸🌴 NEW AIVALS EVEY SUNDAY 🌴🌸 • • • • • • #trop...</td>\n",
              "    </tr>\n",
              "    <tr>\n",
              "      <th>2</th>\n",
              "      <td>2020-08-30 23:56:52+00:00</td>\n",
              "      <td>https://t.co/BxkGS4NrJq Decanter Globe Set wit...</td>\n",
              "      <td>en</td>\n",
              "      <td>None</td>\n",
              "      <td>#shopnow #shopping #shoponline #relaxingmusic</td>\n",
              "      <td>0</td>\n",
              "      <td>Decanter Globe Set with 2 Etched Globe Whisky ...</td>\n",
              "    </tr>\n",
              "    <tr>\n",
              "      <th>3</th>\n",
              "      <td>2020-08-30 23:56:36+00:00</td>\n",
              "      <td>Boho Rattan Straw Women's Beach Bag https://t....</td>\n",
              "      <td>en</td>\n",
              "      <td>None</td>\n",
              "      <td>#moda #shopping</td>\n",
              "      <td>0</td>\n",
              "      <td>Bohoattan Straw Women's Beach Bag #moda #shopping</td>\n",
              "    </tr>\n",
              "    <tr>\n",
              "      <th>4</th>\n",
              "      <td>2020-08-30 23:53:26+00:00</td>\n",
              "      <td>Lingzhi Extract - Health Protective Food $23.6...</td>\n",
              "      <td>en</td>\n",
              "      <td>None</td>\n",
              "      <td>#Supplements #LingChi #Lingzhi #Vietnam #Shopping</td>\n",
              "      <td>0</td>\n",
              "      <td>Lingzhi Extract - Health Protective Food $23.6...</td>\n",
              "    </tr>\n",
              "    <tr>\n",
              "      <th>5</th>\n",
              "      <td>2020-08-30 23:53:22+00:00</td>\n",
              "      <td>Thien Thao - Green medicaded oil $1.84 #Medica...</td>\n",
              "      <td>en</td>\n",
              "      <td>None</td>\n",
              "      <td>#MedicatedOil #Cough #Colds #Headache #Vietnam...</td>\n",
              "      <td>-1</td>\n",
              "      <td>Thien Thao - Green medicaded oil $1.84 #Medica...</td>\n",
              "    </tr>\n",
              "    <tr>\n",
              "      <th>6</th>\n",
              "      <td>2020-08-30 23:53:21+00:00</td>\n",
              "      <td>Magic Silicone Kitchen Cleaning Gloves https:/...</td>\n",
              "      <td>en</td>\n",
              "      <td>None</td>\n",
              "      <td>#shopping #shoppingonline #shoppingguide #shop...</td>\n",
              "      <td>1</td>\n",
              "      <td>Magic Silicone Kitchen Cleaning Gloves $ 15.99...</td>\n",
              "    </tr>\n",
              "    <tr>\n",
              "      <th>8</th>\n",
              "      <td>2020-08-30 23:51:42+00:00</td>\n",
              "      <td>TOMLOV 2MP HD WiFi Outdoor PTZ Security Camera...</td>\n",
              "      <td>en</td>\n",
              "      <td>None</td>\n",
              "      <td>#coupons #deals #shopping #shop</td>\n",
              "      <td>0</td>\n",
              "      <td>TOMLOV 2MP HD WiFi Outdoor PTZ Security Camera...</td>\n",
              "    </tr>\n",
              "    <tr>\n",
              "      <th>9</th>\n",
              "      <td>2020-08-30 23:45:01+00:00</td>\n",
              "      <td>Bath &amp;amp; Body Works in Buffalo's Walden Gall...</td>\n",
              "      <td>en</td>\n",
              "      <td>None</td>\n",
              "      <td>#lawsuits #malls #shopping #Buffalo #NewYork #WNY</td>\n",
              "      <td>-1</td>\n",
              "      <td>Bath &amp;amp; Body Works in Buffalo's Walden Gall...</td>\n",
              "    </tr>\n",
              "    <tr>\n",
              "      <th>12</th>\n",
              "      <td>2020-08-30 23:43:32+00:00</td>\n",
              "      <td>Winners always has the best stuff. If only I d...</td>\n",
              "      <td>en</td>\n",
              "      <td>None</td>\n",
              "      <td>#dogmom</td>\n",
              "      <td>1</td>\n",
              "      <td>Winners always has the best stuff. If only I d...</td>\n",
              "    </tr>\n",
              "  </tbody>\n",
              "</table>\n",
              "</div>"
            ],
            "text/plain": [
              "                        date  ...                                      refinedTweets\n",
              "0  2020-08-30 23:59:38+00:00  ...  🔥 Umorden Family Cleopatra Cosplay for Women G...\n",
              "1  2020-08-30 23:58:57+00:00  ...  🌸🌴 NEW AIVALS EVEY SUNDAY 🌴🌸 • • • • • • #trop...\n",
              "2  2020-08-30 23:56:52+00:00  ...  Decanter Globe Set with 2 Etched Globe Whisky ...\n",
              "3  2020-08-30 23:56:36+00:00  ...  Bohoattan Straw Women's Beach Bag #moda #shopping\n",
              "4  2020-08-30 23:53:26+00:00  ...  Lingzhi Extract - Health Protective Food $23.6...\n",
              "5  2020-08-30 23:53:22+00:00  ...  Thien Thao - Green medicaded oil $1.84 #Medica...\n",
              "6  2020-08-30 23:53:21+00:00  ...  Magic Silicone Kitchen Cleaning Gloves $ 15.99...\n",
              "8  2020-08-30 23:51:42+00:00  ...  TOMLOV 2MP HD WiFi Outdoor PTZ Security Camera...\n",
              "9  2020-08-30 23:45:01+00:00  ...  Bath &amp; Body Works in Buffalo's Walden Gall...\n",
              "12 2020-08-30 23:43:32+00:00  ...  Winners always has the best stuff. If only I d...\n",
              "\n",
              "[10 rows x 7 columns]"
            ]
          },
          "metadata": {
            "tags": []
          },
          "execution_count": 132
        }
      ]
    },
    {
      "cell_type": "code",
      "metadata": {
        "colab": {
          "base_uri": "https://localhost:8080/",
          "height": 374
        },
        "id": "5AQCfds2RlJ2",
        "outputId": "1a92249e-7df5-4e0d-d8e0-a5ce07fc40c3"
      },
      "source": [
        "df_BF = df_BF[df_BF['refinedTweets']!='']\n",
        "df_BF.head()"
      ],
      "execution_count": null,
      "outputs": [
        {
          "output_type": "execute_result",
          "data": {
            "text/html": [
              "<div>\n",
              "<style scoped>\n",
              "    .dataframe tbody tr th:only-of-type {\n",
              "        vertical-align: middle;\n",
              "    }\n",
              "\n",
              "    .dataframe tbody tr th {\n",
              "        vertical-align: top;\n",
              "    }\n",
              "\n",
              "    .dataframe thead th {\n",
              "        text-align: right;\n",
              "    }\n",
              "</style>\n",
              "<table border=\"1\" class=\"dataframe\">\n",
              "  <thead>\n",
              "    <tr style=\"text-align: right;\">\n",
              "      <th></th>\n",
              "      <th>date</th>\n",
              "      <th>content</th>\n",
              "      <th>lang</th>\n",
              "      <th>mentionedUsers</th>\n",
              "      <th>#</th>\n",
              "      <th>sentiment</th>\n",
              "      <th>refinedTweets</th>\n",
              "    </tr>\n",
              "  </thead>\n",
              "  <tbody>\n",
              "    <tr>\n",
              "      <th>0</th>\n",
              "      <td>2020-11-27 23:59:59+00:00</td>\n",
              "      <td>@CCE_Guide Enjoy this #BlackFriday with #Daddy...</td>\n",
              "      <td>en</td>\n",
              "      <td>[{'username': 'CCE_Guide', 'displayname': 'CCE...</td>\n",
              "      <td>#BlackFriday #Daddy</td>\n",
              "      <td>1</td>\n",
              "      <td>@CCE_Guide Enjoy this #BlackFriday with #Daddy...</td>\n",
              "    </tr>\n",
              "    <tr>\n",
              "      <th>1</th>\n",
              "      <td>2020-11-27 23:59:59+00:00</td>\n",
              "      <td>Get your hotel’s guest feedback and online rep...</td>\n",
              "      <td>en</td>\n",
              "      <td>None</td>\n",
              "      <td>#BlackFriday</td>\n",
              "      <td>1</td>\n",
              "      <td>Get your hotel’s guest feedback and online rep...</td>\n",
              "    </tr>\n",
              "    <tr>\n",
              "      <th>2</th>\n",
              "      <td>2020-11-27 23:59:57+00:00</td>\n",
              "      <td>((WE ARE LIVE!)) [Destiny 2] Black Friday Dest...</td>\n",
              "      <td>en</td>\n",
              "      <td>None</td>\n",
              "      <td>#DestinyTheGame #BlackFriday #SupportSmallStre...</td>\n",
              "      <td>1</td>\n",
              "      <td>((WE AE LIVE!)) [Destiny 2] Black Friday Desti...</td>\n",
              "    </tr>\n",
              "    <tr>\n",
              "      <th>4</th>\n",
              "      <td>2020-11-27 23:59:55+00:00</td>\n",
              "      <td>Brand New Zebra Gk420 Direct thermal printer f...</td>\n",
              "      <td>en</td>\n",
              "      <td>None</td>\n",
              "      <td>#BlackFriday</td>\n",
              "      <td>1</td>\n",
              "      <td>Brand New Zebra Gk420 Direct thermal printer f...</td>\n",
              "    </tr>\n",
              "    <tr>\n",
              "      <th>5</th>\n",
              "      <td>2020-11-27 23:59:53+00:00</td>\n",
              "      <td>Support a Black owned company this #BlackFrida...</td>\n",
              "      <td>en</td>\n",
              "      <td>[{'username': 'amazon', 'displayname': 'Amazon...</td>\n",
              "      <td>#BlackFriday! #BuyBlack #BuyBlackBlackFriday #...</td>\n",
              "      <td>-1</td>\n",
              "      <td>Support a Black owned company this #BlackFrida...</td>\n",
              "    </tr>\n",
              "  </tbody>\n",
              "</table>\n",
              "</div>"
            ],
            "text/plain": [
              "                       date  ...                                      refinedTweets\n",
              "0 2020-11-27 23:59:59+00:00  ...  @CCE_Guide Enjoy this #BlackFriday with #Daddy...\n",
              "1 2020-11-27 23:59:59+00:00  ...  Get your hotel’s guest feedback and online rep...\n",
              "2 2020-11-27 23:59:57+00:00  ...  ((WE AE LIVE!)) [Destiny 2] Black Friday Desti...\n",
              "4 2020-11-27 23:59:55+00:00  ...  Brand New Zebra Gk420 Direct thermal printer f...\n",
              "5 2020-11-27 23:59:53+00:00  ...  Support a Black owned company this #BlackFrida...\n",
              "\n",
              "[5 rows x 7 columns]"
            ]
          },
          "metadata": {
            "tags": []
          },
          "execution_count": 133
        }
      ]
    },
    {
      "cell_type": "code",
      "metadata": {
        "colab": {
          "base_uri": "https://localhost:8080/",
          "height": 374
        },
        "id": "KocKamAmR2q-",
        "outputId": "c67a24e8-edce-4973-85cb-0af16881830e"
      },
      "source": [
        "df_NBF = df_NBF[df_NBF['refinedTweets']!='']\n",
        "df_NBF.head()"
      ],
      "execution_count": null,
      "outputs": [
        {
          "output_type": "execute_result",
          "data": {
            "text/html": [
              "<div>\n",
              "<style scoped>\n",
              "    .dataframe tbody tr th:only-of-type {\n",
              "        vertical-align: middle;\n",
              "    }\n",
              "\n",
              "    .dataframe tbody tr th {\n",
              "        vertical-align: top;\n",
              "    }\n",
              "\n",
              "    .dataframe thead th {\n",
              "        text-align: right;\n",
              "    }\n",
              "</style>\n",
              "<table border=\"1\" class=\"dataframe\">\n",
              "  <thead>\n",
              "    <tr style=\"text-align: right;\">\n",
              "      <th></th>\n",
              "      <th>date</th>\n",
              "      <th>content</th>\n",
              "      <th>lang</th>\n",
              "      <th>mentionedUsers</th>\n",
              "      <th>#</th>\n",
              "      <th>sentiment</th>\n",
              "      <th>refinedTweets</th>\n",
              "    </tr>\n",
              "  </thead>\n",
              "  <tbody>\n",
              "    <tr>\n",
              "      <th>0</th>\n",
              "      <td>2020-08-30 23:59:38+00:00</td>\n",
              "      <td>🔥 Umorden Family Cleopatra Cosplay for Women G...</td>\n",
              "      <td>en</td>\n",
              "      <td>None</td>\n",
              "      <td>#trend #shopping</td>\n",
              "      <td>0</td>\n",
              "      <td>🔥 Umorden Family Cleopatra Cosplay for Women G...</td>\n",
              "    </tr>\n",
              "    <tr>\n",
              "      <th>1</th>\n",
              "      <td>2020-08-30 23:58:57+00:00</td>\n",
              "      <td>🌸🌴 NEW ARRIVALS EVERY SUNDAY 🌴🌸 \\n•\\n•\\n•\\n\\n•...</td>\n",
              "      <td>en</td>\n",
              "      <td>None</td>\n",
              "      <td>#tropicalbabes #tropicalbabesshorts #clothing ...</td>\n",
              "      <td>1</td>\n",
              "      <td>🌸🌴 NEW AIVALS EVEY SUNDAY 🌴🌸 • • • • • • #trop...</td>\n",
              "    </tr>\n",
              "    <tr>\n",
              "      <th>2</th>\n",
              "      <td>2020-08-30 23:56:52+00:00</td>\n",
              "      <td>https://t.co/BxkGS4NrJq Decanter Globe Set wit...</td>\n",
              "      <td>en</td>\n",
              "      <td>None</td>\n",
              "      <td>#shopnow #shopping #shoponline #relaxingmusic</td>\n",
              "      <td>0</td>\n",
              "      <td>Decanter Globe Set with 2 Etched Globe Whisky ...</td>\n",
              "    </tr>\n",
              "    <tr>\n",
              "      <th>3</th>\n",
              "      <td>2020-08-30 23:56:36+00:00</td>\n",
              "      <td>Boho Rattan Straw Women's Beach Bag https://t....</td>\n",
              "      <td>en</td>\n",
              "      <td>None</td>\n",
              "      <td>#moda #shopping</td>\n",
              "      <td>0</td>\n",
              "      <td>Bohoattan Straw Women's Beach Bag #moda #shopping</td>\n",
              "    </tr>\n",
              "    <tr>\n",
              "      <th>4</th>\n",
              "      <td>2020-08-30 23:53:26+00:00</td>\n",
              "      <td>Lingzhi Extract - Health Protective Food $23.6...</td>\n",
              "      <td>en</td>\n",
              "      <td>None</td>\n",
              "      <td>#Supplements #LingChi #Lingzhi #Vietnam #Shopping</td>\n",
              "      <td>0</td>\n",
              "      <td>Lingzhi Extract - Health Protective Food $23.6...</td>\n",
              "    </tr>\n",
              "  </tbody>\n",
              "</table>\n",
              "</div>"
            ],
            "text/plain": [
              "                       date  ...                                      refinedTweets\n",
              "0 2020-08-30 23:59:38+00:00  ...  🔥 Umorden Family Cleopatra Cosplay for Women G...\n",
              "1 2020-08-30 23:58:57+00:00  ...  🌸🌴 NEW AIVALS EVEY SUNDAY 🌴🌸 • • • • • • #trop...\n",
              "2 2020-08-30 23:56:52+00:00  ...  Decanter Globe Set with 2 Etched Globe Whisky ...\n",
              "3 2020-08-30 23:56:36+00:00  ...  Bohoattan Straw Women's Beach Bag #moda #shopping\n",
              "4 2020-08-30 23:53:26+00:00  ...  Lingzhi Extract - Health Protective Food $23.6...\n",
              "\n",
              "[5 rows x 7 columns]"
            ]
          },
          "metadata": {
            "tags": []
          },
          "execution_count": 134
        }
      ]
    },
    {
      "cell_type": "code",
      "metadata": {
        "colab": {
          "base_uri": "https://localhost:8080/",
          "height": 374
        },
        "id": "vpawAxJcSAMd",
        "outputId": "8ea4c001-9075-4b5c-e3de-aecee7ee6753"
      },
      "source": [
        "#Drop duplicates\n",
        "df_BF.drop_duplicates(subset=['refinedTweets'], keep=False)\n",
        "df_BF.head()"
      ],
      "execution_count": null,
      "outputs": [
        {
          "output_type": "execute_result",
          "data": {
            "text/html": [
              "<div>\n",
              "<style scoped>\n",
              "    .dataframe tbody tr th:only-of-type {\n",
              "        vertical-align: middle;\n",
              "    }\n",
              "\n",
              "    .dataframe tbody tr th {\n",
              "        vertical-align: top;\n",
              "    }\n",
              "\n",
              "    .dataframe thead th {\n",
              "        text-align: right;\n",
              "    }\n",
              "</style>\n",
              "<table border=\"1\" class=\"dataframe\">\n",
              "  <thead>\n",
              "    <tr style=\"text-align: right;\">\n",
              "      <th></th>\n",
              "      <th>date</th>\n",
              "      <th>content</th>\n",
              "      <th>lang</th>\n",
              "      <th>mentionedUsers</th>\n",
              "      <th>#</th>\n",
              "      <th>sentiment</th>\n",
              "      <th>refinedTweets</th>\n",
              "    </tr>\n",
              "  </thead>\n",
              "  <tbody>\n",
              "    <tr>\n",
              "      <th>0</th>\n",
              "      <td>2020-11-27 23:59:59+00:00</td>\n",
              "      <td>@CCE_Guide Enjoy this #BlackFriday with #Daddy...</td>\n",
              "      <td>en</td>\n",
              "      <td>[{'username': 'CCE_Guide', 'displayname': 'CCE...</td>\n",
              "      <td>#BlackFriday #Daddy</td>\n",
              "      <td>1</td>\n",
              "      <td>@CCE_Guide Enjoy this #BlackFriday with #Daddy...</td>\n",
              "    </tr>\n",
              "    <tr>\n",
              "      <th>1</th>\n",
              "      <td>2020-11-27 23:59:59+00:00</td>\n",
              "      <td>Get your hotel’s guest feedback and online rep...</td>\n",
              "      <td>en</td>\n",
              "      <td>None</td>\n",
              "      <td>#BlackFriday</td>\n",
              "      <td>1</td>\n",
              "      <td>Get your hotel’s guest feedback and online rep...</td>\n",
              "    </tr>\n",
              "    <tr>\n",
              "      <th>2</th>\n",
              "      <td>2020-11-27 23:59:57+00:00</td>\n",
              "      <td>((WE ARE LIVE!)) [Destiny 2] Black Friday Dest...</td>\n",
              "      <td>en</td>\n",
              "      <td>None</td>\n",
              "      <td>#DestinyTheGame #BlackFriday #SupportSmallStre...</td>\n",
              "      <td>1</td>\n",
              "      <td>((WE AE LIVE!)) [Destiny 2] Black Friday Desti...</td>\n",
              "    </tr>\n",
              "    <tr>\n",
              "      <th>4</th>\n",
              "      <td>2020-11-27 23:59:55+00:00</td>\n",
              "      <td>Brand New Zebra Gk420 Direct thermal printer f...</td>\n",
              "      <td>en</td>\n",
              "      <td>None</td>\n",
              "      <td>#BlackFriday</td>\n",
              "      <td>1</td>\n",
              "      <td>Brand New Zebra Gk420 Direct thermal printer f...</td>\n",
              "    </tr>\n",
              "    <tr>\n",
              "      <th>5</th>\n",
              "      <td>2020-11-27 23:59:53+00:00</td>\n",
              "      <td>Support a Black owned company this #BlackFrida...</td>\n",
              "      <td>en</td>\n",
              "      <td>[{'username': 'amazon', 'displayname': 'Amazon...</td>\n",
              "      <td>#BlackFriday! #BuyBlack #BuyBlackBlackFriday #...</td>\n",
              "      <td>-1</td>\n",
              "      <td>Support a Black owned company this #BlackFrida...</td>\n",
              "    </tr>\n",
              "  </tbody>\n",
              "</table>\n",
              "</div>"
            ],
            "text/plain": [
              "                       date  ...                                      refinedTweets\n",
              "0 2020-11-27 23:59:59+00:00  ...  @CCE_Guide Enjoy this #BlackFriday with #Daddy...\n",
              "1 2020-11-27 23:59:59+00:00  ...  Get your hotel’s guest feedback and online rep...\n",
              "2 2020-11-27 23:59:57+00:00  ...  ((WE AE LIVE!)) [Destiny 2] Black Friday Desti...\n",
              "4 2020-11-27 23:59:55+00:00  ...  Brand New Zebra Gk420 Direct thermal printer f...\n",
              "5 2020-11-27 23:59:53+00:00  ...  Support a Black owned company this #BlackFrida...\n",
              "\n",
              "[5 rows x 7 columns]"
            ]
          },
          "metadata": {
            "tags": []
          },
          "execution_count": 137
        }
      ]
    },
    {
      "cell_type": "code",
      "metadata": {
        "colab": {
          "base_uri": "https://localhost:8080/",
          "height": 374
        },
        "id": "ZXl8kcrFSQkg",
        "outputId": "efe8f295-4de4-4ddd-eeeb-8670a9293a30"
      },
      "source": [
        "#Drop duplicates\n",
        "df_NBF.drop_duplicates(subset=['refinedTweets'], keep=False)\n",
        "df_NBF.head()"
      ],
      "execution_count": null,
      "outputs": [
        {
          "output_type": "execute_result",
          "data": {
            "text/html": [
              "<div>\n",
              "<style scoped>\n",
              "    .dataframe tbody tr th:only-of-type {\n",
              "        vertical-align: middle;\n",
              "    }\n",
              "\n",
              "    .dataframe tbody tr th {\n",
              "        vertical-align: top;\n",
              "    }\n",
              "\n",
              "    .dataframe thead th {\n",
              "        text-align: right;\n",
              "    }\n",
              "</style>\n",
              "<table border=\"1\" class=\"dataframe\">\n",
              "  <thead>\n",
              "    <tr style=\"text-align: right;\">\n",
              "      <th></th>\n",
              "      <th>date</th>\n",
              "      <th>content</th>\n",
              "      <th>lang</th>\n",
              "      <th>mentionedUsers</th>\n",
              "      <th>#</th>\n",
              "      <th>sentiment</th>\n",
              "      <th>refinedTweets</th>\n",
              "    </tr>\n",
              "  </thead>\n",
              "  <tbody>\n",
              "    <tr>\n",
              "      <th>0</th>\n",
              "      <td>2020-08-30 23:59:38+00:00</td>\n",
              "      <td>🔥 Umorden Family Cleopatra Cosplay for Women G...</td>\n",
              "      <td>en</td>\n",
              "      <td>None</td>\n",
              "      <td>#trend #shopping</td>\n",
              "      <td>0</td>\n",
              "      <td>🔥 Umorden Family Cleopatra Cosplay for Women G...</td>\n",
              "    </tr>\n",
              "    <tr>\n",
              "      <th>1</th>\n",
              "      <td>2020-08-30 23:58:57+00:00</td>\n",
              "      <td>🌸🌴 NEW ARRIVALS EVERY SUNDAY 🌴🌸 \\n•\\n•\\n•\\n\\n•...</td>\n",
              "      <td>en</td>\n",
              "      <td>None</td>\n",
              "      <td>#tropicalbabes #tropicalbabesshorts #clothing ...</td>\n",
              "      <td>1</td>\n",
              "      <td>🌸🌴 NEW AIVALS EVEY SUNDAY 🌴🌸 • • • • • • #trop...</td>\n",
              "    </tr>\n",
              "    <tr>\n",
              "      <th>2</th>\n",
              "      <td>2020-08-30 23:56:52+00:00</td>\n",
              "      <td>https://t.co/BxkGS4NrJq Decanter Globe Set wit...</td>\n",
              "      <td>en</td>\n",
              "      <td>None</td>\n",
              "      <td>#shopnow #shopping #shoponline #relaxingmusic</td>\n",
              "      <td>0</td>\n",
              "      <td>Decanter Globe Set with 2 Etched Globe Whisky ...</td>\n",
              "    </tr>\n",
              "    <tr>\n",
              "      <th>3</th>\n",
              "      <td>2020-08-30 23:56:36+00:00</td>\n",
              "      <td>Boho Rattan Straw Women's Beach Bag https://t....</td>\n",
              "      <td>en</td>\n",
              "      <td>None</td>\n",
              "      <td>#moda #shopping</td>\n",
              "      <td>0</td>\n",
              "      <td>Bohoattan Straw Women's Beach Bag #moda #shopping</td>\n",
              "    </tr>\n",
              "    <tr>\n",
              "      <th>4</th>\n",
              "      <td>2020-08-30 23:53:26+00:00</td>\n",
              "      <td>Lingzhi Extract - Health Protective Food $23.6...</td>\n",
              "      <td>en</td>\n",
              "      <td>None</td>\n",
              "      <td>#Supplements #LingChi #Lingzhi #Vietnam #Shopping</td>\n",
              "      <td>0</td>\n",
              "      <td>Lingzhi Extract - Health Protective Food $23.6...</td>\n",
              "    </tr>\n",
              "  </tbody>\n",
              "</table>\n",
              "</div>"
            ],
            "text/plain": [
              "                       date  ...                                      refinedTweets\n",
              "0 2020-08-30 23:59:38+00:00  ...  🔥 Umorden Family Cleopatra Cosplay for Women G...\n",
              "1 2020-08-30 23:58:57+00:00  ...  🌸🌴 NEW AIVALS EVEY SUNDAY 🌴🌸 • • • • • • #trop...\n",
              "2 2020-08-30 23:56:52+00:00  ...  Decanter Globe Set with 2 Etched Globe Whisky ...\n",
              "3 2020-08-30 23:56:36+00:00  ...  Bohoattan Straw Women's Beach Bag #moda #shopping\n",
              "4 2020-08-30 23:53:26+00:00  ...  Lingzhi Extract - Health Protective Food $23.6...\n",
              "\n",
              "[5 rows x 7 columns]"
            ]
          },
          "metadata": {
            "tags": []
          },
          "execution_count": 138
        }
      ]
    },
    {
      "cell_type": "code",
      "metadata": {
        "colab": {
          "base_uri": "https://localhost:8080/"
        },
        "id": "giajYwq1SZ6x",
        "outputId": "20380a95-aa38-470b-c158-9f218f5e6edd"
      },
      "source": [
        "pip install unidecode"
      ],
      "execution_count": null,
      "outputs": [
        {
          "output_type": "stream",
          "text": [
            "Collecting unidecode\n",
            "\u001b[?25l  Downloading https://files.pythonhosted.org/packages/d0/42/d9edfed04228bacea2d824904cae367ee9efd05e6cce7ceaaedd0b0ad964/Unidecode-1.1.1-py2.py3-none-any.whl (238kB)\n",
            "\r\u001b[K     |█▍                              | 10kB 21.8MB/s eta 0:00:01\r\u001b[K     |██▊                             | 20kB 17.5MB/s eta 0:00:01\r\u001b[K     |████▏                           | 30kB 10.6MB/s eta 0:00:01\r\u001b[K     |█████▌                          | 40kB 3.9MB/s eta 0:00:01\r\u001b[K     |██████▉                         | 51kB 4.4MB/s eta 0:00:01\r\u001b[K     |████████▎                       | 61kB 4.9MB/s eta 0:00:01\r\u001b[K     |█████████▋                      | 71kB 5.1MB/s eta 0:00:01\r\u001b[K     |███████████                     | 81kB 5.3MB/s eta 0:00:01\r\u001b[K     |████████████▍                   | 92kB 5.7MB/s eta 0:00:01\r\u001b[K     |█████████████▊                  | 102kB 4.5MB/s eta 0:00:01\r\u001b[K     |███████████████▏                | 112kB 4.5MB/s eta 0:00:01\r\u001b[K     |████████████████▌               | 122kB 4.5MB/s eta 0:00:01\r\u001b[K     |█████████████████▉              | 133kB 4.5MB/s eta 0:00:01\r\u001b[K     |███████████████████▎            | 143kB 4.5MB/s eta 0:00:01\r\u001b[K     |████████████████████▋           | 153kB 4.5MB/s eta 0:00:01\r\u001b[K     |██████████████████████          | 163kB 4.5MB/s eta 0:00:01\r\u001b[K     |███████████████████████▍        | 174kB 4.5MB/s eta 0:00:01\r\u001b[K     |████████████████████████▊       | 184kB 4.5MB/s eta 0:00:01\r\u001b[K     |██████████████████████████▏     | 194kB 4.5MB/s eta 0:00:01\r\u001b[K     |███████████████████████████▌    | 204kB 4.5MB/s eta 0:00:01\r\u001b[K     |████████████████████████████▉   | 215kB 4.5MB/s eta 0:00:01\r\u001b[K     |██████████████████████████████▎ | 225kB 4.5MB/s eta 0:00:01\r\u001b[K     |███████████████████████████████▋| 235kB 4.5MB/s eta 0:00:01\r\u001b[K     |████████████████████████████████| 245kB 4.5MB/s \n",
            "\u001b[?25hInstalling collected packages: unidecode\n",
            "Successfully installed unidecode-1.1.1\n"
          ],
          "name": "stdout"
        }
      ]
    },
    {
      "cell_type": "code",
      "metadata": {
        "id": "s-miKzGwSbXu"
      },
      "source": [
        "import unidecode"
      ],
      "execution_count": null,
      "outputs": []
    },
    {
      "cell_type": "code",
      "metadata": {
        "id": "h5a9YOrvSep-"
      },
      "source": [
        "df_BF['refinedTweets'] = df_BF['refinedTweets'].apply(lambda x : ' '.join([unidecode.unidecode(word) for word in x.split()]))\n",
        "df_NBF['refinedTweets'] = df_NBF['refinedTweets'].apply(lambda x : ' '.join([unidecode.unidecode(word) for word in x.split()]))"
      ],
      "execution_count": null,
      "outputs": []
    },
    {
      "cell_type": "code",
      "metadata": {
        "id": "ar4oCy4WS6L1"
      },
      "source": [
        "df_BF['refinedTweets'] = df_BF['refinedTweets'].str.replace(\"[^a-zA-Z# ]\", \"\")\n",
        "df_NBF['refinedTweets'] = df_NBF['refinedTweets'].str.replace(\"[^a-zA-Z# ]\", \"\")"
      ],
      "execution_count": null,
      "outputs": []
    },
    {
      "cell_type": "code",
      "metadata": {
        "colab": {
          "base_uri": "https://localhost:8080/"
        },
        "id": "JGeO6qxOThvg",
        "outputId": "67b90b66-a78a-4519-ab45-28a6a4b48029"
      },
      "source": [
        "import nltk\n",
        "from nltk.corpus import stopwords\n",
        "from nltk.tokenize import sent_tokenize, word_tokenize\n",
        "from nltk.sentiment.vader import SentimentIntensityAnalyzer\n",
        "from nltk.stem import WordNetLemmatizer\n",
        "from nltk.stem.porter import *\n",
        "\n",
        "nltk.download('stopwords')\n",
        "nltk.download('wordnet')\n",
        "nltk.download('vader_lexicon')\n",
        "nltk.download('averaged_perceptron_tagger')\n",
        "nltk.download('punkt')\n",
        "stopwords = set(stopwords.words(\"english\"))"
      ],
      "execution_count": null,
      "outputs": [
        {
          "output_type": "stream",
          "text": [
            "/usr/local/lib/python3.6/dist-packages/nltk/twitter/__init__.py:20: UserWarning: The twython library has not been installed. Some functionality from the twitter package will not be available.\n",
            "  warnings.warn(\"The twython library has not been installed. \"\n"
          ],
          "name": "stderr"
        },
        {
          "output_type": "stream",
          "text": [
            "[nltk_data] Downloading package stopwords to /root/nltk_data...\n",
            "[nltk_data]   Unzipping corpora/stopwords.zip.\n",
            "[nltk_data] Downloading package wordnet to /root/nltk_data...\n",
            "[nltk_data]   Unzipping corpora/wordnet.zip.\n",
            "[nltk_data] Downloading package vader_lexicon to /root/nltk_data...\n",
            "[nltk_data] Downloading package averaged_perceptron_tagger to\n",
            "[nltk_data]     /root/nltk_data...\n",
            "[nltk_data]   Unzipping taggers/averaged_perceptron_tagger.zip.\n",
            "[nltk_data] Downloading package punkt to /root/nltk_data...\n",
            "[nltk_data]   Unzipping tokenizers/punkt.zip.\n"
          ],
          "name": "stdout"
        }
      ]
    },
    {
      "cell_type": "code",
      "metadata": {
        "colab": {
          "base_uri": "https://localhost:8080/",
          "height": 682
        },
        "id": "gx7S_Qx9TGW-",
        "outputId": "4dd14e03-ddc7-42c6-9e12-d6317b05a148"
      },
      "source": [
        "#Remove Stopwords using NLT-K stopward set.\n",
        "stopwords = set(stopwords)\n",
        "cleanTweets = []\n",
        "\n",
        "for index, row in df_BF.iterrows():\n",
        "    \n",
        "    words_without_stopwords = [word for word in row.refinedTweets.split() if not word in stopwords]\n",
        "    cleanTweets.append(' '.join(words_without_stopwords))\n",
        "\n",
        "df_BF['refinedTweets'] = cleanTweets\n",
        "df_BF.head(10)"
      ],
      "execution_count": null,
      "outputs": [
        {
          "output_type": "execute_result",
          "data": {
            "text/html": [
              "<div>\n",
              "<style scoped>\n",
              "    .dataframe tbody tr th:only-of-type {\n",
              "        vertical-align: middle;\n",
              "    }\n",
              "\n",
              "    .dataframe tbody tr th {\n",
              "        vertical-align: top;\n",
              "    }\n",
              "\n",
              "    .dataframe thead th {\n",
              "        text-align: right;\n",
              "    }\n",
              "</style>\n",
              "<table border=\"1\" class=\"dataframe\">\n",
              "  <thead>\n",
              "    <tr style=\"text-align: right;\">\n",
              "      <th></th>\n",
              "      <th>date</th>\n",
              "      <th>content</th>\n",
              "      <th>lang</th>\n",
              "      <th>mentionedUsers</th>\n",
              "      <th>#</th>\n",
              "      <th>sentiment</th>\n",
              "      <th>refinedTweets</th>\n",
              "    </tr>\n",
              "  </thead>\n",
              "  <tbody>\n",
              "    <tr>\n",
              "      <th>0</th>\n",
              "      <td>2020-11-27 23:59:59+00:00</td>\n",
              "      <td>@CCE_Guide Enjoy this #BlackFriday with #Daddy...</td>\n",
              "      <td>en</td>\n",
              "      <td>[{'username': 'CCE_Guide', 'displayname': 'CCE...</td>\n",
              "      <td>#BlackFriday #Daddy</td>\n",
              "      <td>1</td>\n",
              "      <td>CCEGuide Enjoy #BlackFriday #Daddy amp I See</td>\n",
              "    </tr>\n",
              "    <tr>\n",
              "      <th>1</th>\n",
              "      <td>2020-11-27 23:59:59+00:00</td>\n",
              "      <td>Get your hotel’s guest feedback and online rep...</td>\n",
              "      <td>en</td>\n",
              "      <td>None</td>\n",
              "      <td>#BlackFriday</td>\n",
              "      <td>1</td>\n",
              "      <td>Get hotels guest feedback online reputation ma...</td>\n",
              "    </tr>\n",
              "    <tr>\n",
              "      <th>2</th>\n",
              "      <td>2020-11-27 23:59:57+00:00</td>\n",
              "      <td>((WE ARE LIVE!)) [Destiny 2] Black Friday Dest...</td>\n",
              "      <td>en</td>\n",
              "      <td>None</td>\n",
              "      <td>#DestinyTheGame #BlackFriday #SupportSmallStre...</td>\n",
              "      <td>1</td>\n",
              "      <td>WE AE LIVE Destiny Black Friday Destiny Chill ...</td>\n",
              "    </tr>\n",
              "    <tr>\n",
              "      <th>4</th>\n",
              "      <td>2020-11-27 23:59:55+00:00</td>\n",
              "      <td>Brand New Zebra Gk420 Direct thermal printer f...</td>\n",
              "      <td>en</td>\n",
              "      <td>None</td>\n",
              "      <td>#BlackFriday</td>\n",
              "      <td>1</td>\n",
              "      <td>Brand New Zebra Gk Direct thermal printer sale...</td>\n",
              "    </tr>\n",
              "    <tr>\n",
              "      <th>5</th>\n",
              "      <td>2020-11-27 23:59:53+00:00</td>\n",
              "      <td>Support a Black owned company this #BlackFrida...</td>\n",
              "      <td>en</td>\n",
              "      <td>[{'username': 'amazon', 'displayname': 'Amazon...</td>\n",
              "      <td>#BlackFriday! #BuyBlack #BuyBlackBlackFriday #...</td>\n",
              "      <td>-1</td>\n",
              "      <td>Support Black owned company #BlackFriday Oyin ...</td>\n",
              "    </tr>\n",
              "    <tr>\n",
              "      <th>6</th>\n",
              "      <td>2020-11-27 23:59:52+00:00</td>\n",
              "      <td>IN ONE HOUR starting at 8pm EST US\\n\\nBACK IN ...</td>\n",
              "      <td>en</td>\n",
              "      <td>None</td>\n",
              "      <td>#BlackFriday</td>\n",
              "      <td>-1</td>\n",
              "      <td>IN ONE HOU starting pm EST US BACK IN BLACK WI...</td>\n",
              "    </tr>\n",
              "    <tr>\n",
              "      <th>7</th>\n",
              "      <td>2020-11-27 23:59:51+00:00</td>\n",
              "      <td>@Arabianboyl @newdanton Enjoy this #BlackFrida...</td>\n",
              "      <td>en</td>\n",
              "      <td>[{'username': 'Arabianboyl', 'displayname': 'A...</td>\n",
              "      <td>#BlackFriday #Daddy</td>\n",
              "      <td>1</td>\n",
              "      <td>Arabianboyl newdanton Enjoy #BlackFriday #Dadd...</td>\n",
              "    </tr>\n",
              "    <tr>\n",
              "      <th>8</th>\n",
              "      <td>2020-11-27 23:59:50+00:00</td>\n",
              "      <td>He's the absolute #Worst of everything! Such a...</td>\n",
              "      <td>en</td>\n",
              "      <td>None</td>\n",
              "      <td>#Worst #LOSER #BlackFriday #DiaperDonald</td>\n",
              "      <td>-1</td>\n",
              "      <td>Hes absolute #Worst everything Such #LOSE #Bla...</td>\n",
              "    </tr>\n",
              "    <tr>\n",
              "      <th>9</th>\n",
              "      <td>2020-11-27 23:59:49+00:00</td>\n",
              "      <td>Us because it's #BlackFriday https://t.co/Ypmr...</td>\n",
              "      <td>en</td>\n",
              "      <td>None</td>\n",
              "      <td>#BlackFriday</td>\n",
              "      <td>0</td>\n",
              "      <td>Us #BlackFriday</td>\n",
              "    </tr>\n",
              "    <tr>\n",
              "      <th>10</th>\n",
              "      <td>2020-11-27 23:59:46+00:00</td>\n",
              "      <td>@ThatGuyInGaming Hey mate, Today is Black Frid...</td>\n",
              "      <td>en</td>\n",
              "      <td>[{'username': 'ThatGuyInGaming', 'displayname'...</td>\n",
              "      <td>#BlackFriday</td>\n",
              "      <td>1</td>\n",
              "      <td>ThatGuyInGaming Hey mate Today Black Friday sa...</td>\n",
              "    </tr>\n",
              "  </tbody>\n",
              "</table>\n",
              "</div>"
            ],
            "text/plain": [
              "                        date  ...                                      refinedTweets\n",
              "0  2020-11-27 23:59:59+00:00  ...       CCEGuide Enjoy #BlackFriday #Daddy amp I See\n",
              "1  2020-11-27 23:59:59+00:00  ...  Get hotels guest feedback online reputation ma...\n",
              "2  2020-11-27 23:59:57+00:00  ...  WE AE LIVE Destiny Black Friday Destiny Chill ...\n",
              "4  2020-11-27 23:59:55+00:00  ...  Brand New Zebra Gk Direct thermal printer sale...\n",
              "5  2020-11-27 23:59:53+00:00  ...  Support Black owned company #BlackFriday Oyin ...\n",
              "6  2020-11-27 23:59:52+00:00  ...  IN ONE HOU starting pm EST US BACK IN BLACK WI...\n",
              "7  2020-11-27 23:59:51+00:00  ...  Arabianboyl newdanton Enjoy #BlackFriday #Dadd...\n",
              "8  2020-11-27 23:59:50+00:00  ...  Hes absolute #Worst everything Such #LOSE #Bla...\n",
              "9  2020-11-27 23:59:49+00:00  ...                                    Us #BlackFriday\n",
              "10 2020-11-27 23:59:46+00:00  ...  ThatGuyInGaming Hey mate Today Black Friday sa...\n",
              "\n",
              "[10 rows x 7 columns]"
            ]
          },
          "metadata": {
            "tags": []
          },
          "execution_count": 146
        }
      ]
    },
    {
      "cell_type": "code",
      "metadata": {
        "colab": {
          "base_uri": "https://localhost:8080/",
          "height": 716
        },
        "id": "GP7h1lNiTqZD",
        "outputId": "95950f83-34f4-4694-a09c-d2a5a4af5ec3"
      },
      "source": [
        "stopwords = set(stopwords)\n",
        "cleanTweets = []\n",
        "\n",
        "for index, row in df_NBF.iterrows():\n",
        "    \n",
        "    words_without_stopwords = [word for word in row.refinedTweets.split() if not word in stopwords]\n",
        "    cleanTweets.append(' '.join(words_without_stopwords))\n",
        "\n",
        "df_NBF['refinedTweets'] = cleanTweets\n",
        "df_NBF.head(10)"
      ],
      "execution_count": null,
      "outputs": [
        {
          "output_type": "execute_result",
          "data": {
            "text/html": [
              "<div>\n",
              "<style scoped>\n",
              "    .dataframe tbody tr th:only-of-type {\n",
              "        vertical-align: middle;\n",
              "    }\n",
              "\n",
              "    .dataframe tbody tr th {\n",
              "        vertical-align: top;\n",
              "    }\n",
              "\n",
              "    .dataframe thead th {\n",
              "        text-align: right;\n",
              "    }\n",
              "</style>\n",
              "<table border=\"1\" class=\"dataframe\">\n",
              "  <thead>\n",
              "    <tr style=\"text-align: right;\">\n",
              "      <th></th>\n",
              "      <th>date</th>\n",
              "      <th>content</th>\n",
              "      <th>lang</th>\n",
              "      <th>mentionedUsers</th>\n",
              "      <th>#</th>\n",
              "      <th>sentiment</th>\n",
              "      <th>refinedTweets</th>\n",
              "    </tr>\n",
              "  </thead>\n",
              "  <tbody>\n",
              "    <tr>\n",
              "      <th>0</th>\n",
              "      <td>2020-08-30 23:59:38+00:00</td>\n",
              "      <td>🔥 Umorden Family Cleopatra Cosplay for Women G...</td>\n",
              "      <td>en</td>\n",
              "      <td>None</td>\n",
              "      <td>#trend #shopping</td>\n",
              "      <td>0</td>\n",
              "      <td>Umorden Family Cleopatra Cosplay Women Girls K...</td>\n",
              "    </tr>\n",
              "    <tr>\n",
              "      <th>1</th>\n",
              "      <td>2020-08-30 23:58:57+00:00</td>\n",
              "      <td>🌸🌴 NEW ARRIVALS EVERY SUNDAY 🌴🌸 \\n•\\n•\\n•\\n\\n•...</td>\n",
              "      <td>en</td>\n",
              "      <td>None</td>\n",
              "      <td>#tropicalbabes #tropicalbabesshorts #clothing ...</td>\n",
              "      <td>1</td>\n",
              "      <td>NEW AIVALS EVEY SUNDAY #tropicalbabes #tropica...</td>\n",
              "    </tr>\n",
              "    <tr>\n",
              "      <th>2</th>\n",
              "      <td>2020-08-30 23:56:52+00:00</td>\n",
              "      <td>https://t.co/BxkGS4NrJq Decanter Globe Set wit...</td>\n",
              "      <td>en</td>\n",
              "      <td>None</td>\n",
              "      <td>#shopnow #shopping #shoponline #relaxingmusic</td>\n",
              "      <td>0</td>\n",
              "      <td>Decanter Globe Set Etched Globe Whisky Glasses...</td>\n",
              "    </tr>\n",
              "    <tr>\n",
              "      <th>3</th>\n",
              "      <td>2020-08-30 23:56:36+00:00</td>\n",
              "      <td>Boho Rattan Straw Women's Beach Bag https://t....</td>\n",
              "      <td>en</td>\n",
              "      <td>None</td>\n",
              "      <td>#moda #shopping</td>\n",
              "      <td>0</td>\n",
              "      <td>Bohoattan Straw Womens Beach Bag #moda #shopping</td>\n",
              "    </tr>\n",
              "    <tr>\n",
              "      <th>4</th>\n",
              "      <td>2020-08-30 23:53:26+00:00</td>\n",
              "      <td>Lingzhi Extract - Health Protective Food $23.6...</td>\n",
              "      <td>en</td>\n",
              "      <td>None</td>\n",
              "      <td>#Supplements #LingChi #Lingzhi #Vietnam #Shopping</td>\n",
              "      <td>0</td>\n",
              "      <td>Lingzhi Extract Health Protective Food #Supple...</td>\n",
              "    </tr>\n",
              "    <tr>\n",
              "      <th>5</th>\n",
              "      <td>2020-08-30 23:53:22+00:00</td>\n",
              "      <td>Thien Thao - Green medicaded oil $1.84 #Medica...</td>\n",
              "      <td>en</td>\n",
              "      <td>None</td>\n",
              "      <td>#MedicatedOil #Cough #Colds #Headache #Vietnam...</td>\n",
              "      <td>-1</td>\n",
              "      <td>Thien Thao Green medicaded oil #MedicatedOil #...</td>\n",
              "    </tr>\n",
              "    <tr>\n",
              "      <th>6</th>\n",
              "      <td>2020-08-30 23:53:21+00:00</td>\n",
              "      <td>Magic Silicone Kitchen Cleaning Gloves https:/...</td>\n",
              "      <td>en</td>\n",
              "      <td>None</td>\n",
              "      <td>#shopping #shoppingonline #shoppingguide #shop...</td>\n",
              "      <td>1</td>\n",
              "      <td>Magic Silicone Kitchen Cleaning Gloves Free Sh...</td>\n",
              "    </tr>\n",
              "    <tr>\n",
              "      <th>8</th>\n",
              "      <td>2020-08-30 23:51:42+00:00</td>\n",
              "      <td>TOMLOV 2MP HD WiFi Outdoor PTZ Security Camera...</td>\n",
              "      <td>en</td>\n",
              "      <td>None</td>\n",
              "      <td>#coupons #deals #shopping #shop</td>\n",
              "      <td>0</td>\n",
              "      <td>TOMLOV MP HD WiFi Outdoor PTZ Security Camera ...</td>\n",
              "    </tr>\n",
              "    <tr>\n",
              "      <th>9</th>\n",
              "      <td>2020-08-30 23:45:01+00:00</td>\n",
              "      <td>Bath &amp;amp; Body Works in Buffalo's Walden Gall...</td>\n",
              "      <td>en</td>\n",
              "      <td>None</td>\n",
              "      <td>#lawsuits #malls #shopping #Buffalo #NewYork #WNY</td>\n",
              "      <td>-1</td>\n",
              "      <td>Bath amp Body Works Buffalos Walden Galleria b...</td>\n",
              "    </tr>\n",
              "    <tr>\n",
              "      <th>12</th>\n",
              "      <td>2020-08-30 23:43:32+00:00</td>\n",
              "      <td>Winners always has the best stuff. If only I d...</td>\n",
              "      <td>en</td>\n",
              "      <td>None</td>\n",
              "      <td>#dogmom</td>\n",
              "      <td>1</td>\n",
              "      <td>Winners always best stuff If I didnt already m...</td>\n",
              "    </tr>\n",
              "  </tbody>\n",
              "</table>\n",
              "</div>"
            ],
            "text/plain": [
              "                        date  ...                                      refinedTweets\n",
              "0  2020-08-30 23:59:38+00:00  ...  Umorden Family Cleopatra Cosplay Women Girls K...\n",
              "1  2020-08-30 23:58:57+00:00  ...  NEW AIVALS EVEY SUNDAY #tropicalbabes #tropica...\n",
              "2  2020-08-30 23:56:52+00:00  ...  Decanter Globe Set Etched Globe Whisky Glasses...\n",
              "3  2020-08-30 23:56:36+00:00  ...   Bohoattan Straw Womens Beach Bag #moda #shopping\n",
              "4  2020-08-30 23:53:26+00:00  ...  Lingzhi Extract Health Protective Food #Supple...\n",
              "5  2020-08-30 23:53:22+00:00  ...  Thien Thao Green medicaded oil #MedicatedOil #...\n",
              "6  2020-08-30 23:53:21+00:00  ...  Magic Silicone Kitchen Cleaning Gloves Free Sh...\n",
              "8  2020-08-30 23:51:42+00:00  ...  TOMLOV MP HD WiFi Outdoor PTZ Security Camera ...\n",
              "9  2020-08-30 23:45:01+00:00  ...  Bath amp Body Works Buffalos Walden Galleria b...\n",
              "12 2020-08-30 23:43:32+00:00  ...  Winners always best stuff If I didnt already m...\n",
              "\n",
              "[10 rows x 7 columns]"
            ]
          },
          "metadata": {
            "tags": []
          },
          "execution_count": 147
        }
      ]
    },
    {
      "cell_type": "code",
      "metadata": {
        "id": "ntSBsFRVT59N"
      },
      "source": [
        "#extract hashtags\n",
        "frame_BF = df_BF['#']\n",
        "frame_NBF = df_NBF['#']"
      ],
      "execution_count": null,
      "outputs": []
    },
    {
      "cell_type": "code",
      "metadata": {
        "id": "1gaSNWZBUOH7"
      },
      "source": [
        "frame_BF = pd.DataFrame(frame_BF)\n",
        "frame_NBF = pd.DataFrame(frame_NBF)"
      ],
      "execution_count": null,
      "outputs": []
    },
    {
      "cell_type": "code",
      "metadata": {
        "colab": {
          "base_uri": "https://localhost:8080/",
          "height": 204
        },
        "id": "Ree_jd08UW_g",
        "outputId": "bce782e2-de41-4046-c69b-d4fa3c62ef80"
      },
      "source": [
        "frame_BF = frame_BF.rename({'#':'Count(#)'},axis = 'columns')\n",
        "frame_BF[frame_BF['Count(#)'] == ''] = 'No hashtags'\n",
        "frame_BF.head()"
      ],
      "execution_count": null,
      "outputs": [
        {
          "output_type": "execute_result",
          "data": {
            "text/html": [
              "<div>\n",
              "<style scoped>\n",
              "    .dataframe tbody tr th:only-of-type {\n",
              "        vertical-align: middle;\n",
              "    }\n",
              "\n",
              "    .dataframe tbody tr th {\n",
              "        vertical-align: top;\n",
              "    }\n",
              "\n",
              "    .dataframe thead th {\n",
              "        text-align: right;\n",
              "    }\n",
              "</style>\n",
              "<table border=\"1\" class=\"dataframe\">\n",
              "  <thead>\n",
              "    <tr style=\"text-align: right;\">\n",
              "      <th></th>\n",
              "      <th>Count(#)</th>\n",
              "    </tr>\n",
              "  </thead>\n",
              "  <tbody>\n",
              "    <tr>\n",
              "      <th>0</th>\n",
              "      <td>#BlackFriday #Daddy</td>\n",
              "    </tr>\n",
              "    <tr>\n",
              "      <th>1</th>\n",
              "      <td>#BlackFriday</td>\n",
              "    </tr>\n",
              "    <tr>\n",
              "      <th>2</th>\n",
              "      <td>#DestinyTheGame #BlackFriday #SupportSmallStre...</td>\n",
              "    </tr>\n",
              "    <tr>\n",
              "      <th>4</th>\n",
              "      <td>#BlackFriday</td>\n",
              "    </tr>\n",
              "    <tr>\n",
              "      <th>5</th>\n",
              "      <td>#BlackFriday! #BuyBlack #BuyBlackBlackFriday #...</td>\n",
              "    </tr>\n",
              "  </tbody>\n",
              "</table>\n",
              "</div>"
            ],
            "text/plain": [
              "                                            Count(#)\n",
              "0                                #BlackFriday #Daddy\n",
              "1                                       #BlackFriday\n",
              "2  #DestinyTheGame #BlackFriday #SupportSmallStre...\n",
              "4                                       #BlackFriday\n",
              "5  #BlackFriday! #BuyBlack #BuyBlackBlackFriday #..."
            ]
          },
          "metadata": {
            "tags": []
          },
          "execution_count": 152
        }
      ]
    },
    {
      "cell_type": "code",
      "metadata": {
        "colab": {
          "base_uri": "https://localhost:8080/",
          "height": 204
        },
        "id": "4SGUaMhSUhSa",
        "outputId": "fd26cabc-f12c-4ec8-ceca-100b23fbebbf"
      },
      "source": [
        "frame_NBF = frame_NBF.rename({'#':'Count(#)'},axis = 'columns')\n",
        "frame_NBF[frame_NBF['Count(#)'] == ''] = 'No hashtags'\n",
        "frame_NBF.head()"
      ],
      "execution_count": null,
      "outputs": [
        {
          "output_type": "execute_result",
          "data": {
            "text/html": [
              "<div>\n",
              "<style scoped>\n",
              "    .dataframe tbody tr th:only-of-type {\n",
              "        vertical-align: middle;\n",
              "    }\n",
              "\n",
              "    .dataframe tbody tr th {\n",
              "        vertical-align: top;\n",
              "    }\n",
              "\n",
              "    .dataframe thead th {\n",
              "        text-align: right;\n",
              "    }\n",
              "</style>\n",
              "<table border=\"1\" class=\"dataframe\">\n",
              "  <thead>\n",
              "    <tr style=\"text-align: right;\">\n",
              "      <th></th>\n",
              "      <th>Count(#)</th>\n",
              "    </tr>\n",
              "  </thead>\n",
              "  <tbody>\n",
              "    <tr>\n",
              "      <th>0</th>\n",
              "      <td>#trend #shopping</td>\n",
              "    </tr>\n",
              "    <tr>\n",
              "      <th>1</th>\n",
              "      <td>#tropicalbabes #tropicalbabesshorts #clothing ...</td>\n",
              "    </tr>\n",
              "    <tr>\n",
              "      <th>2</th>\n",
              "      <td>#shopnow #shopping #shoponline #relaxingmusic</td>\n",
              "    </tr>\n",
              "    <tr>\n",
              "      <th>3</th>\n",
              "      <td>#moda #shopping</td>\n",
              "    </tr>\n",
              "    <tr>\n",
              "      <th>4</th>\n",
              "      <td>#Supplements #LingChi #Lingzhi #Vietnam #Shopping</td>\n",
              "    </tr>\n",
              "  </tbody>\n",
              "</table>\n",
              "</div>"
            ],
            "text/plain": [
              "                                            Count(#)\n",
              "0                                   #trend #shopping\n",
              "1  #tropicalbabes #tropicalbabesshorts #clothing ...\n",
              "2      #shopnow #shopping #shoponline #relaxingmusic\n",
              "3                                    #moda #shopping\n",
              "4  #Supplements #LingChi #Lingzhi #Vietnam #Shopping"
            ]
          },
          "metadata": {
            "tags": []
          },
          "execution_count": 153
        }
      ]
    },
    {
      "cell_type": "code",
      "metadata": {
        "colab": {
          "base_uri": "https://localhost:8080/",
          "height": 357
        },
        "id": "sziKr97AUzsE",
        "outputId": "9dd0519a-6233-43e3-cc58-dcd0c3021f8b"
      },
      "source": [
        "df_BF = pd.concat([df_BF,frame_BF],axis = 1)\n",
        "df_BF.drop('#',axis = 1,inplace = True)\n",
        "df_BF.head()"
      ],
      "execution_count": null,
      "outputs": [
        {
          "output_type": "execute_result",
          "data": {
            "text/html": [
              "<div>\n",
              "<style scoped>\n",
              "    .dataframe tbody tr th:only-of-type {\n",
              "        vertical-align: middle;\n",
              "    }\n",
              "\n",
              "    .dataframe tbody tr th {\n",
              "        vertical-align: top;\n",
              "    }\n",
              "\n",
              "    .dataframe thead th {\n",
              "        text-align: right;\n",
              "    }\n",
              "</style>\n",
              "<table border=\"1\" class=\"dataframe\">\n",
              "  <thead>\n",
              "    <tr style=\"text-align: right;\">\n",
              "      <th></th>\n",
              "      <th>date</th>\n",
              "      <th>content</th>\n",
              "      <th>lang</th>\n",
              "      <th>mentionedUsers</th>\n",
              "      <th>sentiment</th>\n",
              "      <th>refinedTweets</th>\n",
              "      <th>Count(#)</th>\n",
              "    </tr>\n",
              "  </thead>\n",
              "  <tbody>\n",
              "    <tr>\n",
              "      <th>0</th>\n",
              "      <td>2020-11-27 23:59:59+00:00</td>\n",
              "      <td>@CCE_Guide Enjoy this #BlackFriday with #Daddy...</td>\n",
              "      <td>en</td>\n",
              "      <td>[{'username': 'CCE_Guide', 'displayname': 'CCE...</td>\n",
              "      <td>1</td>\n",
              "      <td>CCEGuide Enjoy #BlackFriday #Daddy amp I See</td>\n",
              "      <td>#BlackFriday #Daddy</td>\n",
              "    </tr>\n",
              "    <tr>\n",
              "      <th>1</th>\n",
              "      <td>2020-11-27 23:59:59+00:00</td>\n",
              "      <td>Get your hotel’s guest feedback and online rep...</td>\n",
              "      <td>en</td>\n",
              "      <td>None</td>\n",
              "      <td>1</td>\n",
              "      <td>Get hotels guest feedback online reputation ma...</td>\n",
              "      <td>#BlackFriday</td>\n",
              "    </tr>\n",
              "    <tr>\n",
              "      <th>2</th>\n",
              "      <td>2020-11-27 23:59:57+00:00</td>\n",
              "      <td>((WE ARE LIVE!)) [Destiny 2] Black Friday Dest...</td>\n",
              "      <td>en</td>\n",
              "      <td>None</td>\n",
              "      <td>1</td>\n",
              "      <td>WE AE LIVE Destiny Black Friday Destiny Chill ...</td>\n",
              "      <td>#DestinyTheGame #BlackFriday #SupportSmallStre...</td>\n",
              "    </tr>\n",
              "    <tr>\n",
              "      <th>4</th>\n",
              "      <td>2020-11-27 23:59:55+00:00</td>\n",
              "      <td>Brand New Zebra Gk420 Direct thermal printer f...</td>\n",
              "      <td>en</td>\n",
              "      <td>None</td>\n",
              "      <td>1</td>\n",
              "      <td>Brand New Zebra Gk Direct thermal printer sale...</td>\n",
              "      <td>#BlackFriday</td>\n",
              "    </tr>\n",
              "    <tr>\n",
              "      <th>5</th>\n",
              "      <td>2020-11-27 23:59:53+00:00</td>\n",
              "      <td>Support a Black owned company this #BlackFrida...</td>\n",
              "      <td>en</td>\n",
              "      <td>[{'username': 'amazon', 'displayname': 'Amazon...</td>\n",
              "      <td>-1</td>\n",
              "      <td>Support Black owned company #BlackFriday Oyin ...</td>\n",
              "      <td>#BlackFriday! #BuyBlack #BuyBlackBlackFriday #...</td>\n",
              "    </tr>\n",
              "  </tbody>\n",
              "</table>\n",
              "</div>"
            ],
            "text/plain": [
              "                       date  ...                                           Count(#)\n",
              "0 2020-11-27 23:59:59+00:00  ...                                #BlackFriday #Daddy\n",
              "1 2020-11-27 23:59:59+00:00  ...                                       #BlackFriday\n",
              "2 2020-11-27 23:59:57+00:00  ...  #DestinyTheGame #BlackFriday #SupportSmallStre...\n",
              "4 2020-11-27 23:59:55+00:00  ...                                       #BlackFriday\n",
              "5 2020-11-27 23:59:53+00:00  ...  #BlackFriday! #BuyBlack #BuyBlackBlackFriday #...\n",
              "\n",
              "[5 rows x 7 columns]"
            ]
          },
          "metadata": {
            "tags": []
          },
          "execution_count": 154
        }
      ]
    },
    {
      "cell_type": "code",
      "metadata": {
        "colab": {
          "base_uri": "https://localhost:8080/",
          "height": 374
        },
        "id": "n9AOd5tHVDJB",
        "outputId": "c8b1de5a-e7fb-4c52-857f-7a812bcf10c4"
      },
      "source": [
        "df_NBF = pd.concat([df_NBF,frame_NBF],axis = 1)\n",
        "df_NBF.drop('#',axis = 1,inplace = True)\n",
        "df_NBF.head()"
      ],
      "execution_count": null,
      "outputs": [
        {
          "output_type": "execute_result",
          "data": {
            "text/html": [
              "<div>\n",
              "<style scoped>\n",
              "    .dataframe tbody tr th:only-of-type {\n",
              "        vertical-align: middle;\n",
              "    }\n",
              "\n",
              "    .dataframe tbody tr th {\n",
              "        vertical-align: top;\n",
              "    }\n",
              "\n",
              "    .dataframe thead th {\n",
              "        text-align: right;\n",
              "    }\n",
              "</style>\n",
              "<table border=\"1\" class=\"dataframe\">\n",
              "  <thead>\n",
              "    <tr style=\"text-align: right;\">\n",
              "      <th></th>\n",
              "      <th>date</th>\n",
              "      <th>content</th>\n",
              "      <th>lang</th>\n",
              "      <th>mentionedUsers</th>\n",
              "      <th>sentiment</th>\n",
              "      <th>refinedTweets</th>\n",
              "      <th>Count(#)</th>\n",
              "    </tr>\n",
              "  </thead>\n",
              "  <tbody>\n",
              "    <tr>\n",
              "      <th>0</th>\n",
              "      <td>2020-08-30 23:59:38+00:00</td>\n",
              "      <td>🔥 Umorden Family Cleopatra Cosplay for Women G...</td>\n",
              "      <td>en</td>\n",
              "      <td>None</td>\n",
              "      <td>0</td>\n",
              "      <td>Umorden Family Cleopatra Cosplay Women Girls K...</td>\n",
              "      <td>#trend #shopping</td>\n",
              "    </tr>\n",
              "    <tr>\n",
              "      <th>1</th>\n",
              "      <td>2020-08-30 23:58:57+00:00</td>\n",
              "      <td>🌸🌴 NEW ARRIVALS EVERY SUNDAY 🌴🌸 \\n•\\n•\\n•\\n\\n•...</td>\n",
              "      <td>en</td>\n",
              "      <td>None</td>\n",
              "      <td>1</td>\n",
              "      <td>NEW AIVALS EVEY SUNDAY #tropicalbabes #tropica...</td>\n",
              "      <td>#tropicalbabes #tropicalbabesshorts #clothing ...</td>\n",
              "    </tr>\n",
              "    <tr>\n",
              "      <th>2</th>\n",
              "      <td>2020-08-30 23:56:52+00:00</td>\n",
              "      <td>https://t.co/BxkGS4NrJq Decanter Globe Set wit...</td>\n",
              "      <td>en</td>\n",
              "      <td>None</td>\n",
              "      <td>0</td>\n",
              "      <td>Decanter Globe Set Etched Globe Whisky Glasses...</td>\n",
              "      <td>#shopnow #shopping #shoponline #relaxingmusic</td>\n",
              "    </tr>\n",
              "    <tr>\n",
              "      <th>3</th>\n",
              "      <td>2020-08-30 23:56:36+00:00</td>\n",
              "      <td>Boho Rattan Straw Women's Beach Bag https://t....</td>\n",
              "      <td>en</td>\n",
              "      <td>None</td>\n",
              "      <td>0</td>\n",
              "      <td>Bohoattan Straw Womens Beach Bag #moda #shopping</td>\n",
              "      <td>#moda #shopping</td>\n",
              "    </tr>\n",
              "    <tr>\n",
              "      <th>4</th>\n",
              "      <td>2020-08-30 23:53:26+00:00</td>\n",
              "      <td>Lingzhi Extract - Health Protective Food $23.6...</td>\n",
              "      <td>en</td>\n",
              "      <td>None</td>\n",
              "      <td>0</td>\n",
              "      <td>Lingzhi Extract Health Protective Food #Supple...</td>\n",
              "      <td>#Supplements #LingChi #Lingzhi #Vietnam #Shopping</td>\n",
              "    </tr>\n",
              "  </tbody>\n",
              "</table>\n",
              "</div>"
            ],
            "text/plain": [
              "                       date  ...                                           Count(#)\n",
              "0 2020-08-30 23:59:38+00:00  ...                                   #trend #shopping\n",
              "1 2020-08-30 23:58:57+00:00  ...  #tropicalbabes #tropicalbabesshorts #clothing ...\n",
              "2 2020-08-30 23:56:52+00:00  ...      #shopnow #shopping #shoponline #relaxingmusic\n",
              "3 2020-08-30 23:56:36+00:00  ...                                    #moda #shopping\n",
              "4 2020-08-30 23:53:26+00:00  ...  #Supplements #LingChi #Lingzhi #Vietnam #Shopping\n",
              "\n",
              "[5 rows x 7 columns]"
            ]
          },
          "metadata": {
            "tags": []
          },
          "execution_count": 155
        }
      ]
    },
    {
      "cell_type": "code",
      "metadata": {
        "id": "o34KNXncWD1B"
      },
      "source": [
        "def hashtag_extract(x):\n",
        "    hashtags = []\n",
        "    # Loop over the words in the tweet\n",
        "    for i in x:\n",
        "        ht = re.findall(r\"#(\\w+)\", i)\n",
        "        hashtags.append(ht)\n",
        "\n",
        "    return hashtags"
      ],
      "execution_count": null,
      "outputs": []
    },
    {
      "cell_type": "code",
      "metadata": {
        "id": "p6W-0nDTWC5U"
      },
      "source": [
        "hash_BF = hashtag_extract(df_BF['refinedTweets'])\n",
        "hash_BF = sum(hash_BF,[])"
      ],
      "execution_count": null,
      "outputs": []
    },
    {
      "cell_type": "code",
      "metadata": {
        "id": "Ln60qH93W9Oo"
      },
      "source": [
        "hash_NBF = hashtag_extract(df_NBF['refinedTweets'])\n",
        "hash_NBF = sum(hash_NBF,[])"
      ],
      "execution_count": null,
      "outputs": []
    },
    {
      "cell_type": "code",
      "metadata": {
        "colab": {
          "base_uri": "https://localhost:8080/"
        },
        "id": "UgJjGxbRXJ7C",
        "outputId": "7fe6c688-67da-4dd6-9451-d78d04d8248a"
      },
      "source": [
        "q = Counter(hash_BF)\n",
        "q = dict(q.most_common())\n",
        "c_BF_count = list(q.values())\n",
        "c_BF_count[0:10]"
      ],
      "execution_count": null,
      "outputs": [
        {
          "output_type": "execute_result",
          "data": {
            "text/plain": [
              "[18659, 5433, 4384, 1786, 1095, 986, 986, 833, 701, 690]"
            ]
          },
          "metadata": {
            "tags": []
          },
          "execution_count": 195
        }
      ]
    },
    {
      "cell_type": "code",
      "metadata": {
        "colab": {
          "base_uri": "https://localhost:8080/"
        },
        "id": "lxcyEhKKXcr8",
        "outputId": "59cf65b1-e086-44b0-b792-bdc9f3a933bf"
      },
      "source": [
        "r = Counter(hash_NBF)\n",
        "r = dict(r.most_common())\n",
        "c_NBF_count = list(r.values())\n",
        "c_NBF_count[0:10]"
      ],
      "execution_count": null,
      "outputs": [
        {
          "output_type": "execute_result",
          "data": {
            "text/plain": [
              "[18669, 4173, 2931, 2770, 2389, 1683, 1668, 1469, 1200, 1139]"
            ]
          },
          "metadata": {
            "tags": []
          },
          "execution_count": 196
        }
      ]
    },
    {
      "cell_type": "code",
      "metadata": {
        "colab": {
          "base_uri": "https://localhost:8080/"
        },
        "id": "iGXol3t3XrSR",
        "outputId": "0526fd54-5e75-4365-8998-1c19f860ae48"
      },
      "source": [
        "c_BF_values = list(q.keys())\n",
        "c_BF_values[0:10]"
      ],
      "execution_count": null,
      "outputs": [
        {
          "output_type": "execute_result",
          "data": {
            "text/plain": [
              "['BlackFriday',\n",
              " 'blackfriday',\n",
              " 'shopping',\n",
              " 'blackfridaysale',\n",
              " 'sale',\n",
              " 'BlackFridayDeals',\n",
              " 'CyberMonday',\n",
              " 'Shopping',\n",
              " 'Christmas',\n",
              " 'gifts']"
            ]
          },
          "metadata": {
            "tags": []
          },
          "execution_count": 197
        }
      ]
    },
    {
      "cell_type": "code",
      "metadata": {
        "colab": {
          "base_uri": "https://localhost:8080/"
        },
        "id": "Vv_KOgUnXxRO",
        "outputId": "96983700-e4e5-4c6d-ac1d-0f14c80f4801"
      },
      "source": [
        "c_NBF_values = list(r.keys())\n",
        "c_NBF_values[0:10]"
      ],
      "execution_count": null,
      "outputs": [
        {
          "output_type": "execute_result",
          "data": {
            "text/plain": [
              "['shopping',\n",
              " 'fashion',\n",
              " 'Shopping',\n",
              " 'ebay',\n",
              " 'style',\n",
              " 'onlineshopping',\n",
              " 'shop',\n",
              " 'sale',\n",
              " 'love',\n",
              " 'clothing']"
            ]
          },
          "metadata": {
            "tags": []
          },
          "execution_count": 198
        }
      ]
    },
    {
      "cell_type": "markdown",
      "metadata": {
        "id": "f8642MqrsE92"
      },
      "source": [
        "# Brand Popularity\n",
        "\n",
        "Having performed NLP and having extracted hashtags from tweets, We can now check to see what are the most popular hashtags in each of the datasets."
      ]
    },
    {
      "cell_type": "code",
      "metadata": {
        "id": "bTkyCtnrIPYA",
        "colab": {
          "base_uri": "https://localhost:8080/",
          "height": 762
        },
        "outputId": "81aa6fd2-a89e-4626-cf56-8398c9e9c653"
      },
      "source": [
        "fig, ax = plt.subplots(1,1)\n",
        "fig.set_size_inches(12,12)\n",
        "_ = sns.barplot(x=c_BF_count, y=c_BF_values, ax=ax, color='blue')\n",
        "_ = ax.tick_params(axis='x', which='major', labelsize=20)\n",
        "_ = ax.tick_params(axis='y', which='major', labelsize=22)\n",
        "_ = ax.set_xlabel('Frequency', fontsize=24)\n",
        "_ = ax.set_ylabel('')\n",
        "_ = ax.set_title('Most Frequent Hashtags in Black Friday Tweets', fontsize=24)"
      ],
      "execution_count": null,
      "outputs": [
        {
          "output_type": "display_data",
          "data": {
            "image/png": "[encoded data removed]",
            "text/plain": [
              "<Figure size 864x864 with 1 Axes>"
            ]
          },
          "metadata": {
            "tags": [],
            "needs_background": "light"
          }
        }
      ]
    },
    {
      "cell_type": "code",
      "metadata": {
        "colab": {
          "base_uri": "https://localhost:8080/",
          "height": 762
        },
        "id": "oVycNEBCY7wJ",
        "outputId": "6b8c3bc9-9ea7-4e7d-c0e7-cc443cd70f64"
      },
      "source": [
        "fig, ax = plt.subplots(1,1)\n",
        "fig.set_size_inches(12,12)\n",
        "_ = sns.barplot(x=c_NBF_count, y=c_NBF_values, ax=ax, color='blue')\n",
        "_ = ax.tick_params(axis='x', which='major', labelsize=20)\n",
        "_ = ax.tick_params(axis='y', which='major', labelsize=22)\n",
        "_ = ax.set_xlabel('Frequency', fontsize=24)\n",
        "_ = ax.set_ylabel('')\n",
        "_ = ax.set_title('Most Frequent Hashtags in Non Black Friday Tweets', fontsize=24)"
      ],
      "execution_count": null,
      "outputs": [
        {
          "output_type": "display_data",
          "data": {
            "image/png": "[encoded data removed]",
            "text/plain": [
              "<Figure size 864x864 with 1 Axes>"
            ]
          },
          "metadata": {
            "tags": [],
            "needs_background": "light"
          }
        }
      ]
    },
    {
      "cell_type": "markdown",
      "metadata": {
        "id": "5tygX6_ps4aS"
      },
      "source": [
        "We want to focus on certain brands and how their popularity varies. Therfore, we create a set of brands and check how only their popularity varies."
      ]
    },
    {
      "cell_type": "code",
      "metadata": {
        "id": "QZ_jVub1Z_yx"
      },
      "source": [
        "brands = ['amazon', 'etsy', 'samsung', 'apple', 'walmart', 'ebay', 'target', 'bestbuy', 'microsoft','sephora', 'homedepot','starbucks', 'nordstrom', 'macys', 'kohls']"
      ],
      "execution_count": null,
      "outputs": []
    },
    {
      "cell_type": "code",
      "metadata": {
        "colab": {
          "base_uri": "https://localhost:8080/",
          "height": 762
        },
        "id": "2tKzl8kQadag",
        "outputId": "d962d3b8-fa61-4bfb-c8a9-f5f37be5e3c4"
      },
      "source": [
        "ht_dict_BF = q\n",
        "brands_ht = [ht_dict_BF[x] for x in brands]\n",
        "\n",
        "fig, ax = plt.subplots(1, 1)\n",
        "fig.set_size_inches(12, 12)\n",
        "_ = sns.barplot(x=brands_ht, y=brands)\n",
        "_ = ax.tick_params(axis='x', which='major', labelsize=20)\n",
        "_ = ax.tick_params(axis='y', which='major', labelsize=22)\n",
        "_ = ax.set_xlabel('Hashtag Counts',fontsize=24)\n",
        "_ = ax.set_title('Brands trending on Black Friday', fontsize=24)"
      ],
      "execution_count": null,
      "outputs": [
        {
          "output_type": "display_data",
          "data": {
            "image/png": "[encoded data removed]",
            "text/plain": [
              "<Figure size 864x864 with 1 Axes>"
            ]
          },
          "metadata": {
            "tags": [],
            "needs_background": "light"
          }
        }
      ]
    },
    {
      "cell_type": "code",
      "metadata": {
        "id": "hJ3FV91JfK8p"
      },
      "source": [
        "brandsx = ['amazon', 'etsy', 'samsung', 'apple', 'walmart', 'ebay', 'target', 'bestbuy','sephora', 'homedepot','starbucks', 'nordstrom', 'macys', 'kohls']"
      ],
      "execution_count": null,
      "outputs": []
    },
    {
      "cell_type": "code",
      "metadata": {
        "colab": {
          "base_uri": "https://localhost:8080/",
          "height": 762
        },
        "id": "padmOf9MbTP3",
        "outputId": "84903af6-b60a-4693-d405-005fe7e1dcf6"
      },
      "source": [
        "ht_dict_NBF = r\n",
        "brands_ht = [ht_dict_NBF[x] for x in brandsx]\n",
        "\n",
        "fig, ax = plt.subplots(1, 1)\n",
        "fig.set_size_inches(12, 12)\n",
        "_ = sns.barplot(x=brands_ht, y=brandsx)\n",
        "_ = ax.tick_params(axis='x', which='major', labelsize=20)\n",
        "_ = ax.tick_params(axis='y', which='major', labelsize=22)\n",
        "_ = ax.set_xlabel('Hashtag Counts',fontsize=24)\n",
        "_ = ax.set_title('Brands trending on a Non Black Friday Day', fontsize=24)"
      ],
      "execution_count": null,
      "outputs": [
        {
          "output_type": "display_data",
          "data": {
            "image/png": "[encoded data removed]",
            "text/plain": [
              "<Figure size 864x864 with 1 Axes>"
            ]
          },
          "metadata": {
            "tags": [],
            "needs_background": "light"
          }
        }
      ]
    },
    {
      "cell_type": "markdown",
      "metadata": {
        "id": "Y2Xz8M1ztsZh"
      },
      "source": [
        "# Sentiment Analysis on Brands\n",
        "Let us now perform more detailed sentiment analysis over brands that are seemingly popular over both black friday and a non black friday day."
      ]
    },
    {
      "cell_type": "markdown",
      "metadata": {
        "id": "8jeJdRnduFuY"
      },
      "source": [
        "**Apple:**"
      ]
    },
    {
      "cell_type": "code",
      "metadata": {
        "id": "0A8Nd_e3gkhA"
      },
      "source": [
        "df_BF['apple'] = (df_BF['Count(#)'] + df_BF['content']).apply(lambda x: True if 'apple' in x else False)\n",
        "df_NBF['apple'] = (df_NBF['Count(#)'] + df_NBF['content']).apply(lambda x: True if 'apple' in x else False)\n"
      ],
      "execution_count": null,
      "outputs": []
    },
    {
      "cell_type": "code",
      "metadata": {
        "colab": {
          "base_uri": "https://localhost:8080/",
          "height": 408
        },
        "id": "rcI5zgnyb2bW",
        "outputId": "bf25b151-76d0-4477-8abf-f1c5a1186a7b"
      },
      "source": [
        "appleTweets_BF = df_BF[df_BF['apple'] == True]\n",
        "appleTweets_BF.head()"
      ],
      "execution_count": null,
      "outputs": [
        {
          "output_type": "execute_result",
          "data": {
            "text/html": [
              "<div>\n",
              "<style scoped>\n",
              "    .dataframe tbody tr th:only-of-type {\n",
              "        vertical-align: middle;\n",
              "    }\n",
              "\n",
              "    .dataframe tbody tr th {\n",
              "        vertical-align: top;\n",
              "    }\n",
              "\n",
              "    .dataframe thead th {\n",
              "        text-align: right;\n",
              "    }\n",
              "</style>\n",
              "<table border=\"1\" class=\"dataframe\">\n",
              "  <thead>\n",
              "    <tr style=\"text-align: right;\">\n",
              "      <th></th>\n",
              "      <th>date</th>\n",
              "      <th>content</th>\n",
              "      <th>lang</th>\n",
              "      <th>mentionedUsers</th>\n",
              "      <th>sentiment</th>\n",
              "      <th>refinedTweets</th>\n",
              "      <th>Count(#)</th>\n",
              "      <th>apple</th>\n",
              "    </tr>\n",
              "  </thead>\n",
              "  <tbody>\n",
              "    <tr>\n",
              "      <th>152</th>\n",
              "      <td>2020-11-27 23:56:21+00:00</td>\n",
              "      <td>WALMART MIGHT RESTOCK AT 7 PM EST - https://t....</td>\n",
              "      <td>en</td>\n",
              "      <td>None</td>\n",
              "      <td>0</td>\n",
              "      <td>WALMA MIGHTESTOCK AT PM EST #ps #playstation #...</td>\n",
              "      <td>#ps5 #playstation5 #sony #psdirect #amazon #wa...</td>\n",
              "      <td>True</td>\n",
              "    </tr>\n",
              "    <tr>\n",
              "      <th>292</th>\n",
              "      <td>2020-11-27 23:53:46+00:00</td>\n",
              "      <td>Keep track of your #blackfriday needs with @Yo...</td>\n",
              "      <td>en</td>\n",
              "      <td>[{'username': 'YoudoTodos', 'displayname': 'Yo...</td>\n",
              "      <td>0</td>\n",
              "      <td>Keep track #blackfriday needs YoudoTodos get a...</td>\n",
              "      <td>#blackfriday #blackfridaysale #shopping #produ...</td>\n",
              "      <td>True</td>\n",
              "    </tr>\n",
              "    <tr>\n",
              "      <th>319</th>\n",
              "      <td>2020-11-27 23:53:13+00:00</td>\n",
              "      <td>Daydizzle 📌 #Lingokrazy #Daydizzle #Hiphop #SP...</td>\n",
              "      <td>en</td>\n",
              "      <td>None</td>\n",
              "      <td>0</td>\n",
              "      <td>Daydizzle #Lingokrazy #Daydizzle #Hiphop #SPOT...</td>\n",
              "      <td>#Lingokrazy #Daydizzle #Hiphop #SPOTIFYPLAYLIS...</td>\n",
              "      <td>True</td>\n",
              "    </tr>\n",
              "    <tr>\n",
              "      <th>477</th>\n",
              "      <td>2020-11-27 23:49:51+00:00</td>\n",
              "      <td>New single “Up My Stock” featuring @air.max365...</td>\n",
              "      <td>en</td>\n",
              "      <td>None</td>\n",
              "      <td>-1</td>\n",
              "      <td>New single Up My Stock featuring airmax NOW st...</td>\n",
              "      <td>#single #newmusicfriday #blackfriday #stock #h...</td>\n",
              "      <td>True</td>\n",
              "    </tr>\n",
              "    <tr>\n",
              "      <th>1389</th>\n",
              "      <td>2020-11-27 23:31:37+00:00</td>\n",
              "      <td>Alittle sunset magic  #BlackFriday #blackfrida...</td>\n",
              "      <td>en</td>\n",
              "      <td>None</td>\n",
              "      <td>1</td>\n",
              "      <td>Alittle sunset magic #BlackFriday #blackfriday...</td>\n",
              "      <td>#BlackFriday #blackfridaysale #BlackFridayAmaz...</td>\n",
              "      <td>True</td>\n",
              "    </tr>\n",
              "  </tbody>\n",
              "</table>\n",
              "</div>"
            ],
            "text/plain": [
              "                          date  ... apple\n",
              "152  2020-11-27 23:56:21+00:00  ...  True\n",
              "292  2020-11-27 23:53:46+00:00  ...  True\n",
              "319  2020-11-27 23:53:13+00:00  ...  True\n",
              "477  2020-11-27 23:49:51+00:00  ...  True\n",
              "1389 2020-11-27 23:31:37+00:00  ...  True\n",
              "\n",
              "[5 rows x 8 columns]"
            ]
          },
          "metadata": {
            "tags": []
          },
          "execution_count": 217
        }
      ]
    },
    {
      "cell_type": "code",
      "metadata": {
        "colab": {
          "base_uri": "https://localhost:8080/",
          "height": 374
        },
        "id": "VDhXZTa_gW-r",
        "outputId": "0b0b6261-6e57-4135-e54d-bc9f468a6dae"
      },
      "source": [
        "appleTweets_NBF = df_NBF[df_NBF['apple'] == True]\n",
        "appleTweets_NBF.head()"
      ],
      "execution_count": null,
      "outputs": [
        {
          "output_type": "execute_result",
          "data": {
            "text/html": [
              "<div>\n",
              "<style scoped>\n",
              "    .dataframe tbody tr th:only-of-type {\n",
              "        vertical-align: middle;\n",
              "    }\n",
              "\n",
              "    .dataframe tbody tr th {\n",
              "        vertical-align: top;\n",
              "    }\n",
              "\n",
              "    .dataframe thead th {\n",
              "        text-align: right;\n",
              "    }\n",
              "</style>\n",
              "<table border=\"1\" class=\"dataframe\">\n",
              "  <thead>\n",
              "    <tr style=\"text-align: right;\">\n",
              "      <th></th>\n",
              "      <th>date</th>\n",
              "      <th>content</th>\n",
              "      <th>lang</th>\n",
              "      <th>mentionedUsers</th>\n",
              "      <th>sentiment</th>\n",
              "      <th>refinedTweets</th>\n",
              "      <th>Count(#)</th>\n",
              "      <th>apple</th>\n",
              "    </tr>\n",
              "  </thead>\n",
              "  <tbody>\n",
              "    <tr>\n",
              "      <th>107</th>\n",
              "      <td>2020-08-30 22:13:27+00:00</td>\n",
              "      <td>A relaxing Sunday..... Open spaces, walks, duc...</td>\n",
              "      <td>en</td>\n",
              "      <td>None</td>\n",
              "      <td>1</td>\n",
              "      <td>A relaxing Sunday Open spaces walks ducks gees...</td>\n",
              "      <td>#Tewkesbury #shopping #fruit #bankholidayfun #...</td>\n",
              "      <td>True</td>\n",
              "    </tr>\n",
              "    <tr>\n",
              "      <th>1056</th>\n",
              "      <td>2020-08-30 14:33:24+00:00</td>\n",
              "      <td>Digital Kitchen Scale Measuring Spoon Gram Ele...</td>\n",
              "      <td>en</td>\n",
              "      <td>None</td>\n",
              "      <td>1</td>\n",
              "      <td>Digital Kitchen Scale Measuring Spoon Gram Ele...</td>\n",
              "      <td>#COVID19 #aliexpressbonus #Aliexpress #shoppin...</td>\n",
              "      <td>True</td>\n",
              "    </tr>\n",
              "    <tr>\n",
              "      <th>1260</th>\n",
              "      <td>2020-08-30 12:45:27+00:00</td>\n",
              "      <td>iPhone Price Comparison https://t.co/p5z7265Tc...</td>\n",
              "      <td>en</td>\n",
              "      <td>None</td>\n",
              "      <td>0</td>\n",
              "      <td>iPhone Price Comparison #apple #iphone aapl #d...</td>\n",
              "      <td>#apple #iphone #deals #shopping</td>\n",
              "      <td>True</td>\n",
              "    </tr>\n",
              "    <tr>\n",
              "      <th>1587</th>\n",
              "      <td>2020-08-30 08:58:16+00:00</td>\n",
              "      <td>#beauty #fashion #music #crazy #shopping #love...</td>\n",
              "      <td>en</td>\n",
              "      <td>None</td>\n",
              "      <td>-1</td>\n",
              "      <td>#beauty #fashion #music #crazy #shopping #love...</td>\n",
              "      <td>#beauty #fashion #music #crazy #shopping #love...</td>\n",
              "      <td>True</td>\n",
              "    </tr>\n",
              "    <tr>\n",
              "      <th>2652</th>\n",
              "      <td>2020-08-29 21:16:15+00:00</td>\n",
              "      <td>Case For Apple MacBook Air, Pro\\n#apple #cart ...</td>\n",
              "      <td>en</td>\n",
              "      <td>None</td>\n",
              "      <td>0</td>\n",
              "      <td>Case For Apple MacBook Air Pro #apple #cart #c...</td>\n",
              "      <td>#apple #cart #case #computer #cover #Electroni...</td>\n",
              "      <td>True</td>\n",
              "    </tr>\n",
              "  </tbody>\n",
              "</table>\n",
              "</div>"
            ],
            "text/plain": [
              "                          date  ... apple\n",
              "107  2020-08-30 22:13:27+00:00  ...  True\n",
              "1056 2020-08-30 14:33:24+00:00  ...  True\n",
              "1260 2020-08-30 12:45:27+00:00  ...  True\n",
              "1587 2020-08-30 08:58:16+00:00  ...  True\n",
              "2652 2020-08-29 21:16:15+00:00  ...  True\n",
              "\n",
              "[5 rows x 8 columns]"
            ]
          },
          "metadata": {
            "tags": []
          },
          "execution_count": 218
        }
      ]
    },
    {
      "cell_type": "code",
      "metadata": {
        "colab": {
          "base_uri": "https://localhost:8080/",
          "height": 173
        },
        "id": "lfModNKxhVYf",
        "outputId": "57a376a9-3438-4def-8be5-b11ecdb45b82"
      },
      "source": [
        "sentimentApple_BF = appleTweets_BF.groupby('sentiment').agg({'sentiment':'count'}).rename(columns=({'sentiment': 'count'}))\n",
        "sentimentApple_BF ['% of total'] = sentimentApple_BF['count']/sentimentApple_BF['count'].sum()\n",
        "sentimentApple_BF ['sentiment'] = ['Negative', 'Neutral', 'Positive']\n",
        "sentimentApple_BF = sentimentApple_BF.reindex(columns = ['sentiment', 'count','% of total'])\n",
        "sentimentApple_BF"
      ],
      "execution_count": null,
      "outputs": [
        {
          "output_type": "execute_result",
          "data": {
            "text/html": [
              "<div>\n",
              "<style scoped>\n",
              "    .dataframe tbody tr th:only-of-type {\n",
              "        vertical-align: middle;\n",
              "    }\n",
              "\n",
              "    .dataframe tbody tr th {\n",
              "        vertical-align: top;\n",
              "    }\n",
              "\n",
              "    .dataframe thead th {\n",
              "        text-align: right;\n",
              "    }\n",
              "</style>\n",
              "<table border=\"1\" class=\"dataframe\">\n",
              "  <thead>\n",
              "    <tr style=\"text-align: right;\">\n",
              "      <th></th>\n",
              "      <th>sentiment</th>\n",
              "      <th>count</th>\n",
              "      <th>% of total</th>\n",
              "    </tr>\n",
              "    <tr>\n",
              "      <th>sentiment</th>\n",
              "      <th></th>\n",
              "      <th></th>\n",
              "      <th></th>\n",
              "    </tr>\n",
              "  </thead>\n",
              "  <tbody>\n",
              "    <tr>\n",
              "      <th>-1</th>\n",
              "      <td>Negative</td>\n",
              "      <td>10</td>\n",
              "      <td>0.131579</td>\n",
              "    </tr>\n",
              "    <tr>\n",
              "      <th>0</th>\n",
              "      <td>Neutral</td>\n",
              "      <td>24</td>\n",
              "      <td>0.315789</td>\n",
              "    </tr>\n",
              "    <tr>\n",
              "      <th>1</th>\n",
              "      <td>Positive</td>\n",
              "      <td>42</td>\n",
              "      <td>0.552632</td>\n",
              "    </tr>\n",
              "  </tbody>\n",
              "</table>\n",
              "</div>"
            ],
            "text/plain": [
              "          sentiment  count  % of total\n",
              "sentiment                             \n",
              "-1         Negative     10    0.131579\n",
              " 0          Neutral     24    0.315789\n",
              " 1         Positive     42    0.552632"
            ]
          },
          "metadata": {
            "tags": []
          },
          "execution_count": 222
        }
      ]
    },
    {
      "cell_type": "code",
      "metadata": {
        "colab": {
          "base_uri": "https://localhost:8080/",
          "height": 173
        },
        "id": "vIYGpUffiDby",
        "outputId": "506ca058-18a1-4cec-8821-5a6b8227865f"
      },
      "source": [
        "sentimentApple_NBF = appleTweets_NBF.groupby('sentiment').agg({'sentiment':'count'}).rename(columns=({'sentiment': 'count'}))\n",
        "sentimentApple_NBF ['% of total'] = sentimentApple_NBF['count']/sentimentApple_NBF['count'].sum()\n",
        "sentimentApple_NBF ['sentiment'] = ['Negative', 'Neutral', 'Positive']\n",
        "sentimentApple_NBF = sentimentApple_NBF.reindex(columns = ['sentiment', 'count','% of total'])\n",
        "sentimentApple_NBF"
      ],
      "execution_count": null,
      "outputs": [
        {
          "output_type": "execute_result",
          "data": {
            "text/html": [
              "<div>\n",
              "<style scoped>\n",
              "    .dataframe tbody tr th:only-of-type {\n",
              "        vertical-align: middle;\n",
              "    }\n",
              "\n",
              "    .dataframe tbody tr th {\n",
              "        vertical-align: top;\n",
              "    }\n",
              "\n",
              "    .dataframe thead th {\n",
              "        text-align: right;\n",
              "    }\n",
              "</style>\n",
              "<table border=\"1\" class=\"dataframe\">\n",
              "  <thead>\n",
              "    <tr style=\"text-align: right;\">\n",
              "      <th></th>\n",
              "      <th>sentiment</th>\n",
              "      <th>count</th>\n",
              "      <th>% of total</th>\n",
              "    </tr>\n",
              "    <tr>\n",
              "      <th>sentiment</th>\n",
              "      <th></th>\n",
              "      <th></th>\n",
              "      <th></th>\n",
              "    </tr>\n",
              "  </thead>\n",
              "  <tbody>\n",
              "    <tr>\n",
              "      <th>-1</th>\n",
              "      <td>Negative</td>\n",
              "      <td>3</td>\n",
              "      <td>0.058824</td>\n",
              "    </tr>\n",
              "    <tr>\n",
              "      <th>0</th>\n",
              "      <td>Neutral</td>\n",
              "      <td>29</td>\n",
              "      <td>0.568627</td>\n",
              "    </tr>\n",
              "    <tr>\n",
              "      <th>1</th>\n",
              "      <td>Positive</td>\n",
              "      <td>19</td>\n",
              "      <td>0.372549</td>\n",
              "    </tr>\n",
              "  </tbody>\n",
              "</table>\n",
              "</div>"
            ],
            "text/plain": [
              "          sentiment  count  % of total\n",
              "sentiment                             \n",
              "-1         Negative      3    0.058824\n",
              " 0          Neutral     29    0.568627\n",
              " 1         Positive     19    0.372549"
            ]
          },
          "metadata": {
            "tags": []
          },
          "execution_count": 223
        }
      ]
    },
    {
      "cell_type": "markdown",
      "metadata": {
        "id": "tU5gCY3yuMPP"
      },
      "source": [
        "**Amazon:**"
      ]
    },
    {
      "cell_type": "code",
      "metadata": {
        "id": "zUcjlSw4ik08"
      },
      "source": [
        "df_BF['amazon'] = (df_BF['Count(#)'] + df_BF['content']).apply(lambda x: True if 'amazon' in x else False)\n",
        "df_NBF['amazon'] = (df_NBF['Count(#)'] + df_NBF['content']).apply(lambda x: True if 'amazon' in x else False)\n",
        "amazonTweets_BF = df_BF[df_BF['amazon'] == True]\n",
        "amazonTweets_NBF = df_NBF[df_NBF['amazon'] == True]\n",
        "\n",
        "sentimentAmazon_BF = amazonTweets_BF.groupby('sentiment').agg({'sentiment':'count'}).rename(columns=({'sentiment': 'count'}))\n",
        "sentimentAmazon_BF ['% of total'] = sentimentAmazon_BF['count']/sentimentAmazon_BF['count'].sum()\n",
        "sentimentAmazon_BF ['sentiment'] = ['Negative', 'Neutral', 'Positive']\n",
        "sentimentAmazon_BF = sentimentAmazon_BF.reindex(columns = ['sentiment', 'count','% of total'])\n",
        "\n",
        "sentimentAmazon_NBF = amazonTweets_NBF.groupby('sentiment').agg({'sentiment':'count'}).rename(columns=({'sentiment': 'count'}))\n",
        "sentimentAmazon_NBF ['% of total'] = sentimentAmazon_NBF['count']/sentimentAmazon_NBF['count'].sum()\n",
        "sentimentAmazon_NBF ['sentiment'] = ['Negative', 'Neutral', 'Positive']\n",
        "sentimentAmazon_NBF = sentimentAmazon_NBF.reindex(columns = ['sentiment', 'count','% of total'])"
      ],
      "execution_count": null,
      "outputs": []
    },
    {
      "cell_type": "code",
      "metadata": {
        "colab": {
          "base_uri": "https://localhost:8080/",
          "height": 173
        },
        "id": "6dAyFd-7i4DF",
        "outputId": "c6c89874-7e55-43e5-bf02-57da2cad3802"
      },
      "source": [
        "sentimentAmazon_BF"
      ],
      "execution_count": null,
      "outputs": [
        {
          "output_type": "execute_result",
          "data": {
            "text/html": [
              "<div>\n",
              "<style scoped>\n",
              "    .dataframe tbody tr th:only-of-type {\n",
              "        vertical-align: middle;\n",
              "    }\n",
              "\n",
              "    .dataframe tbody tr th {\n",
              "        vertical-align: top;\n",
              "    }\n",
              "\n",
              "    .dataframe thead th {\n",
              "        text-align: right;\n",
              "    }\n",
              "</style>\n",
              "<table border=\"1\" class=\"dataframe\">\n",
              "  <thead>\n",
              "    <tr style=\"text-align: right;\">\n",
              "      <th></th>\n",
              "      <th>sentiment</th>\n",
              "      <th>count</th>\n",
              "      <th>% of total</th>\n",
              "    </tr>\n",
              "    <tr>\n",
              "      <th>sentiment</th>\n",
              "      <th></th>\n",
              "      <th></th>\n",
              "      <th></th>\n",
              "    </tr>\n",
              "  </thead>\n",
              "  <tbody>\n",
              "    <tr>\n",
              "      <th>-1</th>\n",
              "      <td>Negative</td>\n",
              "      <td>67</td>\n",
              "      <td>0.144397</td>\n",
              "    </tr>\n",
              "    <tr>\n",
              "      <th>0</th>\n",
              "      <td>Neutral</td>\n",
              "      <td>147</td>\n",
              "      <td>0.316810</td>\n",
              "    </tr>\n",
              "    <tr>\n",
              "      <th>1</th>\n",
              "      <td>Positive</td>\n",
              "      <td>250</td>\n",
              "      <td>0.538793</td>\n",
              "    </tr>\n",
              "  </tbody>\n",
              "</table>\n",
              "</div>"
            ],
            "text/plain": [
              "          sentiment  count  % of total\n",
              "sentiment                             \n",
              "-1         Negative     67    0.144397\n",
              " 0          Neutral    147    0.316810\n",
              " 1         Positive    250    0.538793"
            ]
          },
          "metadata": {
            "tags": []
          },
          "execution_count": 226
        }
      ]
    },
    {
      "cell_type": "code",
      "metadata": {
        "colab": {
          "base_uri": "https://localhost:8080/",
          "height": 173
        },
        "id": "7PrejTZEkEyL",
        "outputId": "c6dcaf00-1596-4832-a376-0fd0fad1aec2"
      },
      "source": [
        "sentimentAmazon_NBF"
      ],
      "execution_count": null,
      "outputs": [
        {
          "output_type": "execute_result",
          "data": {
            "text/html": [
              "<div>\n",
              "<style scoped>\n",
              "    .dataframe tbody tr th:only-of-type {\n",
              "        vertical-align: middle;\n",
              "    }\n",
              "\n",
              "    .dataframe tbody tr th {\n",
              "        vertical-align: top;\n",
              "    }\n",
              "\n",
              "    .dataframe thead th {\n",
              "        text-align: right;\n",
              "    }\n",
              "</style>\n",
              "<table border=\"1\" class=\"dataframe\">\n",
              "  <thead>\n",
              "    <tr style=\"text-align: right;\">\n",
              "      <th></th>\n",
              "      <th>sentiment</th>\n",
              "      <th>count</th>\n",
              "      <th>% of total</th>\n",
              "    </tr>\n",
              "    <tr>\n",
              "      <th>sentiment</th>\n",
              "      <th></th>\n",
              "      <th></th>\n",
              "      <th></th>\n",
              "    </tr>\n",
              "  </thead>\n",
              "  <tbody>\n",
              "    <tr>\n",
              "      <th>-1</th>\n",
              "      <td>Negative</td>\n",
              "      <td>66</td>\n",
              "      <td>0.073252</td>\n",
              "    </tr>\n",
              "    <tr>\n",
              "      <th>0</th>\n",
              "      <td>Neutral</td>\n",
              "      <td>146</td>\n",
              "      <td>0.162042</td>\n",
              "    </tr>\n",
              "    <tr>\n",
              "      <th>1</th>\n",
              "      <td>Positive</td>\n",
              "      <td>689</td>\n",
              "      <td>0.764706</td>\n",
              "    </tr>\n",
              "  </tbody>\n",
              "</table>\n",
              "</div>"
            ],
            "text/plain": [
              "          sentiment  count  % of total\n",
              "sentiment                             \n",
              "-1         Negative     66    0.073252\n",
              " 0          Neutral    146    0.162042\n",
              " 1         Positive    689    0.764706"
            ]
          },
          "metadata": {
            "tags": []
          },
          "execution_count": 227
        }
      ]
    },
    {
      "cell_type": "markdown",
      "metadata": {
        "id": "mGdFkfKFuQz7"
      },
      "source": [
        "**Samsung:**"
      ]
    },
    {
      "cell_type": "code",
      "metadata": {
        "id": "03JWrRqqkH4t"
      },
      "source": [
        "df_BF['samsung'] = (df_BF['Count(#)'] + df_BF['content']).apply(lambda x: True if 'samsung' in x else False)\n",
        "df_NBF['samsung'] = (df_NBF['Count(#)'] + df_NBF['content']).apply(lambda x: True if 'samsung' in x else False)\n",
        "samsungTweets_BF = df_BF[df_BF['samsung'] == True]\n",
        "samsungTweets_NBF = df_NBF[df_NBF['samsung'] == True]\n",
        "\n",
        "sentimentSamsung_BF = samsungTweets_BF.groupby('sentiment').agg({'sentiment':'count'}).rename(columns=({'sentiment': 'count'}))\n",
        "sentimentSamsung_BF ['% of total'] = sentimentSamsung_BF['count']/sentimentSamsung_BF['count'].sum()\n",
        "sentimentSamsung_BF ['sentiment'] = ['Negative', 'Neutral', 'Positive']\n",
        "sentimentSamsung_BF = sentimentSamsung_BF.reindex(columns = ['sentiment', 'count','% of total'])\n",
        "\n",
        "sentimentSamsung_NBF = samsungTweets_NBF.groupby('sentiment').agg({'sentiment':'count'}).rename(columns=({'sentiment': 'count'}))\n",
        "sentimentSamsung_NBF ['% of total'] = sentimentSamsung_NBF['count']/sentimentSamsung_NBF['count'].sum()\n",
        "sentimentSamsung_NBF ['sentiment'] = ['Negative', 'Neutral', 'Positive']\n",
        "sentimentSamsung_NBF = sentimentSamsung_NBF.reindex(columns = ['sentiment', 'count','% of total'])"
      ],
      "execution_count": null,
      "outputs": []
    },
    {
      "cell_type": "code",
      "metadata": {
        "colab": {
          "base_uri": "https://localhost:8080/",
          "height": 173
        },
        "id": "dB2cK-qMk8JZ",
        "outputId": "c053b693-6250-4bbf-ee91-fb7da611ebf4"
      },
      "source": [
        "sentimentSamsung_BF"
      ],
      "execution_count": null,
      "outputs": [
        {
          "output_type": "execute_result",
          "data": {
            "text/html": [
              "<div>\n",
              "<style scoped>\n",
              "    .dataframe tbody tr th:only-of-type {\n",
              "        vertical-align: middle;\n",
              "    }\n",
              "\n",
              "    .dataframe tbody tr th {\n",
              "        vertical-align: top;\n",
              "    }\n",
              "\n",
              "    .dataframe thead th {\n",
              "        text-align: right;\n",
              "    }\n",
              "</style>\n",
              "<table border=\"1\" class=\"dataframe\">\n",
              "  <thead>\n",
              "    <tr style=\"text-align: right;\">\n",
              "      <th></th>\n",
              "      <th>sentiment</th>\n",
              "      <th>count</th>\n",
              "      <th>% of total</th>\n",
              "    </tr>\n",
              "    <tr>\n",
              "      <th>sentiment</th>\n",
              "      <th></th>\n",
              "      <th></th>\n",
              "      <th></th>\n",
              "    </tr>\n",
              "  </thead>\n",
              "  <tbody>\n",
              "    <tr>\n",
              "      <th>-1</th>\n",
              "      <td>Negative</td>\n",
              "      <td>1</td>\n",
              "      <td>0.2</td>\n",
              "    </tr>\n",
              "    <tr>\n",
              "      <th>0</th>\n",
              "      <td>Neutral</td>\n",
              "      <td>2</td>\n",
              "      <td>0.4</td>\n",
              "    </tr>\n",
              "    <tr>\n",
              "      <th>1</th>\n",
              "      <td>Positive</td>\n",
              "      <td>2</td>\n",
              "      <td>0.4</td>\n",
              "    </tr>\n",
              "  </tbody>\n",
              "</table>\n",
              "</div>"
            ],
            "text/plain": [
              "          sentiment  count  % of total\n",
              "sentiment                             \n",
              "-1         Negative      1         0.2\n",
              " 0          Neutral      2         0.4\n",
              " 1         Positive      2         0.4"
            ]
          },
          "metadata": {
            "tags": []
          },
          "execution_count": 229
        }
      ]
    },
    {
      "cell_type": "code",
      "metadata": {
        "colab": {
          "base_uri": "https://localhost:8080/",
          "height": 173
        },
        "id": "r7npeCusk_Jf",
        "outputId": "450ddfed-93c1-4961-d22b-d2a10b488cc2"
      },
      "source": [
        "sentimentSamsung_NBF"
      ],
      "execution_count": null,
      "outputs": [
        {
          "output_type": "execute_result",
          "data": {
            "text/html": [
              "<div>\n",
              "<style scoped>\n",
              "    .dataframe tbody tr th:only-of-type {\n",
              "        vertical-align: middle;\n",
              "    }\n",
              "\n",
              "    .dataframe tbody tr th {\n",
              "        vertical-align: top;\n",
              "    }\n",
              "\n",
              "    .dataframe thead th {\n",
              "        text-align: right;\n",
              "    }\n",
              "</style>\n",
              "<table border=\"1\" class=\"dataframe\">\n",
              "  <thead>\n",
              "    <tr style=\"text-align: right;\">\n",
              "      <th></th>\n",
              "      <th>sentiment</th>\n",
              "      <th>count</th>\n",
              "      <th>% of total</th>\n",
              "    </tr>\n",
              "    <tr>\n",
              "      <th>sentiment</th>\n",
              "      <th></th>\n",
              "      <th></th>\n",
              "      <th></th>\n",
              "    </tr>\n",
              "  </thead>\n",
              "  <tbody>\n",
              "    <tr>\n",
              "      <th>-1</th>\n",
              "      <td>Negative</td>\n",
              "      <td>3</td>\n",
              "      <td>0.333333</td>\n",
              "    </tr>\n",
              "    <tr>\n",
              "      <th>0</th>\n",
              "      <td>Neutral</td>\n",
              "      <td>2</td>\n",
              "      <td>0.222222</td>\n",
              "    </tr>\n",
              "    <tr>\n",
              "      <th>1</th>\n",
              "      <td>Positive</td>\n",
              "      <td>4</td>\n",
              "      <td>0.444444</td>\n",
              "    </tr>\n",
              "  </tbody>\n",
              "</table>\n",
              "</div>"
            ],
            "text/plain": [
              "          sentiment  count  % of total\n",
              "sentiment                             \n",
              "-1         Negative      3    0.333333\n",
              " 0          Neutral      2    0.222222\n",
              " 1         Positive      4    0.444444"
            ]
          },
          "metadata": {
            "tags": []
          },
          "execution_count": 230
        }
      ]
    },
    {
      "cell_type": "markdown",
      "metadata": {
        "id": "lLe7xO--uYvf"
      },
      "source": [
        "**eBay:**"
      ]
    },
    {
      "cell_type": "code",
      "metadata": {
        "id": "xaZcoy5AlBGT"
      },
      "source": [
        "df_BF['ebay'] = (df_BF['Count(#)'] + df_BF['content']).apply(lambda x: True if 'ebay' in x else False)\n",
        "df_NBF['ebay'] = (df_NBF['Count(#)'] + df_NBF['content']).apply(lambda x: True if 'ebay' in x else False)\n",
        "ebayTweets_BF = df_BF[df_BF['ebay'] == True]\n",
        "ebayTweets_NBF = df_NBF[df_NBF['ebay'] == True]\n",
        "\n",
        "sentimentEbay_BF = ebayTweets_BF.groupby('sentiment').agg({'sentiment':'count'}).rename(columns=({'sentiment': 'count'}))\n",
        "sentimentEbay_BF ['% of total'] = sentimentEbay_BF['count']/sentimentEbay_BF['count'].sum()\n",
        "sentimentEbay_BF ['sentiment'] = ['Negative', 'Neutral', 'Positive']\n",
        "sentimentEbay_BF = sentimentEbay_BF.reindex(columns = ['sentiment', 'count','% of total'])\n",
        "\n",
        "sentimentEbay_NBF = ebayTweets_NBF.groupby('sentiment').agg({'sentiment':'count'}).rename(columns=({'sentiment': 'count'}))\n",
        "sentimentEbay_NBF ['% of total'] = sentimentEbay_NBF['count']/sentimentEbay_NBF['count'].sum()\n",
        "sentimentEbay_NBF ['sentiment'] = ['Negative', 'Neutral', 'Positive']\n",
        "sentimentEbay_NBF = sentimentEbay_NBF.reindex(columns = ['sentiment', 'count','% of total'])"
      ],
      "execution_count": null,
      "outputs": []
    },
    {
      "cell_type": "code",
      "metadata": {
        "colab": {
          "base_uri": "https://localhost:8080/",
          "height": 173
        },
        "id": "8QditIjKl-Dg",
        "outputId": "ada39e0d-5dff-4616-dff7-fe8e5ca87c2d"
      },
      "source": [
        "sentimentEbay_BF"
      ],
      "execution_count": null,
      "outputs": [
        {
          "output_type": "execute_result",
          "data": {
            "text/html": [
              "<div>\n",
              "<style scoped>\n",
              "    .dataframe tbody tr th:only-of-type {\n",
              "        vertical-align: middle;\n",
              "    }\n",
              "\n",
              "    .dataframe tbody tr th {\n",
              "        vertical-align: top;\n",
              "    }\n",
              "\n",
              "    .dataframe thead th {\n",
              "        text-align: right;\n",
              "    }\n",
              "</style>\n",
              "<table border=\"1\" class=\"dataframe\">\n",
              "  <thead>\n",
              "    <tr style=\"text-align: right;\">\n",
              "      <th></th>\n",
              "      <th>sentiment</th>\n",
              "      <th>count</th>\n",
              "      <th>% of total</th>\n",
              "    </tr>\n",
              "    <tr>\n",
              "      <th>sentiment</th>\n",
              "      <th></th>\n",
              "      <th></th>\n",
              "      <th></th>\n",
              "    </tr>\n",
              "  </thead>\n",
              "  <tbody>\n",
              "    <tr>\n",
              "      <th>-1</th>\n",
              "      <td>Negative</td>\n",
              "      <td>17</td>\n",
              "      <td>0.242857</td>\n",
              "    </tr>\n",
              "    <tr>\n",
              "      <th>0</th>\n",
              "      <td>Neutral</td>\n",
              "      <td>17</td>\n",
              "      <td>0.242857</td>\n",
              "    </tr>\n",
              "    <tr>\n",
              "      <th>1</th>\n",
              "      <td>Positive</td>\n",
              "      <td>36</td>\n",
              "      <td>0.514286</td>\n",
              "    </tr>\n",
              "  </tbody>\n",
              "</table>\n",
              "</div>"
            ],
            "text/plain": [
              "          sentiment  count  % of total\n",
              "sentiment                             \n",
              "-1         Negative     17    0.242857\n",
              " 0          Neutral     17    0.242857\n",
              " 1         Positive     36    0.514286"
            ]
          },
          "metadata": {
            "tags": []
          },
          "execution_count": 232
        }
      ]
    },
    {
      "cell_type": "code",
      "metadata": {
        "colab": {
          "base_uri": "https://localhost:8080/",
          "height": 173
        },
        "id": "kfOsrJrNmAcY",
        "outputId": "074dfaf6-c4b6-46ed-b95c-64a700200d00"
      },
      "source": [
        "sentimentEbay_NBF"
      ],
      "execution_count": null,
      "outputs": [
        {
          "output_type": "execute_result",
          "data": {
            "text/html": [
              "<div>\n",
              "<style scoped>\n",
              "    .dataframe tbody tr th:only-of-type {\n",
              "        vertical-align: middle;\n",
              "    }\n",
              "\n",
              "    .dataframe tbody tr th {\n",
              "        vertical-align: top;\n",
              "    }\n",
              "\n",
              "    .dataframe thead th {\n",
              "        text-align: right;\n",
              "    }\n",
              "</style>\n",
              "<table border=\"1\" class=\"dataframe\">\n",
              "  <thead>\n",
              "    <tr style=\"text-align: right;\">\n",
              "      <th></th>\n",
              "      <th>sentiment</th>\n",
              "      <th>count</th>\n",
              "      <th>% of total</th>\n",
              "    </tr>\n",
              "    <tr>\n",
              "      <th>sentiment</th>\n",
              "      <th></th>\n",
              "      <th></th>\n",
              "      <th></th>\n",
              "    </tr>\n",
              "  </thead>\n",
              "  <tbody>\n",
              "    <tr>\n",
              "      <th>-1</th>\n",
              "      <td>Negative</td>\n",
              "      <td>386</td>\n",
              "      <td>0.133103</td>\n",
              "    </tr>\n",
              "    <tr>\n",
              "      <th>0</th>\n",
              "      <td>Neutral</td>\n",
              "      <td>1287</td>\n",
              "      <td>0.443793</td>\n",
              "    </tr>\n",
              "    <tr>\n",
              "      <th>1</th>\n",
              "      <td>Positive</td>\n",
              "      <td>1227</td>\n",
              "      <td>0.423103</td>\n",
              "    </tr>\n",
              "  </tbody>\n",
              "</table>\n",
              "</div>"
            ],
            "text/plain": [
              "          sentiment  count  % of total\n",
              "sentiment                             \n",
              "-1         Negative    386    0.133103\n",
              " 0          Neutral   1287    0.443793\n",
              " 1         Positive   1227    0.423103"
            ]
          },
          "metadata": {
            "tags": []
          },
          "execution_count": 233
        }
      ]
    },
    {
      "cell_type": "markdown",
      "metadata": {
        "id": "hcctcOp3ueGu"
      },
      "source": [
        "**Walmart:**"
      ]
    },
    {
      "cell_type": "code",
      "metadata": {
        "id": "9rCwV3f4mCWL"
      },
      "source": [
        "df_BF['walmart'] = (df_BF['Count(#)'] + df_BF['content']).apply(lambda x: True if 'walmart' in x else False)\n",
        "df_NBF['walmart'] = (df_NBF['Count(#)'] + df_NBF['content']).apply(lambda x: True if 'walmart' in x else False)\n",
        "walmartTweets_BF = df_BF[df_BF['walmart'] == True]\n",
        "walmartTweets_NBF = df_NBF[df_NBF['walmart'] == True]\n",
        "\n",
        "sentimentWalmart_BF = walmartTweets_BF.groupby('sentiment').agg({'sentiment':'count'}).rename(columns=({'sentiment': 'count'}))\n",
        "sentimentWalmart_BF ['% of total'] = sentimentWalmart_BF['count']/sentimentWalmart_BF['count'].sum()\n",
        "sentimentWalmart_BF ['sentiment'] = ['Negative', 'Neutral', 'Positive']\n",
        "sentimentWalmart_BF = sentimentWalmart_BF.reindex(columns = ['sentiment', 'count','% of total'])\n",
        "\n",
        "sentimentWalmart_NBF = walmartTweets_NBF.groupby('sentiment').agg({'sentiment':'count'}).rename(columns=({'sentiment': 'count'}))\n",
        "sentimentWalmart_NBF ['% of total'] = sentimentWalmart_NBF['count']/sentimentWalmart_NBF['count'].sum()\n",
        "sentimentWalmart_NBF ['sentiment'] = ['Negative', 'Neutral', 'Positive']\n",
        "sentimentWalmart_NBF = sentimentWalmart_NBF.reindex(columns = ['sentiment', 'count','% of total'])"
      ],
      "execution_count": null,
      "outputs": []
    },
    {
      "cell_type": "code",
      "metadata": {
        "colab": {
          "base_uri": "https://localhost:8080/",
          "height": 173
        },
        "id": "e7HPyIWcmwSm",
        "outputId": "f0db8d37-5df7-4e88-aaea-1ab097d22954"
      },
      "source": [
        "sentimentWalmart_BF"
      ],
      "execution_count": null,
      "outputs": [
        {
          "output_type": "execute_result",
          "data": {
            "text/html": [
              "<div>\n",
              "<style scoped>\n",
              "    .dataframe tbody tr th:only-of-type {\n",
              "        vertical-align: middle;\n",
              "    }\n",
              "\n",
              "    .dataframe tbody tr th {\n",
              "        vertical-align: top;\n",
              "    }\n",
              "\n",
              "    .dataframe thead th {\n",
              "        text-align: right;\n",
              "    }\n",
              "</style>\n",
              "<table border=\"1\" class=\"dataframe\">\n",
              "  <thead>\n",
              "    <tr style=\"text-align: right;\">\n",
              "      <th></th>\n",
              "      <th>sentiment</th>\n",
              "      <th>count</th>\n",
              "      <th>% of total</th>\n",
              "    </tr>\n",
              "    <tr>\n",
              "      <th>sentiment</th>\n",
              "      <th></th>\n",
              "      <th></th>\n",
              "      <th></th>\n",
              "    </tr>\n",
              "  </thead>\n",
              "  <tbody>\n",
              "    <tr>\n",
              "      <th>-1</th>\n",
              "      <td>Negative</td>\n",
              "      <td>5</td>\n",
              "      <td>0.178571</td>\n",
              "    </tr>\n",
              "    <tr>\n",
              "      <th>0</th>\n",
              "      <td>Neutral</td>\n",
              "      <td>10</td>\n",
              "      <td>0.357143</td>\n",
              "    </tr>\n",
              "    <tr>\n",
              "      <th>1</th>\n",
              "      <td>Positive</td>\n",
              "      <td>13</td>\n",
              "      <td>0.464286</td>\n",
              "    </tr>\n",
              "  </tbody>\n",
              "</table>\n",
              "</div>"
            ],
            "text/plain": [
              "          sentiment  count  % of total\n",
              "sentiment                             \n",
              "-1         Negative      5    0.178571\n",
              " 0          Neutral     10    0.357143\n",
              " 1         Positive     13    0.464286"
            ]
          },
          "metadata": {
            "tags": []
          },
          "execution_count": 235
        }
      ]
    },
    {
      "cell_type": "code",
      "metadata": {
        "colab": {
          "base_uri": "https://localhost:8080/",
          "height": 173
        },
        "id": "ssdUdc1SmzIr",
        "outputId": "7da9f6a1-1ab3-48a3-cf97-b55760e9f7c6"
      },
      "source": [
        "sentimentWalmart_NBF"
      ],
      "execution_count": null,
      "outputs": [
        {
          "output_type": "execute_result",
          "data": {
            "text/html": [
              "<div>\n",
              "<style scoped>\n",
              "    .dataframe tbody tr th:only-of-type {\n",
              "        vertical-align: middle;\n",
              "    }\n",
              "\n",
              "    .dataframe tbody tr th {\n",
              "        vertical-align: top;\n",
              "    }\n",
              "\n",
              "    .dataframe thead th {\n",
              "        text-align: right;\n",
              "    }\n",
              "</style>\n",
              "<table border=\"1\" class=\"dataframe\">\n",
              "  <thead>\n",
              "    <tr style=\"text-align: right;\">\n",
              "      <th></th>\n",
              "      <th>sentiment</th>\n",
              "      <th>count</th>\n",
              "      <th>% of total</th>\n",
              "    </tr>\n",
              "    <tr>\n",
              "      <th>sentiment</th>\n",
              "      <th></th>\n",
              "      <th></th>\n",
              "      <th></th>\n",
              "    </tr>\n",
              "  </thead>\n",
              "  <tbody>\n",
              "    <tr>\n",
              "      <th>-1</th>\n",
              "      <td>Negative</td>\n",
              "      <td>50</td>\n",
              "      <td>0.123153</td>\n",
              "    </tr>\n",
              "    <tr>\n",
              "      <th>0</th>\n",
              "      <td>Neutral</td>\n",
              "      <td>174</td>\n",
              "      <td>0.428571</td>\n",
              "    </tr>\n",
              "    <tr>\n",
              "      <th>1</th>\n",
              "      <td>Positive</td>\n",
              "      <td>182</td>\n",
              "      <td>0.448276</td>\n",
              "    </tr>\n",
              "  </tbody>\n",
              "</table>\n",
              "</div>"
            ],
            "text/plain": [
              "          sentiment  count  % of total\n",
              "sentiment                             \n",
              "-1         Negative     50    0.123153\n",
              " 0          Neutral    174    0.428571\n",
              " 1         Positive    182    0.448276"
            ]
          },
          "metadata": {
            "tags": []
          },
          "execution_count": 236
        }
      ]
    },
    {
      "cell_type": "markdown",
      "metadata": {
        "id": "6Pa1V9k5uoFZ"
      },
      "source": [
        "**Etsy:**"
      ]
    },
    {
      "cell_type": "code",
      "metadata": {
        "id": "_-6parWtmz_f"
      },
      "source": [
        "df_BF['etsy'] = (df_BF['Count(#)'] + df_BF['content']).apply(lambda x: True if 'etsy' in x else False)\n",
        "df_NBF['etsy'] = (df_NBF['Count(#)'] + df_NBF['content']).apply(lambda x: True if 'etsy' in x else False)\n",
        "etsyTweets_BF = df_BF[df_BF['etsy'] == True]\n",
        "etsyTweets_NBF = df_NBF[df_NBF['etsy'] == True]\n",
        "\n",
        "sentimentEtsy_BF = etsyTweets_BF.groupby('sentiment').agg({'sentiment':'count'}).rename(columns=({'sentiment': 'count'}))\n",
        "sentimentEtsy_BF ['% of total'] = sentimentEtsy_BF['count']/sentimentEtsy_BF['count'].sum()\n",
        "sentimentEtsy_BF ['sentiment'] = ['Negative', 'Neutral', 'Positive']\n",
        "sentimentEtsy_BF = sentimentEtsy_BF.reindex(columns = ['sentiment', 'count','% of total'])\n",
        "\n",
        "sentimentEtsy_NBF = etsyTweets_NBF.groupby('sentiment').agg({'sentiment':'count'}).rename(columns=({'sentiment': 'count'}))\n",
        "sentimentEtsy_NBF ['% of total'] = sentimentEtsy_NBF['count']/sentimentEtsy_NBF['count'].sum()\n",
        "sentimentEtsy_NBF ['sentiment'] = ['Negative', 'Neutral', 'Positive']\n",
        "sentimentEtsy_NBF = sentimentEtsy_NBF.reindex(columns = ['sentiment', 'count','% of total'])"
      ],
      "execution_count": null,
      "outputs": []
    },
    {
      "cell_type": "code",
      "metadata": {
        "colab": {
          "base_uri": "https://localhost:8080/",
          "height": 173
        },
        "id": "plQq6hNBnZd9",
        "outputId": "d379d1eb-e8c5-4cda-9ca7-a6856535e12f"
      },
      "source": [
        "sentimentEtsy_BF"
      ],
      "execution_count": null,
      "outputs": [
        {
          "output_type": "execute_result",
          "data": {
            "text/html": [
              "<div>\n",
              "<style scoped>\n",
              "    .dataframe tbody tr th:only-of-type {\n",
              "        vertical-align: middle;\n",
              "    }\n",
              "\n",
              "    .dataframe tbody tr th {\n",
              "        vertical-align: top;\n",
              "    }\n",
              "\n",
              "    .dataframe thead th {\n",
              "        text-align: right;\n",
              "    }\n",
              "</style>\n",
              "<table border=\"1\" class=\"dataframe\">\n",
              "  <thead>\n",
              "    <tr style=\"text-align: right;\">\n",
              "      <th></th>\n",
              "      <th>sentiment</th>\n",
              "      <th>count</th>\n",
              "      <th>% of total</th>\n",
              "    </tr>\n",
              "    <tr>\n",
              "      <th>sentiment</th>\n",
              "      <th></th>\n",
              "      <th></th>\n",
              "      <th></th>\n",
              "    </tr>\n",
              "  </thead>\n",
              "  <tbody>\n",
              "    <tr>\n",
              "      <th>-1</th>\n",
              "      <td>Negative</td>\n",
              "      <td>118</td>\n",
              "      <td>0.254310</td>\n",
              "    </tr>\n",
              "    <tr>\n",
              "      <th>0</th>\n",
              "      <td>Neutral</td>\n",
              "      <td>131</td>\n",
              "      <td>0.282328</td>\n",
              "    </tr>\n",
              "    <tr>\n",
              "      <th>1</th>\n",
              "      <td>Positive</td>\n",
              "      <td>215</td>\n",
              "      <td>0.463362</td>\n",
              "    </tr>\n",
              "  </tbody>\n",
              "</table>\n",
              "</div>"
            ],
            "text/plain": [
              "          sentiment  count  % of total\n",
              "sentiment                             \n",
              "-1         Negative    118    0.254310\n",
              " 0          Neutral    131    0.282328\n",
              " 1         Positive    215    0.463362"
            ]
          },
          "metadata": {
            "tags": []
          },
          "execution_count": 238
        }
      ]
    },
    {
      "cell_type": "code",
      "metadata": {
        "colab": {
          "base_uri": "https://localhost:8080/",
          "height": 173
        },
        "id": "_ddi00IrnavG",
        "outputId": "62b7ea25-6d2f-4300-c3e0-5db49c27853c"
      },
      "source": [
        "sentimentEtsy_NBF"
      ],
      "execution_count": null,
      "outputs": [
        {
          "output_type": "execute_result",
          "data": {
            "text/html": [
              "<div>\n",
              "<style scoped>\n",
              "    .dataframe tbody tr th:only-of-type {\n",
              "        vertical-align: middle;\n",
              "    }\n",
              "\n",
              "    .dataframe tbody tr th {\n",
              "        vertical-align: top;\n",
              "    }\n",
              "\n",
              "    .dataframe thead th {\n",
              "        text-align: right;\n",
              "    }\n",
              "</style>\n",
              "<table border=\"1\" class=\"dataframe\">\n",
              "  <thead>\n",
              "    <tr style=\"text-align: right;\">\n",
              "      <th></th>\n",
              "      <th>sentiment</th>\n",
              "      <th>count</th>\n",
              "      <th>% of total</th>\n",
              "    </tr>\n",
              "    <tr>\n",
              "      <th>sentiment</th>\n",
              "      <th></th>\n",
              "      <th></th>\n",
              "      <th></th>\n",
              "    </tr>\n",
              "  </thead>\n",
              "  <tbody>\n",
              "    <tr>\n",
              "      <th>-1</th>\n",
              "      <td>Negative</td>\n",
              "      <td>176</td>\n",
              "      <td>0.155340</td>\n",
              "    </tr>\n",
              "    <tr>\n",
              "      <th>0</th>\n",
              "      <td>Neutral</td>\n",
              "      <td>410</td>\n",
              "      <td>0.361871</td>\n",
              "    </tr>\n",
              "    <tr>\n",
              "      <th>1</th>\n",
              "      <td>Positive</td>\n",
              "      <td>547</td>\n",
              "      <td>0.482789</td>\n",
              "    </tr>\n",
              "  </tbody>\n",
              "</table>\n",
              "</div>"
            ],
            "text/plain": [
              "          sentiment  count  % of total\n",
              "sentiment                             \n",
              "-1         Negative    176    0.155340\n",
              " 0          Neutral    410    0.361871\n",
              " 1         Positive    547    0.482789"
            ]
          },
          "metadata": {
            "tags": []
          },
          "execution_count": 239
        }
      ]
    },
    {
      "cell_type": "markdown",
      "metadata": {
        "id": "Z_LIIJS7uufQ"
      },
      "source": [
        "**Microsoft:**"
      ]
    },
    {
      "cell_type": "code",
      "metadata": {
        "id": "GodNBsgJnbs2"
      },
      "source": [
        "df_BF['microsoft'] = (df_BF['Count(#)'] + df_BF['content']).apply(lambda x: True if 'etsy' in x else False)\n",
        "df_NBF['microsoft'] = (df_NBF['Count(#)'] + df_NBF['content']).apply(lambda x: True if 'etsy' in x else False)\n",
        "microsoftTweets_BF = df_BF[df_BF['microsoft'] == True]\n",
        "microsoftTweets_NBF = df_NBF[df_NBF['microsoft'] == True]\n",
        "\n",
        "sentimentMicrosoft_BF = microsoftTweets_BF.groupby('sentiment').agg({'sentiment':'count'}).rename(columns=({'sentiment': 'count'}))\n",
        "sentimentMicrosoft_BF ['% of total'] = sentimentMicrosoft_BF['count']/sentimentMicrosoft_BF['count'].sum()\n",
        "sentimentMicrosoft_BF ['sentiment'] = ['Negative', 'Neutral', 'Positive']\n",
        "sentimentMicrosoft_BF = sentimentMicrosoft_BF.reindex(columns = ['sentiment', 'count','% of total'])\n",
        "\n",
        "sentimentMicrosoft_NBF = microsoftTweets_NBF.groupby('sentiment').agg({'sentiment':'count'}).rename(columns=({'sentiment': 'count'}))\n",
        "sentimentMicrosoft_NBF ['% of total'] = sentimentMicrosoft_NBF['count']/sentimentMicrosoft_NBF['count'].sum()\n",
        "sentimentMicrosoft_NBF ['sentiment'] = ['Negative', 'Neutral', 'Positive']\n",
        "sentimentMicrosoft_NBF = sentimentMicrosoft_NBF.reindex(columns = ['sentiment', 'count','% of total'])"
      ],
      "execution_count": null,
      "outputs": []
    },
    {
      "cell_type": "code",
      "metadata": {
        "colab": {
          "base_uri": "https://localhost:8080/",
          "height": 173
        },
        "id": "76onX9VxoDtU",
        "outputId": "b9bccf41-1802-4573-dfab-dd18893a8794"
      },
      "source": [
        "sentimentMicrosoft_BF"
      ],
      "execution_count": null,
      "outputs": [
        {
          "output_type": "execute_result",
          "data": {
            "text/html": [
              "<div>\n",
              "<style scoped>\n",
              "    .dataframe tbody tr th:only-of-type {\n",
              "        vertical-align: middle;\n",
              "    }\n",
              "\n",
              "    .dataframe tbody tr th {\n",
              "        vertical-align: top;\n",
              "    }\n",
              "\n",
              "    .dataframe thead th {\n",
              "        text-align: right;\n",
              "    }\n",
              "</style>\n",
              "<table border=\"1\" class=\"dataframe\">\n",
              "  <thead>\n",
              "    <tr style=\"text-align: right;\">\n",
              "      <th></th>\n",
              "      <th>sentiment</th>\n",
              "      <th>count</th>\n",
              "      <th>% of total</th>\n",
              "    </tr>\n",
              "    <tr>\n",
              "      <th>sentiment</th>\n",
              "      <th></th>\n",
              "      <th></th>\n",
              "      <th></th>\n",
              "    </tr>\n",
              "  </thead>\n",
              "  <tbody>\n",
              "    <tr>\n",
              "      <th>-1</th>\n",
              "      <td>Negative</td>\n",
              "      <td>118</td>\n",
              "      <td>0.254310</td>\n",
              "    </tr>\n",
              "    <tr>\n",
              "      <th>0</th>\n",
              "      <td>Neutral</td>\n",
              "      <td>131</td>\n",
              "      <td>0.282328</td>\n",
              "    </tr>\n",
              "    <tr>\n",
              "      <th>1</th>\n",
              "      <td>Positive</td>\n",
              "      <td>215</td>\n",
              "      <td>0.463362</td>\n",
              "    </tr>\n",
              "  </tbody>\n",
              "</table>\n",
              "</div>"
            ],
            "text/plain": [
              "          sentiment  count  % of total\n",
              "sentiment                             \n",
              "-1         Negative    118    0.254310\n",
              " 0          Neutral    131    0.282328\n",
              " 1         Positive    215    0.463362"
            ]
          },
          "metadata": {
            "tags": []
          },
          "execution_count": 241
        }
      ]
    },
    {
      "cell_type": "code",
      "metadata": {
        "colab": {
          "base_uri": "https://localhost:8080/",
          "height": 173
        },
        "id": "fPzn2mkyoFX_",
        "outputId": "2899f578-c1cc-4a49-84fb-edf238a96c83"
      },
      "source": [
        "sentimentMicrosoft_NBF"
      ],
      "execution_count": null,
      "outputs": [
        {
          "output_type": "execute_result",
          "data": {
            "text/html": [
              "<div>\n",
              "<style scoped>\n",
              "    .dataframe tbody tr th:only-of-type {\n",
              "        vertical-align: middle;\n",
              "    }\n",
              "\n",
              "    .dataframe tbody tr th {\n",
              "        vertical-align: top;\n",
              "    }\n",
              "\n",
              "    .dataframe thead th {\n",
              "        text-align: right;\n",
              "    }\n",
              "</style>\n",
              "<table border=\"1\" class=\"dataframe\">\n",
              "  <thead>\n",
              "    <tr style=\"text-align: right;\">\n",
              "      <th></th>\n",
              "      <th>sentiment</th>\n",
              "      <th>count</th>\n",
              "      <th>% of total</th>\n",
              "    </tr>\n",
              "    <tr>\n",
              "      <th>sentiment</th>\n",
              "      <th></th>\n",
              "      <th></th>\n",
              "      <th></th>\n",
              "    </tr>\n",
              "  </thead>\n",
              "  <tbody>\n",
              "    <tr>\n",
              "      <th>-1</th>\n",
              "      <td>Negative</td>\n",
              "      <td>176</td>\n",
              "      <td>0.155340</td>\n",
              "    </tr>\n",
              "    <tr>\n",
              "      <th>0</th>\n",
              "      <td>Neutral</td>\n",
              "      <td>410</td>\n",
              "      <td>0.361871</td>\n",
              "    </tr>\n",
              "    <tr>\n",
              "      <th>1</th>\n",
              "      <td>Positive</td>\n",
              "      <td>547</td>\n",
              "      <td>0.482789</td>\n",
              "    </tr>\n",
              "  </tbody>\n",
              "</table>\n",
              "</div>"
            ],
            "text/plain": [
              "          sentiment  count  % of total\n",
              "sentiment                             \n",
              "-1         Negative    176    0.155340\n",
              " 0          Neutral    410    0.361871\n",
              " 1         Positive    547    0.482789"
            ]
          },
          "metadata": {
            "tags": []
          },
          "execution_count": 242
        }
      ]
    },
    {
      "cell_type": "code",
      "metadata": {
        "id": "VWMUG07coGNd"
      },
      "source": [
        ""
      ],
      "execution_count": null,
      "outputs": []
    }
  ]
}